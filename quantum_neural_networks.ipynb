{
 "cells": [
  {
   "cell_type": "code",
   "execution_count": 49,
   "id": "69ec5192",
   "metadata": {},
   "outputs": [],
   "source": [
    "import itertools\n",
    "import matplotlib\n",
    "import math\n",
    "%matplotlib inline"
   ]
  },
  {
   "cell_type": "code",
   "execution_count": 97,
   "id": "1a05391f",
   "metadata": {},
   "outputs": [],
   "source": [
    "from qiskit import *\n",
    "from qiskit.tools.visualization import plot_histogram"
   ]
  },
  {
   "cell_type": "code",
   "execution_count": 94,
   "id": "1ba37c8d",
   "metadata": {},
   "outputs": [],
   "source": [
    "class QuantumNeuralNetwork():\n",
    "    def __init__(self, qubit_amount):\n",
    "        # The last qubit is the ancilla qubit\n",
    "        self._quantum_registers = QuantumRegister(qubit_amount, 'q')\n",
    "        self._ancilla = QuantumRegister(1, 'ancilla')\n",
    "        self._classical_register = ClassicalRegister(1, 'c')\n",
    "        self._possible_qubits = self.get_possible_qubits(qubit_amount)\n",
    "        self._circuit = QuantumCircuit(self._quantum_registers, self._ancilla, self._classical_register)\n",
    "        \n",
    "    def get_possible_qubits(self, qubit_amount):\n",
    "        inputs = []\n",
    "        for x in map(''.join, itertools.product('01', repeat=qubit_amount)):\n",
    "            inputs.append(x)\n",
    "        return inputs\n",
    "    \n",
    "    def append_hadamard_gates(self):\n",
    "        for qr in self._quantum_registers:\n",
    "            self._circuit.h(qr)\n",
    "        return\n",
    "\n",
    "    def append_negative_gates_to_0_qubits(self, qubits):\n",
    "        qr_num = 0\n",
    "        for char_index in range(len(qubits)):\n",
    "            qubit = qubits[char_index]\n",
    "            if qubit == '0':\n",
    "                self._circuit.x(self._quantum_registers[qr_num])\n",
    "        return\n",
    "    \n",
    "    def append_brute_force(self, input):\n",
    "        qr = self._quantum_registers\n",
    "        circuit = self._circuit\n",
    "        if len(input) > len(self._possible_qubits):\n",
    "            raise Exception(\"The number of values of the input is bigger than the possible amount of values\")\n",
    "            \n",
    "        index = 0\n",
    "        for entry in input:\n",
    "            if entry < 0:\n",
    "                self.append_negative_gates_to_0_qubits(self._possible_qubits[index])\n",
    "                self._circuit.mcx(self._quantum_registers, self._ancilla, mode='noancilla')\n",
    "                self.append_negative_gates_to_0_qubits(self._possible_qubits[index])\n",
    "            index += 1                \n",
    "        return\n",
    "    \n",
    "    def draw_circuit(self):\n",
    "        self._circuit.measure(self._ancilla, self._classical_register)\n",
    "        self._circuit.draw(output='mpl')"
   ]
  },
  {
   "cell_type": "code",
   "execution_count": 95,
   "id": "d2da23cc",
   "metadata": {},
   "outputs": [
    {
     "data": {
      "image/png": "[encoded data removed]",
      "text/plain": [
       "<Figure size 502.309x264.88 with 1 Axes>"
      ]
     },
     "execution_count": 95,
     "metadata": {},
     "output_type": "execute_result"
    }
   ],
   "source": [
    "nn = QuantumNeuralNetwork(2)\n",
    "nn.append_hadamard_gates()\n",
    "nn.append_brute_force([1, -1, 1, -1])\n",
    "nn.append_hadamard_gates()\n",
    "nn.draw_circuit()\n",
    "nn._circuit.draw(output='mpl')"
   ]
  },
  {
   "cell_type": "code",
   "execution_count": 98,
   "id": "f0a7209d",
   "metadata": {},
   "outputs": [
    {
     "data": {
      "image/png": "[encoded data removed]",
      "text/plain": [
       "<Figure size 504x360 with 1 Axes>"
      ]
     },
     "execution_count": 98,
     "metadata": {},
     "output_type": "execute_result"
    }
   ],
   "source": [
    "simulator = Aer.get_backend('qasm_simulator')\n",
    "result = execute(nn._circuit, backend = simulator).result()\n",
    "plot_histogram(result.get_counts(nn._circuit))"
   ]
  },
  {
   "cell_type": "code",
   "execution_count": null,
   "id": "c5443006",
   "metadata": {},
   "outputs": [],
   "source": []
  }
 ],
 "metadata": {
  "kernelspec": {
   "display_name": "Python 3",
   "language": "python",
   "name": "python3"
  },
  "language_info": {
   "codemirror_mode": {
    "name": "ipython",
    "version": 3
   },
   "file_extension": ".py",
   "mimetype": "text/x-python",
   "name": "python",
   "nbconvert_exporter": "python",
   "pygments_lexer": "ipython3",
   "version": "3.9.5"
  }
 },
 "nbformat": 4,
 "nbformat_minor": 5
}
