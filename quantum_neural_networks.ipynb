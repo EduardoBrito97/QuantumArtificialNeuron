{
 "cells": [
  {
   "cell_type": "code",
   "execution_count": 1,
   "id": "4e6b68d6",
   "metadata": {},
   "outputs": [],
   "source": [
    "import itertools\n",
    "import matplotlib\n",
    "import math\n",
    "%matplotlib inline"
   ]
  },
  {
   "cell_type": "code",
   "execution_count": 2,
   "id": "36945474",
   "metadata": {},
   "outputs": [],
   "source": [
    "from qiskit import *\n",
    "from qiskit.tools.visualization import plot_histogram\n",
    "from tabulate import tabulate"
   ]
  },
  {
   "cell_type": "code",
   "execution_count": 3,
   "id": "9c0bf96d",
   "metadata": {},
   "outputs": [],
   "source": [
    "class QuantumNeuralNetwork():\n",
    "    def __init__(self, qubit_amount):\n",
    "        # The last qubit is the ancilla qubit\n",
    "        self._quantum_registers = QuantumRegister(qubit_amount, 'q')\n",
    "        self._ancilla = QuantumRegister(1, 'ancilla')\n",
    "        self._classical_register = ClassicalRegister(1, 'c')\n",
    "        self._possible_qubits = self.get_possible_qubits(qubit_amount)\n",
    "        self._circuit = QuantumCircuit(self._quantum_registers, self._ancilla, self._classical_register)\n",
    "        return\n",
    "        \n",
    "    def get_possible_qubits(self, qubit_amount):\n",
    "        inputs = []\n",
    "        for x in map(''.join, itertools.product('01', repeat=qubit_amount)):\n",
    "            inputs.append(x)\n",
    "        return inputs\n",
    "    \n",
    "    def append_hadamard_gates(self):\n",
    "        for qr in self._quantum_registers:\n",
    "            self._circuit.h(qr)\n",
    "        return\n",
    "\n",
    "    def append_negative_gates_to_0_qubits(self, qubits):\n",
    "        qr_num = 0\n",
    "        for char_index in range(len(qubits)):\n",
    "            qubit = qubits[char_index]\n",
    "            if qubit == '0':\n",
    "                self._circuit.x(self._quantum_registers[qr_num])\n",
    "            qr_num += 1\n",
    "        return\n",
    "    \n",
    "    def map_input_amplitudes_to_qubits(self, input):        \n",
    "        headers = []\n",
    "        index = 0\n",
    "        for qr in self._quantum_registers:\n",
    "            headers.append(\"q\" + str(index))\n",
    "            index += 1\n",
    "        headers.append(\"ampl\")\n",
    "        \n",
    "        qubits = []\n",
    "        index = 0\n",
    "        for entry in input:\n",
    "            qubit = []\n",
    "            qubits_string = self._possible_qubits[index]\n",
    "            \n",
    "            for char_index in range(len(qubits_string)):\n",
    "                qubit.append(qubits_string[char_index])\n",
    "            \n",
    "            qubit.append(str(entry))\n",
    "            qubits.append(qubit)\n",
    "            \n",
    "            index += 1\n",
    "        \n",
    "        print(tabulate(qubits, headers=headers))\n",
    "        return\n",
    "    \n",
    "    def draw_circuit(self):\n",
    "        self._circuit.measure(self._ancilla, self._classical_register)\n",
    "        self._circuit.draw(output='mpl')\n",
    "        return"
   ]
  },
  {
   "cell_type": "code",
   "execution_count": 4,
   "id": "09c6c84e",
   "metadata": {},
   "outputs": [],
   "source": [
    "class BruteForceQnn(QuantumNeuralNetwork):\n",
    "    def append_circuit(self, input):\n",
    "        qr = self._quantum_registers\n",
    "        circuit = self._circuit\n",
    "        if len(input) > len(self._possible_qubits):\n",
    "            raise Exception(\"The number of values of the input is bigger than the possible amount of values\")\n",
    "            \n",
    "        index = 0\n",
    "        for entry in input:\n",
    "            if entry < 0:\n",
    "                self.append_negative_gates_to_0_qubits(self._possible_qubits[index])\n",
    "                self._circuit.mcx(self._quantum_registers, self._ancilla, mode='noancilla')\n",
    "                self.append_negative_gates_to_0_qubits(self._possible_qubits[index])\n",
    "            index += 1                \n",
    "        return"
   ]
  },
  {
   "cell_type": "code",
   "execution_count": 5,
   "id": "3dd1edee",
   "metadata": {},
   "outputs": [],
   "source": [
    "class HSGSQnn(QuantumNeuralNetwork):\n",
    "    def append_circuit(self, input):\n",
    "        qr = self._quantum_registers\n",
    "        circuit = self._circuit\n",
    "        if len(input) > len(self._possible_qubits):\n",
    "            raise Exception(\"The number of values of the input is bigger than the possible amount of values\")\n",
    "            \n",
    "        index = 0\n",
    "        for entry in input:\n",
    "            if entry < 0:\n",
    "                self.append_negative_gates_to_0_qubits(self._possible_qubits[index])\n",
    "                self._circuit.mcx(self._quantum_registers, self._ancilla, mode='noancilla')\n",
    "                self.append_negative_gates_to_0_qubits(self._possible_qubits[index])\n",
    "            index += 1                \n",
    "        return"
   ]
  },
  {
   "cell_type": "code",
   "execution_count": 6,
   "id": "2d5ea3d7",
   "metadata": {},
   "outputs": [],
   "source": [
    "class PhaseShiftQnn(QuantumNeuralNetwork):\n",
    "    def append_circuit(self, input):\n",
    "        qr = self._quantum_registers\n",
    "        circuit = self._circuit\n",
    "        if len(input) > len(self._possible_qubits):\n",
    "            raise Exception(\"The number of values of the input is bigger than the possible amount of values\")\n",
    "            \n",
    "        index = 0\n",
    "        for entry in input:\n",
    "            if entry < 0:\n",
    "                self.append_negative_gates_to_0_qubits(self._possible_qubits[index])\n",
    "                self._circuit.mcx(self._quantum_registers, self._ancilla, mode='noancilla')\n",
    "                self.append_negative_gates_to_0_qubits(self._possible_qubits[index])\n",
    "            index += 1                \n",
    "        return"
   ]
  },
  {
   "cell_type": "code",
   "execution_count": 7,
   "id": "3444f54e",
   "metadata": {},
   "outputs": [
    {
     "name": "stdout",
     "output_type": "stream",
     "text": [
      "  q0    q1    q2    ampl\n",
      "----  ----  ----  ------\n",
      "   0     0     0       1\n",
      "   0     0     1      -1\n",
      "   0     1     0       1\n",
      "   0     1     1      -1\n",
      "   1     0     0       1\n",
      "   1     0     1      -1\n",
      "   1     1     0       1\n",
      "   1     1     1      -1\n"
     ]
    },
    {
     "data": {
      "image/png": "[encoded data removed]",
      "text/plain": [
       "<Figure size 803.309x325.08 with 1 Axes>"
      ]
     },
     "execution_count": 7,
     "metadata": {},
     "output_type": "execute_result"
    }
   ],
   "source": [
    "input = [1, -1, 1, -1, 1, -1, 1, -1]\n",
    "nn = BruteForceQnn(3)\n",
    "\n",
    "nn.append_hadamard_gates()\n",
    "nn.append_circuit(input)\n",
    "nn.map_input_amplitudes_to_qubits(input)\n",
    "nn.append_hadamard_gates()\n",
    "\n",
    "nn.draw_circuit()\n",
    "nn._circuit.draw(output='mpl')"
   ]
  },
  {
   "cell_type": "code",
   "execution_count": 8,
   "id": "47e700cb",
   "metadata": {},
   "outputs": [
    {
     "data": {
      "image/png": "[encoded data removed]",
      "text/plain": [
       "<Figure size 504x360 with 1 Axes>"
      ]
     },
     "execution_count": 8,
     "metadata": {},
     "output_type": "execute_result"
    }
   ],
   "source": [
    "simulator = Aer.get_backend('qasm_simulator')\n",
    "result = execute(nn._circuit, backend = simulator).result()\n",
    "plot_histogram(result.get_counts(nn._circuit))"
   ]
  },
  {
   "cell_type": "code",
   "execution_count": null,
   "id": "13324853",
   "metadata": {},
   "outputs": [],
   "source": []
  }
 ],
 "metadata": {
  "kernelspec": {
   "display_name": "Python 3",
   "language": "python",
   "name": "python3"
  },
  "language_info": {
   "codemirror_mode": {
    "name": "ipython",
    "version": 3
   },
   "file_extension": ".py",
   "mimetype": "text/x-python",
   "name": "python",
   "nbconvert_exporter": "python",
   "pygments_lexer": "ipython3",
   "version": "3.9.5"
  }
 },
 "nbformat": 4,
 "nbformat_minor": 5
}
