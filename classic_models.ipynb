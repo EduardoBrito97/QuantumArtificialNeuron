{
 "cells": [
  {
   "cell_type": "code",
   "execution_count": 1,
   "id": "eb7769ff",
   "metadata": {},
   "outputs": [],
   "source": [
    "# !pip install sklearn"
   ]
  },
  {
   "cell_type": "code",
   "execution_count": 2,
   "id": "07bacbe7",
   "metadata": {},
   "outputs": [],
   "source": [
    "from sklearn.neural_network import MLPClassifier\n",
    "from sklearn.model_selection import train_test_split\n",
    "from sklearn.metrics import confusion_matrix\n",
    "from sklearn.linear_model import Perceptron\n",
    "from sklearn.metrics import classification_report"
   ]
  },
  {
   "cell_type": "code",
   "execution_count": 3,
   "id": "760dae28",
   "metadata": {},
   "outputs": [],
   "source": [
    "%run dataset_reader.ipynb"
   ]
  },
  {
   "cell_type": "code",
   "execution_count": 4,
   "id": "0a43bb9d",
   "metadata": {},
   "outputs": [],
   "source": [
    "breast_tissue_x, breast_tissue_y = get_splitted_and_normalized_dataset('breast_tissue_data.csv')\n",
    "caesarian_x, caesarian_y = get_splitted_and_normalized_dataset('caesarian.arff')"
   ]
  },
  {
   "cell_type": "code",
   "execution_count": 5,
   "id": "d063ef4a",
   "metadata": {},
   "outputs": [],
   "source": [
    "datasets_data = {}\n",
    "datasets_data['breast_tissue'] = {}\n",
    "datasets_data['caesarian'] = {}\n",
    "\n",
    "datasets_data['breast_tissue']['x'] = breast_tissue_x\n",
    "datasets_data['breast_tissue']['y'] = breast_tissue_y\n",
    "datasets_data['breast_tissue']['hidden_layers'] = [9, 32, 32, 6]\n",
    "datasets_data['breast_tissue']['labels'] = ['car', 'fad', 'mas', 'gla', 'con', 'adi']\n",
    "\n",
    "datasets_data['caesarian']['x'] = caesarian_x\n",
    "datasets_data['caesarian']['y'] = caesarian_y\n",
    "datasets_data['caesarian']['hidden_layers'] = [5, 32, 32, 2]\n",
    "datasets_data['caesarian']['labels'] = [1.0, 0.0]"
   ]
  },
  {
   "cell_type": "code",
   "execution_count": 6,
   "id": "7c52dc89",
   "metadata": {},
   "outputs": [
    {
     "name": "stdout",
     "output_type": "stream",
     "text": [
      "Starting MLP: breast_tissue\n",
      "Starting Perceptron: breast_tissue\n",
      "Finish: breast_tissue\n",
      "Starting MLP: caesarian\n",
      "Starting Perceptron: caesarian\n",
      "Finish: caesarian\n"
     ]
    }
   ],
   "source": [
    "matrixes = {}\n",
    "matrixes['MLP'] = {}\n",
    "matrixes['Perceptron'] = {}\n",
    "\n",
    "reports = {}\n",
    "reports['MLP'] = {}\n",
    "reports['Perceptron'] = {}\n",
    "\n",
    "for dataset_name in datasets_data:\n",
    "    X = datasets_data[dataset_name]['x']\n",
    "    y = datasets_data[dataset_name]['y']\n",
    "    X_train, X_test, y_train, y_test = train_test_split(X, y, stratify=y, random_state=1, test_size = 0.3)\n",
    "    \n",
    "    print(\"Starting MLP: \" + dataset_name)\n",
    "    classifier = MLPClassifier(hidden_layer_sizes = datasets_data[dataset_name]['hidden_layers'],\n",
    "                                  activation = 'relu',\n",
    "                                  solver = 'adam',\n",
    "                                  learning_rate = 'constant',\n",
    "                                  learning_rate_init = 0.000001,\n",
    "                                  max_iter = 1000,\n",
    "                                  validation_fraction = 0.1)\n",
    "    classifier = classifier.fit(X_train, y_train)\n",
    "    y_pred = classifier.predict(X_test)\n",
    "    \n",
    "    matrixes['MLP'][dataset_name] = confusion_matrix(y_test, y_pred, labels = datasets_data[dataset_name]['labels'])\n",
    "    reports['MLP'][dataset_name] = classification_report(y_test, y_pred, labels = datasets_data[dataset_name]['labels'], zero_division = 0)\n",
    "    \n",
    "    print(\"Starting Perceptron: \" + dataset_name)\n",
    "    perceptron = Perceptron(penalty = 'l2',  # l2 = mean of the square root of the difference between the square\n",
    "                            max_iter = 1000,\n",
    "                            validation_fraction = 0.1)\n",
    "    perceptron = perceptron.fit(X_train, y_train)\n",
    "    y_pred = perceptron.predict(X_test)\n",
    "    \n",
    "    matrixes['Perceptron'][dataset_name] = confusion_matrix(y_test, y_pred, labels = datasets_data[dataset_name]['labels'])\n",
    "    reports['Perceptron'][dataset_name] = classification_report(y_test, y_pred, labels = datasets_data[dataset_name]['labels'], zero_division = 0)\n",
    "    \n",
    "    print(\"Finish: \" + dataset_name)"
   ]
  },
  {
   "cell_type": "code",
   "execution_count": 7,
   "id": "f9d1cd90",
   "metadata": {},
   "outputs": [
    {
     "data": {
      "text/plain": [
       "{'MLP': {'breast_tissue': array([[5, 0, 0, 0, 0, 0],\n",
       "         [4, 0, 0, 0, 0, 0],\n",
       "         [5, 0, 0, 0, 0, 0],\n",
       "         [4, 0, 0, 0, 0, 0],\n",
       "         [3, 0, 0, 0, 0, 0],\n",
       "         [6, 0, 0, 0, 0, 0]], dtype=int64),\n",
       "  'caesarian': array([[12,  0],\n",
       "         [ 8,  0]], dtype=int64)},\n",
       " 'Perceptron': {'breast_tissue': array([[4, 0, 1, 0, 0, 0],\n",
       "         [0, 0, 0, 4, 0, 0],\n",
       "         [0, 0, 0, 5, 0, 0],\n",
       "         [0, 0, 0, 4, 0, 0],\n",
       "         [0, 0, 1, 0, 1, 1],\n",
       "         [0, 0, 0, 0, 0, 6]], dtype=int64),\n",
       "  'caesarian': array([[ 0, 12],\n",
       "         [ 0,  8]], dtype=int64)}}"
      ]
     },
     "execution_count": 7,
     "metadata": {},
     "output_type": "execute_result"
    }
   ],
   "source": [
    "matrixes"
   ]
  },
  {
   "cell_type": "code",
   "execution_count": 8,
   "id": "31ae7382",
   "metadata": {},
   "outputs": [
    {
     "name": "stdout",
     "output_type": "stream",
     "text": [
      "MLP - breast_tissue ---------------------------------------\n",
      "              precision    recall  f1-score   support\n",
      "\n",
      "         car       0.19      1.00      0.31         5\n",
      "         fad       0.00      0.00      0.00         4\n",
      "         mas       0.00      0.00      0.00         5\n",
      "         gla       0.00      0.00      0.00         4\n",
      "         con       0.00      0.00      0.00         3\n",
      "         adi       0.00      0.00      0.00         6\n",
      "\n",
      "    accuracy                           0.19        27\n",
      "   macro avg       0.03      0.17      0.05        27\n",
      "weighted avg       0.03      0.19      0.06        27\n",
      "\n",
      "---------------------------------------------------------------\n",
      "MLP - caesarian ---------------------------------------\n",
      "              precision    recall  f1-score   support\n",
      "\n",
      "         1.0       0.60      1.00      0.75        12\n",
      "         0.0       0.00      0.00      0.00         8\n",
      "\n",
      "    accuracy                           0.60        20\n",
      "   macro avg       0.30      0.50      0.37        20\n",
      "weighted avg       0.36      0.60      0.45        20\n",
      "\n",
      "---------------------------------------------------------------\n",
      "Perceptron - breast_tissue ---------------------------------------\n",
      "              precision    recall  f1-score   support\n",
      "\n",
      "         car       1.00      0.80      0.89         5\n",
      "         fad       0.00      0.00      0.00         4\n",
      "         mas       0.00      0.00      0.00         5\n",
      "         gla       0.31      1.00      0.47         4\n",
      "         con       1.00      0.33      0.50         3\n",
      "         adi       0.86      1.00      0.92         6\n",
      "\n",
      "    accuracy                           0.56        27\n",
      "   macro avg       0.53      0.52      0.46        27\n",
      "weighted avg       0.53      0.56      0.50        27\n",
      "\n",
      "---------------------------------------------------------------\n",
      "Perceptron - caesarian ---------------------------------------\n",
      "              precision    recall  f1-score   support\n",
      "\n",
      "         1.0       0.00      0.00      0.00        12\n",
      "         0.0       0.40      1.00      0.57         8\n",
      "\n",
      "    accuracy                           0.40        20\n",
      "   macro avg       0.20      0.50      0.29        20\n",
      "weighted avg       0.16      0.40      0.23        20\n",
      "\n",
      "---------------------------------------------------------------\n"
     ]
    }
   ],
   "source": [
    "for algorithm in reports:\n",
    "    for dataset_name in reports[algorithm]:\n",
    "        print(algorithm + \" - \" + dataset_name + ' ---------------------------------------')\n",
    "        print(reports[algorithm][dataset_name])\n",
    "        print('---------------------------------------------------------------')"
   ]
  }
 ],
 "metadata": {
  "kernelspec": {
   "display_name": "Python 3",
   "language": "python",
   "name": "python3"
  },
  "language_info": {
   "codemirror_mode": {
    "name": "ipython",
    "version": 3
   },
   "file_extension": ".py",
   "mimetype": "text/x-python",
   "name": "python",
   "nbconvert_exporter": "python",
   "pygments_lexer": "ipython3",
   "version": "3.9.5"
  }
 },
 "nbformat": 4,
 "nbformat_minor": 5
}
