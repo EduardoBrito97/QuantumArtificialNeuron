{
 "cells": [
  {
   "cell_type": "code",
   "execution_count": 8,
   "source": [
    "# !pip install sklearn"
   ],
   "outputs": [],
   "metadata": {}
  },
  {
   "cell_type": "code",
   "execution_count": 9,
   "source": [
    "import pandas as pd\r\n",
    "from sklearn.neural_network import MLPClassifier\r\n",
    "from sklearn.model_selection import train_test_split\r\n",
    "from sklearn.metrics import confusion_matrix\r\n",
    "from sklearn.linear_model import Perceptron\r\n",
    "from sklearn.metrics import classification_report"
   ],
   "outputs": [],
   "metadata": {}
  },
  {
   "cell_type": "code",
   "execution_count": 10,
   "source": [
    "%run dataset_reader.ipynb"
   ],
   "outputs": [],
   "metadata": {}
  },
  {
   "cell_type": "markdown",
   "source": [
    "# Config"
   ],
   "metadata": {}
  },
  {
   "cell_type": "code",
   "execution_count": 11,
   "source": [
    "RANDOM_STATE_VALUE = 0\r\n",
    "epochs = 20\r\n",
    "lr_space = [0.02, 0.1, 0.001, 0.9]"
   ],
   "outputs": [],
   "metadata": {}
  },
  {
   "cell_type": "code",
   "execution_count": 12,
   "source": [
    "results = {}\r\n",
    "results['dataset'] = []\r\n",
    "results['model'] = []\r\n",
    "results['lr'] = []\r\n",
    "results['report'] = []\r\n",
    "results['matrix'] = []"
   ],
   "outputs": [],
   "metadata": {}
  },
  {
   "cell_type": "markdown",
   "source": [
    "# Caesarian"
   ],
   "metadata": {}
  },
  {
   "cell_type": "code",
   "execution_count": 13,
   "source": [
    "caesarian_x, caesarian_y = get_splitted_and_normalized_dataset(CAESARIAN)\r\n",
    "X_train, X_test, y_train, y_test = train_test_split(caesarian_x, caesarian_y, stratify=caesarian_y, random_state=RANDOM_STATE_VALUE, test_size = 0.2)"
   ],
   "outputs": [],
   "metadata": {}
  },
  {
   "cell_type": "markdown",
   "source": [
    "## Perceptron"
   ],
   "metadata": {}
  },
  {
   "cell_type": "code",
   "execution_count": 14,
   "source": [
    "for lr in lr_space:\r\n",
    "    perceptron = Perceptron(penalty = 'l2',  # l2 = mean of the square root of the difference between the square\r\n",
    "                            max_iter = epochs,\r\n",
    "                            alpha=lr)\r\n",
    "    perceptron = perceptron.fit(X_train, y_train)\r\n",
    "    y_pred = perceptron.predict(X_test)\r\n",
    "    \r\n",
    "    matrix = confusion_matrix(y_test, y_pred)\r\n",
    "    report = classification_report(y_test, y_pred, zero_division = 0)\r\n",
    "\r\n",
    "    results['dataset'].append(CAESARIAN)\r\n",
    "    results['model'].append('perceptron')\r\n",
    "    results['lr'].append(lr)\r\n",
    "    results['report'].append(report)\r\n",
    "    results['matrix'].append(matrix)\r\n",
    "\r\n",
    "    print('lr: ', lr)\r\n",
    "    print(matrix)\r\n",
    "    print(report)\r\n",
    "    print('-------------------')"
   ],
   "outputs": [
    {
     "output_type": "stream",
     "name": "stdout",
     "text": [
      "lr:  0.02\n",
      "[[7 0]\n",
      " [8 1]]\n",
      "              precision    recall  f1-score   support\n",
      "\n",
      "         0.0       0.47      1.00      0.64         7\n",
      "         1.0       1.00      0.11      0.20         9\n",
      "\n",
      "    accuracy                           0.50        16\n",
      "   macro avg       0.73      0.56      0.42        16\n",
      "weighted avg       0.77      0.50      0.39        16\n",
      "\n",
      "-------------------\n",
      "lr:  0.1\n",
      "[[0 7]\n",
      " [0 9]]\n",
      "              precision    recall  f1-score   support\n",
      "\n",
      "         0.0       0.00      0.00      0.00         7\n",
      "         1.0       0.56      1.00      0.72         9\n",
      "\n",
      "    accuracy                           0.56        16\n",
      "   macro avg       0.28      0.50      0.36        16\n",
      "weighted avg       0.32      0.56      0.40        16\n",
      "\n",
      "-------------------\n"
     ]
    }
   ],
   "metadata": {}
  },
  {
   "cell_type": "markdown",
   "source": [
    "## MLP"
   ],
   "metadata": {}
  },
  {
   "cell_type": "code",
   "execution_count": 15,
   "source": [
    "for lr in lr_space:\r\n",
    "    mlp = MLPClassifier(hidden_layer_sizes = [8, 32, 32, 2],\r\n",
    "                                  activation = 'relu',\r\n",
    "                                  solver = 'sgd',\r\n",
    "                                  learning_rate = 'constant',\r\n",
    "                                  learning_rate_init = lr,\r\n",
    "                                  max_iter = epochs)\r\n",
    "    mlp = mlp.fit(X_train, y_train)\r\n",
    "    y_pred = mlp.predict(X_test)\r\n",
    "    \r\n",
    "    matrix = confusion_matrix(y_test, y_pred)\r\n",
    "    report = classification_report(y_test, y_pred, zero_division = 0)\r\n",
    "\r\n",
    "    results['dataset'].append(CAESARIAN)\r\n",
    "    results['model'].append('mlp')\r\n",
    "    results['lr'].append(lr)\r\n",
    "    results['report'].append(report)\r\n",
    "    results['matrix'].append(matrix)\r\n",
    "\r\n",
    "    print('lr: ', lr)\r\n",
    "    print(matrix)\r\n",
    "    print(report)\r\n",
    "    print('-------------------')"
   ],
   "outputs": [
    {
     "output_type": "stream",
     "name": "stdout",
     "text": [
      "lr:  0.02\n",
      "[[4 3]\n",
      " [3 6]]\n",
      "              precision    recall  f1-score   support\n",
      "\n",
      "         0.0       0.57      0.57      0.57         7\n",
      "         1.0       0.67      0.67      0.67         9\n",
      "\n",
      "    accuracy                           0.62        16\n",
      "   macro avg       0.62      0.62      0.62        16\n",
      "weighted avg       0.62      0.62      0.62        16\n",
      "\n",
      "-------------------\n",
      "lr:  0.1\n",
      "[[0 7]\n",
      " [0 9]]\n",
      "              precision    recall  f1-score   support\n",
      "\n",
      "         0.0       0.00      0.00      0.00         7\n",
      "         1.0       0.56      1.00      0.72         9\n",
      "\n",
      "    accuracy                           0.56        16\n",
      "   macro avg       0.28      0.50      0.36        16\n",
      "weighted avg       0.32      0.56      0.40        16\n",
      "\n",
      "-------------------\n"
     ]
    },
    {
     "output_type": "stream",
     "name": "stderr",
     "text": [
      "C:\\Users\\Eduardo Barreto\\AppData\\Local\\Programs\\Python\\Python39\\lib\\site-packages\\sklearn\\neural_network\\_multilayer_perceptron.py:614: ConvergenceWarning: Stochastic Optimizer: Maximum iterations (20) reached and the optimization hasn't converged yet.\n",
      "  warnings.warn(\n",
      "C:\\Users\\Eduardo Barreto\\AppData\\Local\\Programs\\Python\\Python39\\lib\\site-packages\\sklearn\\neural_network\\_multilayer_perceptron.py:614: ConvergenceWarning: Stochastic Optimizer: Maximum iterations (20) reached and the optimization hasn't converged yet.\n",
      "  warnings.warn(\n"
     ]
    }
   ],
   "metadata": {}
  },
  {
   "cell_type": "markdown",
   "source": [
    "# Breast Tissue"
   ],
   "metadata": {}
  },
  {
   "cell_type": "code",
   "execution_count": 16,
   "source": [
    "breast_tissue_x, breast_tissue_y = get_splitted_and_normalized_dataset(BREAST_TISSUE, False)\r\n",
    "X_train, X_test, y_train, y_test = train_test_split(breast_tissue_x, breast_tissue_y, stratify=breast_tissue_y, random_state=RANDOM_STATE_VALUE, test_size = 0.2)"
   ],
   "outputs": [],
   "metadata": {}
  },
  {
   "cell_type": "markdown",
   "source": [
    "## Perceptron"
   ],
   "metadata": {}
  },
  {
   "cell_type": "code",
   "execution_count": 17,
   "source": [
    "for lr in lr_space:\r\n",
    "    perceptron = Perceptron(penalty = 'l2',  # l2 = mean of the square root of the difference between the square\r\n",
    "                            max_iter = epochs,\r\n",
    "                            alpha=lr)\r\n",
    "    perceptron = perceptron.fit(X_train, y_train)\r\n",
    "    y_pred = perceptron.predict(X_test)\r\n",
    "    \r\n",
    "    matrix = confusion_matrix(y_test, y_pred)\r\n",
    "    report = classification_report(y_test, y_pred, zero_division = 0)\r\n",
    "\r\n",
    "    results['dataset'].append(BREAST_TISSUE)\r\n",
    "    results['model'].append('perceptron')\r\n",
    "    results['lr'].append(lr)\r\n",
    "    results['report'].append(report)\r\n",
    "    results['matrix'].append(matrix)\r\n",
    "\r\n",
    "    print('lr: ', lr)\r\n",
    "    print(matrix)\r\n",
    "    print(report)\r\n",
    "    print('-------------------')"
   ],
   "outputs": [
    {
     "output_type": "stream",
     "name": "stdout",
     "text": [
      "lr:  0.02\n",
      "[[1 0 0 0 4 0]\n",
      " [0 0 0 0 4 0]\n",
      " [0 0 0 0 3 0]\n",
      " [0 0 0 0 3 0]\n",
      " [0 0 0 0 3 0]\n",
      " [0 0 0 0 4 0]]\n",
      "              precision    recall  f1-score   support\n",
      "\n",
      "         adi       1.00      0.20      0.33         5\n",
      "         car       0.00      0.00      0.00         4\n",
      "         con       0.00      0.00      0.00         3\n",
      "         fad       0.00      0.00      0.00         3\n",
      "         gla       0.14      1.00      0.25         3\n",
      "         mas       0.00      0.00      0.00         4\n",
      "\n",
      "    accuracy                           0.18        22\n",
      "   macro avg       0.19      0.20      0.10        22\n",
      "weighted avg       0.25      0.18      0.11        22\n",
      "\n",
      "-------------------\n",
      "lr:  0.1\n",
      "[[0 0 0 0 5 0]\n",
      " [0 0 0 0 4 0]\n",
      " [0 0 0 0 3 0]\n",
      " [0 0 0 0 3 0]\n",
      " [0 0 0 0 3 0]\n",
      " [0 0 0 0 4 0]]\n",
      "              precision    recall  f1-score   support\n",
      "\n",
      "         adi       0.00      0.00      0.00         5\n",
      "         car       0.00      0.00      0.00         4\n",
      "         con       0.00      0.00      0.00         3\n",
      "         fad       0.00      0.00      0.00         3\n",
      "         gla       0.14      1.00      0.24         3\n",
      "         mas       0.00      0.00      0.00         4\n",
      "\n",
      "    accuracy                           0.14        22\n",
      "   macro avg       0.02      0.17      0.04        22\n",
      "weighted avg       0.02      0.14      0.03        22\n",
      "\n",
      "-------------------\n"
     ]
    }
   ],
   "metadata": {}
  },
  {
   "cell_type": "markdown",
   "source": [
    "## MLP"
   ],
   "metadata": {}
  },
  {
   "cell_type": "code",
   "execution_count": 18,
   "source": [
    "for lr in lr_space:\r\n",
    "    mlp = MLPClassifier(hidden_layer_sizes = [9, 32, 32, 6],\r\n",
    "                                    activation = 'relu',\r\n",
    "                                    solver = 'sgd',\r\n",
    "                                    learning_rate = 'constant',\r\n",
    "                                    learning_rate_init = lr,\r\n",
    "                                    max_iter = epochs)\r\n",
    "    mlp = mlp.fit(X_train, y_train)\r\n",
    "    y_pred = mlp.predict(X_test)\r\n",
    "\r\n",
    "    matrix = confusion_matrix(y_test, y_pred)\r\n",
    "    report = classification_report(y_test, y_pred, zero_division = 0)\r\n",
    "\r\n",
    "    results['dataset'].append(BREAST_TISSUE)\r\n",
    "    results['model'].append('mlp')\r\n",
    "    results['lr'].append(lr)\r\n",
    "    results['report'].append(report)\r\n",
    "    results['matrix'].append(matrix)\r\n",
    "\r\n",
    "    print('lr: ', lr)\r\n",
    "    print(matrix)\r\n",
    "    print(report)\r\n",
    "    print('-------------------')"
   ],
   "outputs": [
    {
     "output_type": "stream",
     "name": "stdout",
     "text": [
      "lr:  0.02\n",
      "[[4 1 0 0 0 0]\n",
      " [0 4 0 0 0 0]\n",
      " [2 1 0 0 0 0]\n",
      " [0 3 0 0 0 0]\n",
      " [0 3 0 0 0 0]\n",
      " [0 4 0 0 0 0]]\n",
      "              precision    recall  f1-score   support\n",
      "\n",
      "         adi       0.67      0.80      0.73         5\n",
      "         car       0.25      1.00      0.40         4\n",
      "         con       0.00      0.00      0.00         3\n",
      "         fad       0.00      0.00      0.00         3\n",
      "         gla       0.00      0.00      0.00         3\n",
      "         mas       0.00      0.00      0.00         4\n",
      "\n",
      "    accuracy                           0.36        22\n",
      "   macro avg       0.15      0.30      0.19        22\n",
      "weighted avg       0.20      0.36      0.24        22\n",
      "\n",
      "-------------------\n",
      "lr:  0.1\n",
      "[[4 0 1 0 0 0]\n",
      " [3 1 0 0 0 0]\n",
      " [2 0 1 0 0 0]\n",
      " [0 0 0 0 0 3]\n",
      " [0 0 0 0 0 3]\n",
      " [1 2 0 0 0 1]]\n",
      "              precision    recall  f1-score   support\n",
      "\n",
      "         adi       0.40      0.80      0.53         5\n",
      "         car       0.33      0.25      0.29         4\n",
      "         con       0.50      0.33      0.40         3\n",
      "         fad       0.00      0.00      0.00         3\n",
      "         gla       0.00      0.00      0.00         3\n",
      "         mas       0.14      0.25      0.18         4\n",
      "\n",
      "    accuracy                           0.32        22\n",
      "   macro avg       0.23      0.27      0.23        22\n",
      "weighted avg       0.25      0.32      0.26        22\n",
      "\n",
      "-------------------\n"
     ]
    },
    {
     "output_type": "stream",
     "name": "stderr",
     "text": [
      "C:\\Users\\Eduardo Barreto\\AppData\\Local\\Programs\\Python\\Python39\\lib\\site-packages\\sklearn\\neural_network\\_multilayer_perceptron.py:614: ConvergenceWarning: Stochastic Optimizer: Maximum iterations (20) reached and the optimization hasn't converged yet.\n",
      "  warnings.warn(\n",
      "C:\\Users\\Eduardo Barreto\\AppData\\Local\\Programs\\Python\\Python39\\lib\\site-packages\\sklearn\\neural_network\\_multilayer_perceptron.py:614: ConvergenceWarning: Stochastic Optimizer: Maximum iterations (20) reached and the optimization hasn't converged yet.\n",
      "  warnings.warn(\n"
     ]
    }
   ],
   "metadata": {}
  },
  {
   "cell_type": "code",
   "execution_count": 19,
   "source": [
    "experiments = pd.DataFrame(results)\r\n",
    "experiments.to_csv('classic_models_results.csv')"
   ],
   "outputs": [],
   "metadata": {}
  }
 ],
 "metadata": {
  "kernelspec": {
   "name": "python3",
   "display_name": "Python 3.9.5 64-bit"
  },
  "language_info": {
   "codemirror_mode": {
    "name": "ipython",
    "version": 3
   },
   "file_extension": ".py",
   "mimetype": "text/x-python",
   "name": "python",
   "nbconvert_exporter": "python",
   "pygments_lexer": "ipython3",
   "version": "3.9.5"
  },
  "interpreter": {
   "hash": "42fbc002943581b16f5e964e90a2017da702e7a1739ff8858595e3331101e287"
  }
 },
 "nbformat": 4,
 "nbformat_minor": 5
}