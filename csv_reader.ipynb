{
 "cells": [
  {
   "cell_type": "code",
   "execution_count": 1,
   "source": [
    "import pandas as pd\r\n",
    "import matplotlib.pyplot as plt\r\n",
    "from statistics import stdev, mean\r\n",
    "from sklearn.metrics import plot_roc_curve\r\n",
    "from sklearn.neural_network import MLPClassifier\r\n",
    "from sklearn.linear_model import Perceptron\r\n",
    "from sklearn.model_selection import train_test_split\r\n",
    "%matplotlib inline\r\n",
    "%run dataset_reader.ipynb"
   ],
   "outputs": [],
   "metadata": {}
  },
  {
   "cell_type": "markdown",
   "source": [
    "# Config"
   ],
   "metadata": {}
  },
  {
   "cell_type": "code",
   "execution_count": 2,
   "source": [
    "def report_string_to_dict(report):\r\n",
    "    report_dict = {}\r\n",
    "    metrics = report.split('\\n')[0].split()\r\n",
    "    for row in report.split('\\n')[1:]:\r\n",
    "        splitted = row.split()\r\n",
    "        if len(splitted) > 4:\r\n",
    "            class_name_size = len(splitted[0:-4])\r\n",
    "            class_name = \" \".join(splitted[0:-4])\r\n",
    "            report_dict[class_name] = {}\r\n",
    "            for metric_index in range(len(metrics)):\r\n",
    "                metric = metrics[metric_index]\r\n",
    "                metric_val = splitted[metric_index + class_name_size]\r\n",
    "                report_dict[class_name][metric] = metric_val\r\n",
    "        elif len(splitted) > 0:\r\n",
    "            metric = splitted[0]\r\n",
    "            report_dict[metric] = {}\r\n",
    "            report_dict[metric][metrics[-2]] = splitted[1]\r\n",
    "            report_dict[metric][metrics[-1]] = splitted[2]\r\n",
    "    return report_dict"
   ],
   "outputs": [],
   "metadata": {}
  },
  {
   "cell_type": "code",
   "execution_count": 3,
   "source": [
    "def csv_to_dataframe(csv_name, csv_folder = \"\"):\r\n",
    "    if len(csv_folder) == 0:\r\n",
    "        return pd.read_csv(csv_name + \".csv\")\r\n",
    "    else:\r\n",
    "        return pd.read_csv(csv_folder + \"/\" + csv_name + \".csv\")"
   ],
   "outputs": [],
   "metadata": {}
  },
  {
   "cell_type": "markdown",
   "source": [
    "# Metrics"
   ],
   "metadata": {}
  },
  {
   "cell_type": "code",
   "execution_count": 4,
   "source": [
    "def get_metrics_avg(csv_name, dataset_name, model_name, folder_name = \"\", strategy = \"\", filter_dataset = True):\r\n",
    "    df = csv_to_dataframe(csv_name, folder_name)\r\n",
    "    \r\n",
    "    if filter_dataset:\r\n",
    "        df = df.loc[df['dataset'] == dataset_name]\r\n",
    "    if len(strategy) > 0:\r\n",
    "        df = df.loc[df['phase_strategy'] == strategy]\r\n",
    "    if len(model_name) > 0:\r\n",
    "        df = df.loc[df['model'] == model_name]\r\n",
    "        \r\n",
    "    reports_string = df['report'].tolist()\r\n",
    "    reports = []\r\n",
    "    for report in reports_string:\r\n",
    "        reports.append(report_string_to_dict(report))\r\n",
    "\r\n",
    "    accuracy = []\r\n",
    "    f1_score = []\r\n",
    "    f1_score_weighted = []\r\n",
    "    precision = []\r\n",
    "    recall = []\r\n",
    "\r\n",
    "    for report in reports:\r\n",
    "        accuracy.append(float(report['accuracy']['f1-score']))\r\n",
    "        precision.append(float(report['macro avg']['precision']))\r\n",
    "        recall.append(float(report['macro avg']['recall']))\r\n",
    "        f1_score.append(float(report['macro avg']['f1-score']))\r\n",
    "        f1_score_weighted.append(float(report['weighted avg']['f1-score']))\r\n",
    "\r\n",
    "    accuracy_dev = round(stdev(accuracy), 3)\r\n",
    "    precision_dev = round(stdev(precision), 3)\r\n",
    "    recall_dev = round(stdev(recall), 3)\r\n",
    "    f1_score_dev = round(stdev(accuracy), 3)\r\n",
    "    f1_score_weighted_dev = round(stdev(accuracy), 3)\r\n",
    "\r\n",
    "    accuracy_avg = round(mean(accuracy), 3)\r\n",
    "    precision_avg = round(mean(precision), 3)\r\n",
    "    recall_avg = round(mean(recall), 3)\r\n",
    "    f1_score_avg = round(mean(f1_score), 3)\r\n",
    "    f1_score_weighted_avg = round(mean(f1_score_weighted), 3)\r\n",
    "\r\n",
    "    result = {\r\n",
    "        'accuracy': {\r\n",
    "            'avg' : accuracy_avg,\r\n",
    "            'dev' : accuracy_dev\r\n",
    "        },\r\n",
    "        'f1_score': {\r\n",
    "            'avg' : f1_score_avg,\r\n",
    "            'dev' : f1_score_dev\r\n",
    "        },\r\n",
    "        'precision':{\r\n",
    "            'avg' : precision_avg,\r\n",
    "            'dev' : precision_dev\r\n",
    "        },\r\n",
    "        'recall':{\r\n",
    "            'avg' : recall_avg,\r\n",
    "            'dev' : recall_dev\r\n",
    "        },\r\n",
    "        'f1_score_weighted': {\r\n",
    "            'avg' : f1_score_weighted_avg,\r\n",
    "            'dev' : f1_score_weighted_dev\r\n",
    "        },\r\n",
    "    }\r\n",
    "\r\n",
    "    return result"
   ],
   "outputs": [],
   "metadata": {}
  },
  {
   "cell_type": "markdown",
   "source": [
    "## **Results**"
   ],
   "metadata": {}
  },
  {
   "cell_type": "markdown",
   "source": [
    "### **Caesarian**"
   ],
   "metadata": {}
  },
  {
   "cell_type": "code",
   "execution_count": 5,
   "source": [
    "get_metrics_avg('experiments_caesarian', 'caesarian.arff', 'sf', folder_name='results', filter_dataset=False)"
   ],
   "outputs": [
    {
     "output_type": "execute_result",
     "data": {
      "text/plain": [
       "{'accuracy': {'avg': 0.499, 'dev': 0.094},\n",
       " 'f1_score': {'avg': 0.438, 'dev': 0.094},\n",
       " 'precision': {'avg': 0.457, 'dev': 0.23},\n",
       " 'recall': {'avg': 0.539, 'dev': 0.087},\n",
       " 'f1_score_weighted': {'avg': 0.421, 'dev': 0.094}}"
      ]
     },
     "metadata": {},
     "execution_count": 5
    }
   ],
   "metadata": {}
  },
  {
   "cell_type": "code",
   "execution_count": 6,
   "source": [
    "get_metrics_avg('experiments_caesarian', 'caesarian.arff', 'hsgs', folder_name='results', filter_dataset=False)"
   ],
   "outputs": [
    {
     "output_type": "execute_result",
     "data": {
      "text/plain": [
       "{'accuracy': {'avg': 0.496, 'dev': 0.071},\n",
       " 'f1_score': {'avg': 0.414, 'dev': 0.071},\n",
       " 'precision': {'avg': 0.431, 'dev': 0.228},\n",
       " 'recall': {'avg': 0.541, 'dev': 0.06},\n",
       " 'f1_score_weighted': {'avg': 0.394, 'dev': 0.071}}"
      ]
     },
     "metadata": {},
     "execution_count": 6
    }
   ],
   "metadata": {}
  },
  {
   "cell_type": "code",
   "execution_count": 7,
   "source": [
    "get_metrics_avg('experiments_caesarian', 'caesarian.arff', 'phase-encoding', folder_name='results', filter_dataset=False, strategy=\"original\")"
   ],
   "outputs": [
    {
     "output_type": "execute_result",
     "data": {
      "text/plain": [
       "{'accuracy': {'avg': 0.466, 'dev': 0.073},\n",
       " 'f1_score': {'avg': 0.356, 'dev': 0.073},\n",
       " 'precision': {'avg': 0.322, 'dev': 0.191},\n",
       " 'recall': {'avg': 0.512, 'dev': 0.051},\n",
       " 'f1_score_weighted': {'avg': 0.334, 'dev': 0.073}}"
      ]
     },
     "metadata": {},
     "execution_count": 7
    }
   ],
   "metadata": {}
  },
  {
   "cell_type": "code",
   "execution_count": 8,
   "source": [
    "get_metrics_avg('experiments_caesarian', 'caesarian.arff', 'phase-encoding', folder_name='results', filter_dataset=False, strategy=\"angle\")"
   ],
   "outputs": [
    {
     "output_type": "execute_result",
     "data": {
      "text/plain": [
       "{'accuracy': {'avg': 0.477, 'dev': 0.072},\n",
       " 'f1_score': {'avg': 0.366, 'dev': 0.072},\n",
       " 'precision': {'avg': 0.337, 'dev': 0.212},\n",
       " 'recall': {'avg': 0.529, 'dev': 0.055},\n",
       " 'f1_score_weighted': {'avg': 0.341, 'dev': 0.072}}"
      ]
     },
     "metadata": {},
     "execution_count": 8
    }
   ],
   "metadata": {}
  },
  {
   "cell_type": "code",
   "execution_count": 9,
   "source": [
    "get_metrics_avg('experiments_caesarian', 'caesarian.arff', 'phase-encoding', folder_name='results', filter_dataset=False, strategy=\"radius\")"
   ],
   "outputs": [
    {
     "output_type": "execute_result",
     "data": {
      "text/plain": [
       "{'accuracy': {'avg': 0.47, 'dev': 0.093},\n",
       " 'f1_score': {'avg': 0.363, 'dev': 0.093},\n",
       " 'precision': {'avg': 0.309, 'dev': 0.182},\n",
       " 'recall': {'avg': 0.516, 'dev': 0.087},\n",
       " 'f1_score_weighted': {'avg': 0.34, 'dev': 0.093}}"
      ]
     },
     "metadata": {},
     "execution_count": 9
    }
   ],
   "metadata": {}
  },
  {
   "cell_type": "code",
   "execution_count": 10,
   "source": [
    "get_metrics_avg('experiments_caesarian', 'caesarian.arff', 'phase-encoding', folder_name='results', filter_dataset=False, strategy=\"angleradius\")"
   ],
   "outputs": [
    {
     "output_type": "execute_result",
     "data": {
      "text/plain": [
       "{'accuracy': {'avg': 0.42, 'dev': 0.06},\n",
       " 'f1_score': {'avg': 0.311, 'dev': 0.06},\n",
       " 'precision': {'avg': 0.274, 'dev': 0.139},\n",
       " 'recall': {'avg': 0.471, 'dev': 0.074},\n",
       " 'f1_score_weighted': {'avg': 0.285, 'dev': 0.06}}"
      ]
     },
     "metadata": {},
     "execution_count": 10
    }
   ],
   "metadata": {}
  },
  {
   "cell_type": "code",
   "execution_count": 11,
   "source": [
    "get_metrics_avg('classic_models_results', 'caesarian.arff', 'mlp', folder_name='results')"
   ],
   "outputs": [
    {
     "output_type": "execute_result",
     "data": {
      "text/plain": [
       "{'accuracy': {'avg': 0.571, 'dev': 0.069},\n",
       " 'f1_score': {'avg': 0.425, 'dev': 0.069},\n",
       " 'precision': {'avg': 0.37, 'dev': 0.181},\n",
       " 'recall': {'avg': 0.538, 'dev': 0.083},\n",
       " 'f1_score_weighted': {'avg': 0.449, 'dev': 0.069}}"
      ]
     },
     "metadata": {},
     "execution_count": 11
    }
   ],
   "metadata": {}
  },
  {
   "cell_type": "code",
   "execution_count": 12,
   "source": [
    "get_metrics_avg('classic_models_results', 'caesarian.arff', 'perceptron', folder_name='results')"
   ],
   "outputs": [
    {
     "output_type": "execute_result",
     "data": {
      "text/plain": [
       "{'accuracy': {'avg': 0.535, 'dev': 0.065},\n",
       " 'f1_score': {'avg': 0.393, 'dev': 0.065},\n",
       " 'precision': {'avg': 0.367, 'dev': 0.197},\n",
       " 'recall': {'avg': 0.53, 'dev': 0.059},\n",
       " 'f1_score_weighted': {'avg': 0.402, 'dev': 0.065}}"
      ]
     },
     "metadata": {},
     "execution_count": 12
    }
   ],
   "metadata": {}
  },
  {
   "cell_type": "markdown",
   "source": [
    "### **Breast Tissue**"
   ],
   "metadata": {}
  },
  {
   "cell_type": "markdown",
   "source": [
    "### **1 Neuron**"
   ],
   "metadata": {}
  },
  {
   "cell_type": "code",
   "execution_count": 13,
   "source": [
    "get_metrics_avg('experiments_breast_tissue_1_neuronio', 'breast_tissue_data.csv', 'sf', folder_name='results', filter_dataset=False)"
   ],
   "outputs": [
    {
     "output_type": "execute_result",
     "data": {
      "text/plain": [
       "{'accuracy': {'avg': 0.25, 'dev': 0.023},\n",
       " 'f1_score': {'avg': 0.225, 'dev': 0.023},\n",
       " 'precision': {'avg': 0.295, 'dev': 0.03},\n",
       " 'recall': {'avg': 0.24, 'dev': 0.023},\n",
       " 'f1_score_weighted': {'avg': 0.225, 'dev': 0.023}}"
      ]
     },
     "metadata": {},
     "execution_count": 13
    }
   ],
   "metadata": {}
  },
  {
   "cell_type": "code",
   "execution_count": 14,
   "source": [
    "get_metrics_avg('experiments_breast_tissue_1_neuronio', 'breast_tissue_data.csv', 'hsgs', folder_name='results', filter_dataset=False)"
   ],
   "outputs": [
    {
     "output_type": "execute_result",
     "data": {
      "text/plain": [
       "{'accuracy': {'avg': 0.234, 'dev': 0.028},\n",
       " 'f1_score': {'avg': 0.151, 'dev': 0.028},\n",
       " 'precision': {'avg': 0.146, 'dev': 0.102},\n",
       " 'recall': {'avg': 0.224, 'dev': 0.026},\n",
       " 'f1_score_weighted': {'avg': 0.155, 'dev': 0.028}}"
      ]
     },
     "metadata": {},
     "execution_count": 14
    }
   ],
   "metadata": {}
  },
  {
   "cell_type": "code",
   "execution_count": 15,
   "source": [
    "get_metrics_avg('experiments_breast_tissue_1_neuronio', 'breast_tissue_data.csv', 'phase-encoding', folder_name='results', filter_dataset=False, strategy=\"original\")"
   ],
   "outputs": [
    {
     "output_type": "execute_result",
     "data": {
      "text/plain": [
       "{'accuracy': {'avg': 0.165, 'dev': 0.052},\n",
       " 'f1_score': {'avg': 0.056, 'dev': 0.052},\n",
       " 'precision': {'avg': 0.035, 'dev': 0.021},\n",
       " 'recall': {'avg': 0.163, 'dev': 0.055},\n",
       " 'f1_score_weighted': {'avg': 0.061, 'dev': 0.052}}"
      ]
     },
     "metadata": {},
     "execution_count": 15
    }
   ],
   "metadata": {}
  },
  {
   "cell_type": "code",
   "execution_count": 16,
   "source": [
    "get_metrics_avg('experiments_breast_tissue_1_neuronio', 'breast_tissue_data.csv', 'phase-encoding', folder_name='results', filter_dataset=False, strategy=\"angle\")"
   ],
   "outputs": [
    {
     "output_type": "execute_result",
     "data": {
      "text/plain": [
       "{'accuracy': {'avg': 0.169, 'dev': 0.032},\n",
       " 'f1_score': {'avg': 0.059, 'dev': 0.032},\n",
       " 'precision': {'avg': 0.037, 'dev': 0.018},\n",
       " 'recall': {'avg': 0.165, 'dev': 0.023},\n",
       " 'f1_score_weighted': {'avg': 0.064, 'dev': 0.032}}"
      ]
     },
     "metadata": {},
     "execution_count": 16
    }
   ],
   "metadata": {}
  },
  {
   "cell_type": "code",
   "execution_count": 17,
   "source": [
    "get_metrics_avg('experiments_breast_tissue_1_neuronio', 'breast_tissue_data.csv', 'phase-encoding', folder_name='results', filter_dataset=False, strategy=\"radius\")"
   ],
   "outputs": [
    {
     "output_type": "execute_result",
     "data": {
      "text/plain": [
       "{'accuracy': {'avg': 0.181, 'dev': 0.065},\n",
       " 'f1_score': {'avg': 0.075, 'dev': 0.065},\n",
       " 'precision': {'avg': 0.048, 'dev': 0.029},\n",
       " 'recall': {'avg': 0.189, 'dev': 0.07},\n",
       " 'f1_score_weighted': {'avg': 0.075, 'dev': 0.065}}"
      ]
     },
     "metadata": {},
     "execution_count": 17
    }
   ],
   "metadata": {}
  },
  {
   "cell_type": "code",
   "execution_count": 18,
   "source": [
    "get_metrics_avg('experiments_breast_tissue_1_neuronio', 'breast_tissue_data.csv', 'phase-encoding', folder_name='results', filter_dataset=False, strategy=\"angleradius\")"
   ],
   "outputs": [
    {
     "output_type": "execute_result",
     "data": {
      "text/plain": [
       "{'accuracy': {'avg': 0.11, 'dev': 0.076},\n",
       " 'f1_score': {'avg': 0.051, 'dev': 0.076},\n",
       " 'precision': {'avg': 0.04, 'dev': 0.045},\n",
       " 'recall': {'avg': 0.119, 'dev': 0.084},\n",
       " 'f1_score_weighted': {'avg': 0.048, 'dev': 0.076}}"
      ]
     },
     "metadata": {},
     "execution_count": 18
    }
   ],
   "metadata": {}
  },
  {
   "cell_type": "code",
   "execution_count": 19,
   "source": [
    "get_metrics_avg('classic_models_results', 'breast_tissue_data.csv', 'mlp', folder_name='results')"
   ],
   "outputs": [
    {
     "output_type": "execute_result",
     "data": {
      "text/plain": [
       "{'accuracy': {'avg': 0.321, 'dev': 0.13},\n",
       " 'f1_score': {'avg': 0.187, 'dev': 0.13},\n",
       " 'precision': {'avg': 0.177, 'dev': 0.146},\n",
       " 'recall': {'avg': 0.297, 'dev': 0.127},\n",
       " 'f1_score_weighted': {'avg': 0.209, 'dev': 0.13}}"
      ]
     },
     "metadata": {},
     "execution_count": 19
    }
   ],
   "metadata": {}
  },
  {
   "cell_type": "code",
   "execution_count": 20,
   "source": [
    "get_metrics_avg('classic_models_results', 'breast_tissue_data.csv', 'perceptron', folder_name='results')"
   ],
   "outputs": [
    {
     "output_type": "execute_result",
     "data": {
      "text/plain": [
       "{'accuracy': {'avg': 0.318, 'dev': 0.097},\n",
       " 'f1_score': {'avg': 0.17, 'dev': 0.097},\n",
       " 'precision': {'avg': 0.178, 'dev': 0.179},\n",
       " 'recall': {'avg': 0.273, 'dev': 0.112},\n",
       " 'f1_score_weighted': {'avg': 0.203, 'dev': 0.097}}"
      ]
     },
     "metadata": {},
     "execution_count": 20
    }
   ],
   "metadata": {}
  },
  {
   "cell_type": "markdown",
   "source": [
    "### **Multiple Neurons**"
   ],
   "metadata": {}
  },
  {
   "cell_type": "code",
   "execution_count": 21,
   "source": [
    "get_metrics_avg('experiments_breast_tissue_multi_neuronios', 'breast_tissue_data.csv', model_name = \"sf\", folder_name='results', filter_dataset=False)"
   ],
   "outputs": [
    {
     "output_type": "execute_result",
     "data": {
      "text/plain": [
       "{'accuracy': {'avg': 0.23, 'dev': 0.0},\n",
       " 'f1_score': {'avg': 0.06, 'dev': 0.0},\n",
       " 'precision': {'avg': 0.04, 'dev': 0.0},\n",
       " 'recall': {'avg': 0.17, 'dev': 0.0},\n",
       " 'f1_score_weighted': {'avg': 0.08, 'dev': 0.0}}"
      ]
     },
     "metadata": {},
     "execution_count": 21
    }
   ],
   "metadata": {}
  },
  {
   "cell_type": "code",
   "execution_count": 22,
   "source": [
    "get_metrics_avg('experiments_breast_tissue_multi_neuronios', 'breast_tissue_data.csv', model_name = \"hsgs\", folder_name='results', filter_dataset=False)"
   ],
   "outputs": [
    {
     "output_type": "execute_result",
     "data": {
      "text/plain": [
       "{'accuracy': {'avg': 0.23, 'dev': 0.0},\n",
       " 'f1_score': {'avg': 0.06, 'dev': 0.0},\n",
       " 'precision': {'avg': 0.04, 'dev': 0.0},\n",
       " 'recall': {'avg': 0.17, 'dev': 0.0},\n",
       " 'f1_score_weighted': {'avg': 0.08, 'dev': 0.0}}"
      ]
     },
     "metadata": {},
     "execution_count": 22
    }
   ],
   "metadata": {}
  },
  {
   "cell_type": "code",
   "execution_count": 23,
   "source": [
    "get_metrics_avg('experiments_breast_tissue_multi_neuronios', 'breast_tissue_data.csv', model_name = \"phase-encoding\", folder_name='results', filter_dataset=False)"
   ],
   "outputs": [
    {
     "output_type": "execute_result",
     "data": {
      "text/plain": [
       "{'accuracy': {'avg': 0.14, 'dev': 0.0},\n",
       " 'f1_score': {'avg': 0.04, 'dev': 0.0},\n",
       " 'precision': {'avg': 0.02, 'dev': 0.0},\n",
       " 'recall': {'avg': 0.17, 'dev': 0.0},\n",
       " 'f1_score_weighted': {'avg': 0.03, 'dev': 0.0}}"
      ]
     },
     "metadata": {},
     "execution_count": 23
    }
   ],
   "metadata": {}
  },
  {
   "cell_type": "markdown",
   "source": [
    "# RoC Curve"
   ],
   "metadata": {}
  },
  {
   "cell_type": "code",
   "execution_count": 24,
   "source": [
    "def get_tp_and_fp_ratio_from_csv(csv_name, folder_name, model, strategy, learning_rate, bias):\r\n",
    "    df = csv_to_dataframe(csv_name, folder_name)\r\n",
    "    df = df.loc[df['phase_strategy'] == strategy]\r\n",
    "    df = df.loc[df['model'] == model]\r\n",
    "    df = df.loc[df['bias'] == bias]\r\n",
    "    df = df.loc[df['lr'] == learning_rate]\r\n",
    "\r\n",
    "    ratios = {\r\n",
    "            'tp': [],\r\n",
    "            'fp': []\r\n",
    "        }\r\n",
    "\r\n",
    "    # The confusion matrix is like:\r\n",
    "    # 0: a b\r\n",
    "    # 1: c d\r\n",
    "    # and I'm doing:\r\n",
    "    # true positive = d / (c + d)\r\n",
    "    # false positive = 1 - true positive ratio\r\n",
    "\r\n",
    "    for matrix_str in df['matrix']:\r\n",
    "        matrix_str = matrix_str.replace(\"[\", \"\")\r\n",
    "        matrix_str = matrix_str.replace(\"]\", \"\")\r\n",
    "\r\n",
    "        matrix = []\r\n",
    "        for line in matrix_str.split('\\n'):\r\n",
    "            matrix.append([])\r\n",
    "            for element in line.strip().split():\r\n",
    "                matrix[-1].append(int(element))\r\n",
    "        tp_ratio = round(matrix[1][1]/(matrix[1][1] + matrix[1][0]), 3)\r\n",
    "        ratios['tp'].append(tp_ratio)\r\n",
    "        ratios['fp'].append(1 - tp_ratio)\r\n",
    "    return ratios"
   ],
   "outputs": [],
   "metadata": {}
  },
  {
   "cell_type": "code",
   "execution_count": 25,
   "source": [
    "def plot_roc_for_classic_models():\r\n",
    "    caesarian_x, caesarian_y = get_splitted_and_normalized_dataset(CAESARIAN)\r\n",
    "    X_train, X_test, y_train, y_test = train_test_split(caesarian_x, caesarian_y, stratify=caesarian_y, random_state=0, test_size = 0.2)\r\n",
    "\r\n",
    "    perceptron = Perceptron(penalty = 'l1',\r\n",
    "                                    max_iter = 20,\r\n",
    "                                    alpha=0.02)\r\n",
    "    perceptron = perceptron.fit(X_train, y_train)\r\n",
    "\r\n",
    "    mlp = MLPClassifier(hidden_layer_sizes = [8, 16, 2],\r\n",
    "                                        activation = 'relu',\r\n",
    "                                        solver = 'sgd',\r\n",
    "                                        learning_rate = 'constant',\r\n",
    "                                        learning_rate_init = 0.02,\r\n",
    "                                        max_iter = 20)\r\n",
    "    mlp = mlp.fit(X_train, y_train)\r\n",
    "\r\n",
    "    fig = plot_roc_curve(perceptron, X_test, y_test)\r\n",
    "    plot_roc_curve(mlp, X_test, y_test, ax = fig.ax_)"
   ],
   "outputs": [],
   "metadata": {}
  },
  {
   "cell_type": "code",
   "execution_count": 26,
   "source": [
    "def plot_roc(ratios_and_labels, filename = \"\"):\r\n",
    "    plot_roc_for_classic_models()\r\n",
    "    plot = plt\r\n",
    "    plot.title('Receiver Operating Characteristic')\r\n",
    "    line_index = 0\r\n",
    "    linestyles = [\r\n",
    "        '-',\r\n",
    "        '--',\r\n",
    "        '-.',\r\n",
    "        ':',\r\n",
    "        'solid',\r\n",
    "        'dashed',\r\n",
    "        'dashdot',\r\n",
    "        'dotted'\r\n",
    "        ]\r\n",
    "    for ratio_and_label in ratios_and_labels:\r\n",
    "        tp_ratios = ratio_and_label[0]['tp']\r\n",
    "        fp_ratios = ratio_and_label[0]['fp']\r\n",
    "        plot.plot(fp_ratios, tp_ratios, label=ratio_and_label[1], linestyle=linestyles[line_index])\r\n",
    "        line_index += 1\r\n",
    "    plot.legend(loc='upper right')\r\n",
    "    plot.xlim([0, 1])\r\n",
    "    plot.ylim([0, 1])\r\n",
    "    plot.ylabel('True Positive Rate')\r\n",
    "    plot.xlabel('False Positive Rate')\r\n",
    "    if len(filename) > 0:\r\n",
    "        plot.savefig(filename)"
   ],
   "outputs": [],
   "metadata": {}
  },
  {
   "cell_type": "markdown",
   "source": [
    "## Caesarian"
   ],
   "metadata": {}
  },
  {
   "cell_type": "code",
   "execution_count": 27,
   "source": [
    "phase_original = get_tp_and_fp_ratio_from_csv('experiments_caesarian', 'results', 'phase-encoding', 'original', 0.02, False)\r\n",
    "phase_angle = get_tp_and_fp_ratio_from_csv('experiments_caesarian', 'results', 'phase-encoding', 'angle', 0.02, False)\r\n",
    "phase_radius = get_tp_and_fp_ratio_from_csv('experiments_caesarian', 'results', 'phase-encoding', 'radius', 0.02, False)\r\n",
    "phase_angle_radius = get_tp_and_fp_ratio_from_csv('experiments_caesarian', 'results', 'phase-encoding', 'angleradius', 0.02, False)\r\n",
    "hsgs = get_tp_and_fp_ratio_from_csv('experiments_caesarian', 'results', 'hsgs', 'original', 0.02, False)\r\n",
    "sf = get_tp_and_fp_ratio_from_csv('experiments_caesarian', 'results', 'sf', 'original', 0.02, False)\r\n",
    "\r\n",
    "print(sf)\r\n",
    "print(hsgs)\r\n",
    "print(phase_original)\r\n",
    "print(phase_angle)\r\n",
    "print(phase_radius)\r\n",
    "print(phase_angle_radius)\r\n",
    "\r\n",
    "models_array = [\r\n",
    "    [sf, 'Força Bruta'],\r\n",
    "    [hsgs, 'HSGS'],\r\n",
    "    [phase_original, 'Phase Original'],\r\n",
    "    [phase_angle, 'Phase Angle'],\r\n",
    "    [phase_radius, 'Phase Radius'],\r\n",
    "    [phase_angle_radius, 'Phase A/R']\r\n",
    "    ]\r\n",
    "\r\n",
    "plot_roc(models_array, \"results/caesarian_roc.png\")"
   ],
   "outputs": [
    {
     "output_type": "stream",
     "name": "stdout",
     "text": [
      "{'tp': [0.444, 0.556, 0.0], 'fp': [0.556, 0.44399999999999995, 1.0]}\n",
      "{'tp': [0.333, 0.556, 0.111, 0.0], 'fp': [0.667, 0.44399999999999995, 0.889, 1.0]}\n",
      "{'tp': [0.111, 0.0, 0.0, 0.0], 'fp': [0.889, 1.0, 1.0, 1.0]}\n",
      "{'tp': [0.0, 0.0, 0.0, 0.0], 'fp': [1.0, 1.0, 1.0, 1.0]}\n",
      "{'tp': [0.0, 0.0, 0.0, 0.0], 'fp': [1.0, 1.0, 1.0, 1.0]}\n",
      "{'tp': [0.222, 0.0, 0.0, 0.0], 'fp': [0.778, 1.0, 1.0, 1.0]}\n"
     ]
    },
    {
     "output_type": "stream",
     "name": "stderr",
     "text": [
      "C:\\Users\\Eduardo Barreto\\AppData\\Local\\Programs\\Python\\Python39\\lib\\site-packages\\sklearn\\neural_network\\_multilayer_perceptron.py:614: ConvergenceWarning: Stochastic Optimizer: Maximum iterations (20) reached and the optimization hasn't converged yet.\n",
      "  warnings.warn(\n"
     ]
    },
    {
     "output_type": "display_data",
     "data": {
      "text/plain": [
       "<Figure size 432x288 with 1 Axes>"
      ],
      "image/svg+xml": "<?xml version=\"1.0\" encoding=\"utf-8\" standalone=\"no\"?>\r\n<!DOCTYPE svg PUBLIC \"-//W3C//DTD SVG 1.1//EN\"\r\n  \"http://www.w3.org/Graphics/SVG/1.1/DTD/svg11.dtd\">\r\n<svg height=\"277.314375pt\" version=\"1.1\" viewBox=\"0 0 393.732813 277.314375\" width=\"393.732813pt\" xmlns=\"http://www.w3.org/2000/svg\" xmlns:xlink=\"http://www.w3.org/1999/xlink\">\r\n <metadata>\r\n  <rdf:RDF xmlns:cc=\"http://creativecommons.org/ns#\" xmlns:dc=\"http://purl.org/dc/elements/1.1/\" xmlns:rdf=\"http://www.w3.org/1999/02/22-rdf-syntax-ns#\">\r\n   <cc:Work>\r\n    <dc:type rdf:resource=\"http://purl.org/dc/dcmitype/StillImage\"/>\r\n    <dc:date>2021-08-06T18:54:54.863503</dc:date>\r\n    <dc:format>image/svg+xml</dc:format>\r\n    <dc:creator>\r\n     <cc:Agent>\r\n      <dc:title>Matplotlib v3.4.2, https://matplotlib.org/</dc:title>\r\n     </cc:Agent>\r\n    </dc:creator>\r\n   </cc:Work>\r\n  </rdf:RDF>\r\n </metadata>\r\n <defs>\r\n  <style type=\"text/css\">*{stroke-linecap:butt;stroke-linejoin:round;}</style>\r\n </defs>\r\n <g id=\"figure_1\">\r\n  <g id=\"patch_1\">\r\n   <path d=\"M 0 277.314375 \r\nL 393.732813 277.314375 \r\nL 393.732813 0 \r\nL 0 0 \r\nz\r\n\" style=\"fill:none;\"/>\r\n  </g>\r\n  <g id=\"axes_1\">\r\n   <g id=\"patch_2\">\r\n    <path d=\"M 43.78125 239.758125 \r\nL 378.58125 239.758125 \r\nL 378.58125 22.318125 \r\nL 43.78125 22.318125 \r\nz\r\n\" style=\"fill:#ffffff;\"/>\r\n   </g>\r\n   <g id=\"matplotlib.axis_1\">\r\n    <g id=\"xtick_1\">\r\n     <g id=\"line2d_1\">\r\n      <defs>\r\n       <path d=\"M 0 0 \r\nL 0 3.5 \r\n\" id=\"m696e958217\" style=\"stroke:#000000;stroke-width:0.8;\"/>\r\n      </defs>\r\n      <g>\r\n       <use style=\"stroke:#000000;stroke-width:0.8;\" x=\"43.78125\" xlink:href=\"#m696e958217\" y=\"239.758125\"/>\r\n      </g>\r\n     </g>\r\n     <g id=\"text_1\">\r\n      <!-- 0.0 -->\r\n      <g transform=\"translate(35.829688 254.356562)scale(0.1 -0.1)\">\r\n       <defs>\r\n        <path d=\"M 2034 4250 \r\nQ 1547 4250 1301 3770 \r\nQ 1056 3291 1056 2328 \r\nQ 1056 1369 1301 889 \r\nQ 1547 409 2034 409 \r\nQ 2525 409 2770 889 \r\nQ 3016 1369 3016 2328 \r\nQ 3016 3291 2770 3770 \r\nQ 2525 4250 2034 4250 \r\nz\r\nM 2034 4750 \r\nQ 2819 4750 3233 4129 \r\nQ 3647 3509 3647 2328 \r\nQ 3647 1150 3233 529 \r\nQ 2819 -91 2034 -91 \r\nQ 1250 -91 836 529 \r\nQ 422 1150 422 2328 \r\nQ 422 3509 836 4129 \r\nQ 1250 4750 2034 4750 \r\nz\r\n\" id=\"DejaVuSans-30\" transform=\"scale(0.015625)\"/>\r\n        <path d=\"M 684 794 \r\nL 1344 794 \r\nL 1344 0 \r\nL 684 0 \r\nL 684 794 \r\nz\r\n\" id=\"DejaVuSans-2e\" transform=\"scale(0.015625)\"/>\r\n       </defs>\r\n       <use xlink:href=\"#DejaVuSans-30\"/>\r\n       <use x=\"63.623047\" xlink:href=\"#DejaVuSans-2e\"/>\r\n       <use x=\"95.410156\" xlink:href=\"#DejaVuSans-30\"/>\r\n      </g>\r\n     </g>\r\n    </g>\r\n    <g id=\"xtick_2\">\r\n     <g id=\"line2d_2\">\r\n      <g>\r\n       <use style=\"stroke:#000000;stroke-width:0.8;\" x=\"110.74125\" xlink:href=\"#m696e958217\" y=\"239.758125\"/>\r\n      </g>\r\n     </g>\r\n     <g id=\"text_2\">\r\n      <!-- 0.2 -->\r\n      <g transform=\"translate(102.789688 254.356562)scale(0.1 -0.1)\">\r\n       <defs>\r\n        <path d=\"M 1228 531 \r\nL 3431 531 \r\nL 3431 0 \r\nL 469 0 \r\nL 469 531 \r\nQ 828 903 1448 1529 \r\nQ 2069 2156 2228 2338 \r\nQ 2531 2678 2651 2914 \r\nQ 2772 3150 2772 3378 \r\nQ 2772 3750 2511 3984 \r\nQ 2250 4219 1831 4219 \r\nQ 1534 4219 1204 4116 \r\nQ 875 4013 500 3803 \r\nL 500 4441 \r\nQ 881 4594 1212 4672 \r\nQ 1544 4750 1819 4750 \r\nQ 2544 4750 2975 4387 \r\nQ 3406 4025 3406 3419 \r\nQ 3406 3131 3298 2873 \r\nQ 3191 2616 2906 2266 \r\nQ 2828 2175 2409 1742 \r\nQ 1991 1309 1228 531 \r\nz\r\n\" id=\"DejaVuSans-32\" transform=\"scale(0.015625)\"/>\r\n       </defs>\r\n       <use xlink:href=\"#DejaVuSans-30\"/>\r\n       <use x=\"63.623047\" xlink:href=\"#DejaVuSans-2e\"/>\r\n       <use x=\"95.410156\" xlink:href=\"#DejaVuSans-32\"/>\r\n      </g>\r\n     </g>\r\n    </g>\r\n    <g id=\"xtick_3\">\r\n     <g id=\"line2d_3\">\r\n      <g>\r\n       <use style=\"stroke:#000000;stroke-width:0.8;\" x=\"177.70125\" xlink:href=\"#m696e958217\" y=\"239.758125\"/>\r\n      </g>\r\n     </g>\r\n     <g id=\"text_3\">\r\n      <!-- 0.4 -->\r\n      <g transform=\"translate(169.749688 254.356562)scale(0.1 -0.1)\">\r\n       <defs>\r\n        <path d=\"M 2419 4116 \r\nL 825 1625 \r\nL 2419 1625 \r\nL 2419 4116 \r\nz\r\nM 2253 4666 \r\nL 3047 4666 \r\nL 3047 1625 \r\nL 3713 1625 \r\nL 3713 1100 \r\nL 3047 1100 \r\nL 3047 0 \r\nL 2419 0 \r\nL 2419 1100 \r\nL 313 1100 \r\nL 313 1709 \r\nL 2253 4666 \r\nz\r\n\" id=\"DejaVuSans-34\" transform=\"scale(0.015625)\"/>\r\n       </defs>\r\n       <use xlink:href=\"#DejaVuSans-30\"/>\r\n       <use x=\"63.623047\" xlink:href=\"#DejaVuSans-2e\"/>\r\n       <use x=\"95.410156\" xlink:href=\"#DejaVuSans-34\"/>\r\n      </g>\r\n     </g>\r\n    </g>\r\n    <g id=\"xtick_4\">\r\n     <g id=\"line2d_4\">\r\n      <g>\r\n       <use style=\"stroke:#000000;stroke-width:0.8;\" x=\"244.66125\" xlink:href=\"#m696e958217\" y=\"239.758125\"/>\r\n      </g>\r\n     </g>\r\n     <g id=\"text_4\">\r\n      <!-- 0.6 -->\r\n      <g transform=\"translate(236.709688 254.356562)scale(0.1 -0.1)\">\r\n       <defs>\r\n        <path d=\"M 2113 2584 \r\nQ 1688 2584 1439 2293 \r\nQ 1191 2003 1191 1497 \r\nQ 1191 994 1439 701 \r\nQ 1688 409 2113 409 \r\nQ 2538 409 2786 701 \r\nQ 3034 994 3034 1497 \r\nQ 3034 2003 2786 2293 \r\nQ 2538 2584 2113 2584 \r\nz\r\nM 3366 4563 \r\nL 3366 3988 \r\nQ 3128 4100 2886 4159 \r\nQ 2644 4219 2406 4219 \r\nQ 1781 4219 1451 3797 \r\nQ 1122 3375 1075 2522 \r\nQ 1259 2794 1537 2939 \r\nQ 1816 3084 2150 3084 \r\nQ 2853 3084 3261 2657 \r\nQ 3669 2231 3669 1497 \r\nQ 3669 778 3244 343 \r\nQ 2819 -91 2113 -91 \r\nQ 1303 -91 875 529 \r\nQ 447 1150 447 2328 \r\nQ 447 3434 972 4092 \r\nQ 1497 4750 2381 4750 \r\nQ 2619 4750 2861 4703 \r\nQ 3103 4656 3366 4563 \r\nz\r\n\" id=\"DejaVuSans-36\" transform=\"scale(0.015625)\"/>\r\n       </defs>\r\n       <use xlink:href=\"#DejaVuSans-30\"/>\r\n       <use x=\"63.623047\" xlink:href=\"#DejaVuSans-2e\"/>\r\n       <use x=\"95.410156\" xlink:href=\"#DejaVuSans-36\"/>\r\n      </g>\r\n     </g>\r\n    </g>\r\n    <g id=\"xtick_5\">\r\n     <g id=\"line2d_5\">\r\n      <g>\r\n       <use style=\"stroke:#000000;stroke-width:0.8;\" x=\"311.62125\" xlink:href=\"#m696e958217\" y=\"239.758125\"/>\r\n      </g>\r\n     </g>\r\n     <g id=\"text_5\">\r\n      <!-- 0.8 -->\r\n      <g transform=\"translate(303.669688 254.356562)scale(0.1 -0.1)\">\r\n       <defs>\r\n        <path d=\"M 2034 2216 \r\nQ 1584 2216 1326 1975 \r\nQ 1069 1734 1069 1313 \r\nQ 1069 891 1326 650 \r\nQ 1584 409 2034 409 \r\nQ 2484 409 2743 651 \r\nQ 3003 894 3003 1313 \r\nQ 3003 1734 2745 1975 \r\nQ 2488 2216 2034 2216 \r\nz\r\nM 1403 2484 \r\nQ 997 2584 770 2862 \r\nQ 544 3141 544 3541 \r\nQ 544 4100 942 4425 \r\nQ 1341 4750 2034 4750 \r\nQ 2731 4750 3128 4425 \r\nQ 3525 4100 3525 3541 \r\nQ 3525 3141 3298 2862 \r\nQ 3072 2584 2669 2484 \r\nQ 3125 2378 3379 2068 \r\nQ 3634 1759 3634 1313 \r\nQ 3634 634 3220 271 \r\nQ 2806 -91 2034 -91 \r\nQ 1263 -91 848 271 \r\nQ 434 634 434 1313 \r\nQ 434 1759 690 2068 \r\nQ 947 2378 1403 2484 \r\nz\r\nM 1172 3481 \r\nQ 1172 3119 1398 2916 \r\nQ 1625 2713 2034 2713 \r\nQ 2441 2713 2670 2916 \r\nQ 2900 3119 2900 3481 \r\nQ 2900 3844 2670 4047 \r\nQ 2441 4250 2034 4250 \r\nQ 1625 4250 1398 4047 \r\nQ 1172 3844 1172 3481 \r\nz\r\n\" id=\"DejaVuSans-38\" transform=\"scale(0.015625)\"/>\r\n       </defs>\r\n       <use xlink:href=\"#DejaVuSans-30\"/>\r\n       <use x=\"63.623047\" xlink:href=\"#DejaVuSans-2e\"/>\r\n       <use x=\"95.410156\" xlink:href=\"#DejaVuSans-38\"/>\r\n      </g>\r\n     </g>\r\n    </g>\r\n    <g id=\"xtick_6\">\r\n     <g id=\"line2d_6\">\r\n      <g>\r\n       <use style=\"stroke:#000000;stroke-width:0.8;\" x=\"378.58125\" xlink:href=\"#m696e958217\" y=\"239.758125\"/>\r\n      </g>\r\n     </g>\r\n     <g id=\"text_6\">\r\n      <!-- 1.0 -->\r\n      <g transform=\"translate(370.629687 254.356562)scale(0.1 -0.1)\">\r\n       <defs>\r\n        <path d=\"M 794 531 \r\nL 1825 531 \r\nL 1825 4091 \r\nL 703 3866 \r\nL 703 4441 \r\nL 1819 4666 \r\nL 2450 4666 \r\nL 2450 531 \r\nL 3481 531 \r\nL 3481 0 \r\nL 794 0 \r\nL 794 531 \r\nz\r\n\" id=\"DejaVuSans-31\" transform=\"scale(0.015625)\"/>\r\n       </defs>\r\n       <use xlink:href=\"#DejaVuSans-31\"/>\r\n       <use x=\"63.623047\" xlink:href=\"#DejaVuSans-2e\"/>\r\n       <use x=\"95.410156\" xlink:href=\"#DejaVuSans-30\"/>\r\n      </g>\r\n     </g>\r\n    </g>\r\n    <g id=\"text_7\">\r\n     <!-- False Positive Rate -->\r\n     <g transform=\"translate(164.714844 268.034687)scale(0.1 -0.1)\">\r\n      <defs>\r\n       <path d=\"M 628 4666 \r\nL 3309 4666 \r\nL 3309 4134 \r\nL 1259 4134 \r\nL 1259 2759 \r\nL 3109 2759 \r\nL 3109 2228 \r\nL 1259 2228 \r\nL 1259 0 \r\nL 628 0 \r\nL 628 4666 \r\nz\r\n\" id=\"DejaVuSans-46\" transform=\"scale(0.015625)\"/>\r\n       <path d=\"M 2194 1759 \r\nQ 1497 1759 1228 1600 \r\nQ 959 1441 959 1056 \r\nQ 959 750 1161 570 \r\nQ 1363 391 1709 391 \r\nQ 2188 391 2477 730 \r\nQ 2766 1069 2766 1631 \r\nL 2766 1759 \r\nL 2194 1759 \r\nz\r\nM 3341 1997 \r\nL 3341 0 \r\nL 2766 0 \r\nL 2766 531 \r\nQ 2569 213 2275 61 \r\nQ 1981 -91 1556 -91 \r\nQ 1019 -91 701 211 \r\nQ 384 513 384 1019 \r\nQ 384 1609 779 1909 \r\nQ 1175 2209 1959 2209 \r\nL 2766 2209 \r\nL 2766 2266 \r\nQ 2766 2663 2505 2880 \r\nQ 2244 3097 1772 3097 \r\nQ 1472 3097 1187 3025 \r\nQ 903 2953 641 2809 \r\nL 641 3341 \r\nQ 956 3463 1253 3523 \r\nQ 1550 3584 1831 3584 \r\nQ 2591 3584 2966 3190 \r\nQ 3341 2797 3341 1997 \r\nz\r\n\" id=\"DejaVuSans-61\" transform=\"scale(0.015625)\"/>\r\n       <path d=\"M 603 4863 \r\nL 1178 4863 \r\nL 1178 0 \r\nL 603 0 \r\nL 603 4863 \r\nz\r\n\" id=\"DejaVuSans-6c\" transform=\"scale(0.015625)\"/>\r\n       <path d=\"M 2834 3397 \r\nL 2834 2853 \r\nQ 2591 2978 2328 3040 \r\nQ 2066 3103 1784 3103 \r\nQ 1356 3103 1142 2972 \r\nQ 928 2841 928 2578 \r\nQ 928 2378 1081 2264 \r\nQ 1234 2150 1697 2047 \r\nL 1894 2003 \r\nQ 2506 1872 2764 1633 \r\nQ 3022 1394 3022 966 \r\nQ 3022 478 2636 193 \r\nQ 2250 -91 1575 -91 \r\nQ 1294 -91 989 -36 \r\nQ 684 19 347 128 \r\nL 347 722 \r\nQ 666 556 975 473 \r\nQ 1284 391 1588 391 \r\nQ 1994 391 2212 530 \r\nQ 2431 669 2431 922 \r\nQ 2431 1156 2273 1281 \r\nQ 2116 1406 1581 1522 \r\nL 1381 1569 \r\nQ 847 1681 609 1914 \r\nQ 372 2147 372 2553 \r\nQ 372 3047 722 3315 \r\nQ 1072 3584 1716 3584 \r\nQ 2034 3584 2315 3537 \r\nQ 2597 3491 2834 3397 \r\nz\r\n\" id=\"DejaVuSans-73\" transform=\"scale(0.015625)\"/>\r\n       <path d=\"M 3597 1894 \r\nL 3597 1613 \r\nL 953 1613 \r\nQ 991 1019 1311 708 \r\nQ 1631 397 2203 397 \r\nQ 2534 397 2845 478 \r\nQ 3156 559 3463 722 \r\nL 3463 178 \r\nQ 3153 47 2828 -22 \r\nQ 2503 -91 2169 -91 \r\nQ 1331 -91 842 396 \r\nQ 353 884 353 1716 \r\nQ 353 2575 817 3079 \r\nQ 1281 3584 2069 3584 \r\nQ 2775 3584 3186 3129 \r\nQ 3597 2675 3597 1894 \r\nz\r\nM 3022 2063 \r\nQ 3016 2534 2758 2815 \r\nQ 2500 3097 2075 3097 \r\nQ 1594 3097 1305 2825 \r\nQ 1016 2553 972 2059 \r\nL 3022 2063 \r\nz\r\n\" id=\"DejaVuSans-65\" transform=\"scale(0.015625)\"/>\r\n       <path id=\"DejaVuSans-20\" transform=\"scale(0.015625)\"/>\r\n       <path d=\"M 1259 4147 \r\nL 1259 2394 \r\nL 2053 2394 \r\nQ 2494 2394 2734 2622 \r\nQ 2975 2850 2975 3272 \r\nQ 2975 3691 2734 3919 \r\nQ 2494 4147 2053 4147 \r\nL 1259 4147 \r\nz\r\nM 628 4666 \r\nL 2053 4666 \r\nQ 2838 4666 3239 4311 \r\nQ 3641 3956 3641 3272 \r\nQ 3641 2581 3239 2228 \r\nQ 2838 1875 2053 1875 \r\nL 1259 1875 \r\nL 1259 0 \r\nL 628 0 \r\nL 628 4666 \r\nz\r\n\" id=\"DejaVuSans-50\" transform=\"scale(0.015625)\"/>\r\n       <path d=\"M 1959 3097 \r\nQ 1497 3097 1228 2736 \r\nQ 959 2375 959 1747 \r\nQ 959 1119 1226 758 \r\nQ 1494 397 1959 397 \r\nQ 2419 397 2687 759 \r\nQ 2956 1122 2956 1747 \r\nQ 2956 2369 2687 2733 \r\nQ 2419 3097 1959 3097 \r\nz\r\nM 1959 3584 \r\nQ 2709 3584 3137 3096 \r\nQ 3566 2609 3566 1747 \r\nQ 3566 888 3137 398 \r\nQ 2709 -91 1959 -91 \r\nQ 1206 -91 779 398 \r\nQ 353 888 353 1747 \r\nQ 353 2609 779 3096 \r\nQ 1206 3584 1959 3584 \r\nz\r\n\" id=\"DejaVuSans-6f\" transform=\"scale(0.015625)\"/>\r\n       <path d=\"M 603 3500 \r\nL 1178 3500 \r\nL 1178 0 \r\nL 603 0 \r\nL 603 3500 \r\nz\r\nM 603 4863 \r\nL 1178 4863 \r\nL 1178 4134 \r\nL 603 4134 \r\nL 603 4863 \r\nz\r\n\" id=\"DejaVuSans-69\" transform=\"scale(0.015625)\"/>\r\n       <path d=\"M 1172 4494 \r\nL 1172 3500 \r\nL 2356 3500 \r\nL 2356 3053 \r\nL 1172 3053 \r\nL 1172 1153 \r\nQ 1172 725 1289 603 \r\nQ 1406 481 1766 481 \r\nL 2356 481 \r\nL 2356 0 \r\nL 1766 0 \r\nQ 1100 0 847 248 \r\nQ 594 497 594 1153 \r\nL 594 3053 \r\nL 172 3053 \r\nL 172 3500 \r\nL 594 3500 \r\nL 594 4494 \r\nL 1172 4494 \r\nz\r\n\" id=\"DejaVuSans-74\" transform=\"scale(0.015625)\"/>\r\n       <path d=\"M 191 3500 \r\nL 800 3500 \r\nL 1894 563 \r\nL 2988 3500 \r\nL 3597 3500 \r\nL 2284 0 \r\nL 1503 0 \r\nL 191 3500 \r\nz\r\n\" id=\"DejaVuSans-76\" transform=\"scale(0.015625)\"/>\r\n       <path d=\"M 2841 2188 \r\nQ 3044 2119 3236 1894 \r\nQ 3428 1669 3622 1275 \r\nL 4263 0 \r\nL 3584 0 \r\nL 2988 1197 \r\nQ 2756 1666 2539 1819 \r\nQ 2322 1972 1947 1972 \r\nL 1259 1972 \r\nL 1259 0 \r\nL 628 0 \r\nL 628 4666 \r\nL 2053 4666 \r\nQ 2853 4666 3247 4331 \r\nQ 3641 3997 3641 3322 \r\nQ 3641 2881 3436 2590 \r\nQ 3231 2300 2841 2188 \r\nz\r\nM 1259 4147 \r\nL 1259 2491 \r\nL 2053 2491 \r\nQ 2509 2491 2742 2702 \r\nQ 2975 2913 2975 3322 \r\nQ 2975 3731 2742 3939 \r\nQ 2509 4147 2053 4147 \r\nL 1259 4147 \r\nz\r\n\" id=\"DejaVuSans-52\" transform=\"scale(0.015625)\"/>\r\n      </defs>\r\n      <use xlink:href=\"#DejaVuSans-46\"/>\r\n      <use x=\"48.394531\" xlink:href=\"#DejaVuSans-61\"/>\r\n      <use x=\"109.673828\" xlink:href=\"#DejaVuSans-6c\"/>\r\n      <use x=\"137.457031\" xlink:href=\"#DejaVuSans-73\"/>\r\n      <use x=\"189.556641\" xlink:href=\"#DejaVuSans-65\"/>\r\n      <use x=\"251.080078\" xlink:href=\"#DejaVuSans-20\"/>\r\n      <use x=\"282.867188\" xlink:href=\"#DejaVuSans-50\"/>\r\n      <use x=\"339.544922\" xlink:href=\"#DejaVuSans-6f\"/>\r\n      <use x=\"400.726562\" xlink:href=\"#DejaVuSans-73\"/>\r\n      <use x=\"452.826172\" xlink:href=\"#DejaVuSans-69\"/>\r\n      <use x=\"480.609375\" xlink:href=\"#DejaVuSans-74\"/>\r\n      <use x=\"519.818359\" xlink:href=\"#DejaVuSans-69\"/>\r\n      <use x=\"547.601562\" xlink:href=\"#DejaVuSans-76\"/>\r\n      <use x=\"606.78125\" xlink:href=\"#DejaVuSans-65\"/>\r\n      <use x=\"668.304688\" xlink:href=\"#DejaVuSans-20\"/>\r\n      <use x=\"700.091797\" xlink:href=\"#DejaVuSans-52\"/>\r\n      <use x=\"767.324219\" xlink:href=\"#DejaVuSans-61\"/>\r\n      <use x=\"828.603516\" xlink:href=\"#DejaVuSans-74\"/>\r\n      <use x=\"867.8125\" xlink:href=\"#DejaVuSans-65\"/>\r\n     </g>\r\n    </g>\r\n   </g>\r\n   <g id=\"matplotlib.axis_2\">\r\n    <g id=\"ytick_1\">\r\n     <g id=\"line2d_7\">\r\n      <defs>\r\n       <path d=\"M 0 0 \r\nL -3.5 0 \r\n\" id=\"mffc14326c4\" style=\"stroke:#000000;stroke-width:0.8;\"/>\r\n      </defs>\r\n      <g>\r\n       <use style=\"stroke:#000000;stroke-width:0.8;\" x=\"43.78125\" xlink:href=\"#mffc14326c4\" y=\"239.758125\"/>\r\n      </g>\r\n     </g>\r\n     <g id=\"text_8\">\r\n      <!-- 0.0 -->\r\n      <g transform=\"translate(20.878125 243.557344)scale(0.1 -0.1)\">\r\n       <use xlink:href=\"#DejaVuSans-30\"/>\r\n       <use x=\"63.623047\" xlink:href=\"#DejaVuSans-2e\"/>\r\n       <use x=\"95.410156\" xlink:href=\"#DejaVuSans-30\"/>\r\n      </g>\r\n     </g>\r\n    </g>\r\n    <g id=\"ytick_2\">\r\n     <g id=\"line2d_8\">\r\n      <g>\r\n       <use style=\"stroke:#000000;stroke-width:0.8;\" x=\"43.78125\" xlink:href=\"#mffc14326c4\" y=\"196.270125\"/>\r\n      </g>\r\n     </g>\r\n     <g id=\"text_9\">\r\n      <!-- 0.2 -->\r\n      <g transform=\"translate(20.878125 200.069344)scale(0.1 -0.1)\">\r\n       <use xlink:href=\"#DejaVuSans-30\"/>\r\n       <use x=\"63.623047\" xlink:href=\"#DejaVuSans-2e\"/>\r\n       <use x=\"95.410156\" xlink:href=\"#DejaVuSans-32\"/>\r\n      </g>\r\n     </g>\r\n    </g>\r\n    <g id=\"ytick_3\">\r\n     <g id=\"line2d_9\">\r\n      <g>\r\n       <use style=\"stroke:#000000;stroke-width:0.8;\" x=\"43.78125\" xlink:href=\"#mffc14326c4\" y=\"152.782125\"/>\r\n      </g>\r\n     </g>\r\n     <g id=\"text_10\">\r\n      <!-- 0.4 -->\r\n      <g transform=\"translate(20.878125 156.581344)scale(0.1 -0.1)\">\r\n       <use xlink:href=\"#DejaVuSans-30\"/>\r\n       <use x=\"63.623047\" xlink:href=\"#DejaVuSans-2e\"/>\r\n       <use x=\"95.410156\" xlink:href=\"#DejaVuSans-34\"/>\r\n      </g>\r\n     </g>\r\n    </g>\r\n    <g id=\"ytick_4\">\r\n     <g id=\"line2d_10\">\r\n      <g>\r\n       <use style=\"stroke:#000000;stroke-width:0.8;\" x=\"43.78125\" xlink:href=\"#mffc14326c4\" y=\"109.294125\"/>\r\n      </g>\r\n     </g>\r\n     <g id=\"text_11\">\r\n      <!-- 0.6 -->\r\n      <g transform=\"translate(20.878125 113.093344)scale(0.1 -0.1)\">\r\n       <use xlink:href=\"#DejaVuSans-30\"/>\r\n       <use x=\"63.623047\" xlink:href=\"#DejaVuSans-2e\"/>\r\n       <use x=\"95.410156\" xlink:href=\"#DejaVuSans-36\"/>\r\n      </g>\r\n     </g>\r\n    </g>\r\n    <g id=\"ytick_5\">\r\n     <g id=\"line2d_11\">\r\n      <g>\r\n       <use style=\"stroke:#000000;stroke-width:0.8;\" x=\"43.78125\" xlink:href=\"#mffc14326c4\" y=\"65.806125\"/>\r\n      </g>\r\n     </g>\r\n     <g id=\"text_12\">\r\n      <!-- 0.8 -->\r\n      <g transform=\"translate(20.878125 69.605344)scale(0.1 -0.1)\">\r\n       <use xlink:href=\"#DejaVuSans-30\"/>\r\n       <use x=\"63.623047\" xlink:href=\"#DejaVuSans-2e\"/>\r\n       <use x=\"95.410156\" xlink:href=\"#DejaVuSans-38\"/>\r\n      </g>\r\n     </g>\r\n    </g>\r\n    <g id=\"ytick_6\">\r\n     <g id=\"line2d_12\">\r\n      <g>\r\n       <use style=\"stroke:#000000;stroke-width:0.8;\" x=\"43.78125\" xlink:href=\"#mffc14326c4\" y=\"22.318125\"/>\r\n      </g>\r\n     </g>\r\n     <g id=\"text_13\">\r\n      <!-- 1.0 -->\r\n      <g transform=\"translate(20.878125 26.117344)scale(0.1 -0.1)\">\r\n       <use xlink:href=\"#DejaVuSans-31\"/>\r\n       <use x=\"63.623047\" xlink:href=\"#DejaVuSans-2e\"/>\r\n       <use x=\"95.410156\" xlink:href=\"#DejaVuSans-30\"/>\r\n      </g>\r\n     </g>\r\n    </g>\r\n    <g id=\"text_14\">\r\n     <!-- True Positive Rate -->\r\n     <g transform=\"translate(14.798438 175.567812)rotate(-90)scale(0.1 -0.1)\">\r\n      <defs>\r\n       <path d=\"M -19 4666 \r\nL 3928 4666 \r\nL 3928 4134 \r\nL 2272 4134 \r\nL 2272 0 \r\nL 1638 0 \r\nL 1638 4134 \r\nL -19 4134 \r\nL -19 4666 \r\nz\r\n\" id=\"DejaVuSans-54\" transform=\"scale(0.015625)\"/>\r\n       <path d=\"M 2631 2963 \r\nQ 2534 3019 2420 3045 \r\nQ 2306 3072 2169 3072 \r\nQ 1681 3072 1420 2755 \r\nQ 1159 2438 1159 1844 \r\nL 1159 0 \r\nL 581 0 \r\nL 581 3500 \r\nL 1159 3500 \r\nL 1159 2956 \r\nQ 1341 3275 1631 3429 \r\nQ 1922 3584 2338 3584 \r\nQ 2397 3584 2469 3576 \r\nQ 2541 3569 2628 3553 \r\nL 2631 2963 \r\nz\r\n\" id=\"DejaVuSans-72\" transform=\"scale(0.015625)\"/>\r\n       <path d=\"M 544 1381 \r\nL 544 3500 \r\nL 1119 3500 \r\nL 1119 1403 \r\nQ 1119 906 1312 657 \r\nQ 1506 409 1894 409 \r\nQ 2359 409 2629 706 \r\nQ 2900 1003 2900 1516 \r\nL 2900 3500 \r\nL 3475 3500 \r\nL 3475 0 \r\nL 2900 0 \r\nL 2900 538 \r\nQ 2691 219 2414 64 \r\nQ 2138 -91 1772 -91 \r\nQ 1169 -91 856 284 \r\nQ 544 659 544 1381 \r\nz\r\nM 1991 3584 \r\nL 1991 3584 \r\nz\r\n\" id=\"DejaVuSans-75\" transform=\"scale(0.015625)\"/>\r\n      </defs>\r\n      <use xlink:href=\"#DejaVuSans-54\"/>\r\n      <use x=\"46.333984\" xlink:href=\"#DejaVuSans-72\"/>\r\n      <use x=\"87.447266\" xlink:href=\"#DejaVuSans-75\"/>\r\n      <use x=\"150.826172\" xlink:href=\"#DejaVuSans-65\"/>\r\n      <use x=\"212.349609\" xlink:href=\"#DejaVuSans-20\"/>\r\n      <use x=\"244.136719\" xlink:href=\"#DejaVuSans-50\"/>\r\n      <use x=\"300.814453\" xlink:href=\"#DejaVuSans-6f\"/>\r\n      <use x=\"361.996094\" xlink:href=\"#DejaVuSans-73\"/>\r\n      <use x=\"414.095703\" xlink:href=\"#DejaVuSans-69\"/>\r\n      <use x=\"441.878906\" xlink:href=\"#DejaVuSans-74\"/>\r\n      <use x=\"481.087891\" xlink:href=\"#DejaVuSans-69\"/>\r\n      <use x=\"508.871094\" xlink:href=\"#DejaVuSans-76\"/>\r\n      <use x=\"568.050781\" xlink:href=\"#DejaVuSans-65\"/>\r\n      <use x=\"629.574219\" xlink:href=\"#DejaVuSans-20\"/>\r\n      <use x=\"661.361328\" xlink:href=\"#DejaVuSans-52\"/>\r\n      <use x=\"728.59375\" xlink:href=\"#DejaVuSans-61\"/>\r\n      <use x=\"789.873047\" xlink:href=\"#DejaVuSans-74\"/>\r\n      <use x=\"829.082031\" xlink:href=\"#DejaVuSans-65\"/>\r\n     </g>\r\n    </g>\r\n   </g>\r\n   <g id=\"line2d_13\">\r\n    <path clip-path=\"url(#p334d595a41)\" d=\"M 43.78125 239.758125 \r\nL 91.609821 143.118125 \r\nL 378.58125 22.318125 \r\n\" style=\"fill:none;stroke:#1f77b4;stroke-linecap:square;stroke-width:1.5;\"/>\r\n   </g>\r\n   <g id=\"line2d_14\">\r\n    <path clip-path=\"url(#p334d595a41)\" d=\"M 43.78125 239.758125 \r\nL 378.58125 22.318125 \r\n\" style=\"fill:none;stroke:#ff7f0e;stroke-linecap:square;stroke-width:1.5;\"/>\r\n   </g>\r\n   <g id=\"line2d_15\">\r\n    <path clip-path=\"url(#p334d595a41)\" d=\"M 229.93005 143.214765 \r\nL 192.43245 118.861485 \r\nL 378.58125 239.758125 \r\n\" style=\"fill:none;stroke:#2ca02c;stroke-linecap:square;stroke-width:1.5;\"/>\r\n   </g>\r\n   <g id=\"line2d_16\">\r\n    <path clip-path=\"url(#p334d595a41)\" d=\"M 267.09285 167.350605 \r\nL 192.43245 118.861485 \r\nL 341.41845 215.622285 \r\nL 378.58125 239.758125 \r\n\" style=\"fill:none;stroke:#d62728;stroke-dasharray:5.55,2.4;stroke-dashoffset:0;stroke-width:1.5;\"/>\r\n   </g>\r\n   <g id=\"line2d_17\">\r\n    <path clip-path=\"url(#p334d595a41)\" d=\"M 341.41845 215.622285 \r\nL 378.58125 239.758125 \r\nL 378.58125 239.758125 \r\nL 378.58125 239.758125 \r\n\" style=\"fill:none;stroke:#9467bd;stroke-dasharray:9.6,2.4,1.5,2.4;stroke-dashoffset:0;stroke-width:1.5;\"/>\r\n   </g>\r\n   <g id=\"line2d_18\">\r\n    <path clip-path=\"url(#p334d595a41)\" d=\"M 378.58125 239.758125 \r\nL 378.58125 239.758125 \r\nL 378.58125 239.758125 \r\nL 378.58125 239.758125 \r\n\" style=\"fill:none;stroke:#8c564b;stroke-dasharray:1.5,2.475;stroke-dashoffset:0;stroke-width:1.5;\"/>\r\n   </g>\r\n   <g id=\"line2d_19\">\r\n    <path clip-path=\"url(#p334d595a41)\" d=\"M 378.58125 239.758125 \r\nL 378.58125 239.758125 \r\nL 378.58125 239.758125 \r\nL 378.58125 239.758125 \r\n\" style=\"fill:none;stroke:#e377c2;stroke-linecap:square;stroke-width:1.5;\"/>\r\n   </g>\r\n   <g id=\"line2d_20\">\r\n    <path clip-path=\"url(#p334d595a41)\" d=\"M 304.25565 191.486445 \r\nL 378.58125 239.758125 \r\nL 378.58125 239.758125 \r\nL 378.58125 239.758125 \r\n\" style=\"fill:none;stroke:#7f7f7f;stroke-dasharray:5.55,2.4;stroke-dashoffset:0;stroke-width:1.5;\"/>\r\n   </g>\r\n   <g id=\"patch_3\">\r\n    <path d=\"M 43.78125 239.758125 \r\nL 43.78125 22.318125 \r\n\" style=\"fill:none;stroke:#000000;stroke-linecap:square;stroke-linejoin:miter;stroke-width:0.8;\"/>\r\n   </g>\r\n   <g id=\"patch_4\">\r\n    <path d=\"M 378.58125 239.758125 \r\nL 378.58125 22.318125 \r\n\" style=\"fill:none;stroke:#000000;stroke-linecap:square;stroke-linejoin:miter;stroke-width:0.8;\"/>\r\n   </g>\r\n   <g id=\"patch_5\">\r\n    <path d=\"M 43.78125 239.758125 \r\nL 378.58125 239.758125 \r\n\" style=\"fill:none;stroke:#000000;stroke-linecap:square;stroke-linejoin:miter;stroke-width:0.8;\"/>\r\n   </g>\r\n   <g id=\"patch_6\">\r\n    <path d=\"M 43.78125 22.318125 \r\nL 378.58125 22.318125 \r\n\" style=\"fill:none;stroke:#000000;stroke-linecap:square;stroke-linejoin:miter;stroke-width:0.8;\"/>\r\n   </g>\r\n   <g id=\"text_15\">\r\n    <!-- Receiver Operating Characteristic -->\r\n    <g transform=\"translate(109.678125 16.318125)scale(0.12 -0.12)\">\r\n     <defs>\r\n      <path d=\"M 3122 3366 \r\nL 3122 2828 \r\nQ 2878 2963 2633 3030 \r\nQ 2388 3097 2138 3097 \r\nQ 1578 3097 1268 2742 \r\nQ 959 2388 959 1747 \r\nQ 959 1106 1268 751 \r\nQ 1578 397 2138 397 \r\nQ 2388 397 2633 464 \r\nQ 2878 531 3122 666 \r\nL 3122 134 \r\nQ 2881 22 2623 -34 \r\nQ 2366 -91 2075 -91 \r\nQ 1284 -91 818 406 \r\nQ 353 903 353 1747 \r\nQ 353 2603 823 3093 \r\nQ 1294 3584 2113 3584 \r\nQ 2378 3584 2631 3529 \r\nQ 2884 3475 3122 3366 \r\nz\r\n\" id=\"DejaVuSans-63\" transform=\"scale(0.015625)\"/>\r\n      <path d=\"M 2522 4238 \r\nQ 1834 4238 1429 3725 \r\nQ 1025 3213 1025 2328 \r\nQ 1025 1447 1429 934 \r\nQ 1834 422 2522 422 \r\nQ 3209 422 3611 934 \r\nQ 4013 1447 4013 2328 \r\nQ 4013 3213 3611 3725 \r\nQ 3209 4238 2522 4238 \r\nz\r\nM 2522 4750 \r\nQ 3503 4750 4090 4092 \r\nQ 4678 3434 4678 2328 \r\nQ 4678 1225 4090 567 \r\nQ 3503 -91 2522 -91 \r\nQ 1538 -91 948 565 \r\nQ 359 1222 359 2328 \r\nQ 359 3434 948 4092 \r\nQ 1538 4750 2522 4750 \r\nz\r\n\" id=\"DejaVuSans-4f\" transform=\"scale(0.015625)\"/>\r\n      <path d=\"M 1159 525 \r\nL 1159 -1331 \r\nL 581 -1331 \r\nL 581 3500 \r\nL 1159 3500 \r\nL 1159 2969 \r\nQ 1341 3281 1617 3432 \r\nQ 1894 3584 2278 3584 \r\nQ 2916 3584 3314 3078 \r\nQ 3713 2572 3713 1747 \r\nQ 3713 922 3314 415 \r\nQ 2916 -91 2278 -91 \r\nQ 1894 -91 1617 61 \r\nQ 1341 213 1159 525 \r\nz\r\nM 3116 1747 \r\nQ 3116 2381 2855 2742 \r\nQ 2594 3103 2138 3103 \r\nQ 1681 3103 1420 2742 \r\nQ 1159 2381 1159 1747 \r\nQ 1159 1113 1420 752 \r\nQ 1681 391 2138 391 \r\nQ 2594 391 2855 752 \r\nQ 3116 1113 3116 1747 \r\nz\r\n\" id=\"DejaVuSans-70\" transform=\"scale(0.015625)\"/>\r\n      <path d=\"M 3513 2113 \r\nL 3513 0 \r\nL 2938 0 \r\nL 2938 2094 \r\nQ 2938 2591 2744 2837 \r\nQ 2550 3084 2163 3084 \r\nQ 1697 3084 1428 2787 \r\nQ 1159 2491 1159 1978 \r\nL 1159 0 \r\nL 581 0 \r\nL 581 3500 \r\nL 1159 3500 \r\nL 1159 2956 \r\nQ 1366 3272 1645 3428 \r\nQ 1925 3584 2291 3584 \r\nQ 2894 3584 3203 3211 \r\nQ 3513 2838 3513 2113 \r\nz\r\n\" id=\"DejaVuSans-6e\" transform=\"scale(0.015625)\"/>\r\n      <path d=\"M 2906 1791 \r\nQ 2906 2416 2648 2759 \r\nQ 2391 3103 1925 3103 \r\nQ 1463 3103 1205 2759 \r\nQ 947 2416 947 1791 \r\nQ 947 1169 1205 825 \r\nQ 1463 481 1925 481 \r\nQ 2391 481 2648 825 \r\nQ 2906 1169 2906 1791 \r\nz\r\nM 3481 434 \r\nQ 3481 -459 3084 -895 \r\nQ 2688 -1331 1869 -1331 \r\nQ 1566 -1331 1297 -1286 \r\nQ 1028 -1241 775 -1147 \r\nL 775 -588 \r\nQ 1028 -725 1275 -790 \r\nQ 1522 -856 1778 -856 \r\nQ 2344 -856 2625 -561 \r\nQ 2906 -266 2906 331 \r\nL 2906 616 \r\nQ 2728 306 2450 153 \r\nQ 2172 0 1784 0 \r\nQ 1141 0 747 490 \r\nQ 353 981 353 1791 \r\nQ 353 2603 747 3093 \r\nQ 1141 3584 1784 3584 \r\nQ 2172 3584 2450 3431 \r\nQ 2728 3278 2906 2969 \r\nL 2906 3500 \r\nL 3481 3500 \r\nL 3481 434 \r\nz\r\n\" id=\"DejaVuSans-67\" transform=\"scale(0.015625)\"/>\r\n      <path d=\"M 4122 4306 \r\nL 4122 3641 \r\nQ 3803 3938 3442 4084 \r\nQ 3081 4231 2675 4231 \r\nQ 1875 4231 1450 3742 \r\nQ 1025 3253 1025 2328 \r\nQ 1025 1406 1450 917 \r\nQ 1875 428 2675 428 \r\nQ 3081 428 3442 575 \r\nQ 3803 722 4122 1019 \r\nL 4122 359 \r\nQ 3791 134 3420 21 \r\nQ 3050 -91 2638 -91 \r\nQ 1578 -91 968 557 \r\nQ 359 1206 359 2328 \r\nQ 359 3453 968 4101 \r\nQ 1578 4750 2638 4750 \r\nQ 3056 4750 3426 4639 \r\nQ 3797 4528 4122 4306 \r\nz\r\n\" id=\"DejaVuSans-43\" transform=\"scale(0.015625)\"/>\r\n      <path d=\"M 3513 2113 \r\nL 3513 0 \r\nL 2938 0 \r\nL 2938 2094 \r\nQ 2938 2591 2744 2837 \r\nQ 2550 3084 2163 3084 \r\nQ 1697 3084 1428 2787 \r\nQ 1159 2491 1159 1978 \r\nL 1159 0 \r\nL 581 0 \r\nL 581 4863 \r\nL 1159 4863 \r\nL 1159 2956 \r\nQ 1366 3272 1645 3428 \r\nQ 1925 3584 2291 3584 \r\nQ 2894 3584 3203 3211 \r\nQ 3513 2838 3513 2113 \r\nz\r\n\" id=\"DejaVuSans-68\" transform=\"scale(0.015625)\"/>\r\n     </defs>\r\n     <use xlink:href=\"#DejaVuSans-52\"/>\r\n     <use x=\"64.982422\" xlink:href=\"#DejaVuSans-65\"/>\r\n     <use x=\"126.505859\" xlink:href=\"#DejaVuSans-63\"/>\r\n     <use x=\"181.486328\" xlink:href=\"#DejaVuSans-65\"/>\r\n     <use x=\"243.009766\" xlink:href=\"#DejaVuSans-69\"/>\r\n     <use x=\"270.792969\" xlink:href=\"#DejaVuSans-76\"/>\r\n     <use x=\"329.972656\" xlink:href=\"#DejaVuSans-65\"/>\r\n     <use x=\"391.496094\" xlink:href=\"#DejaVuSans-72\"/>\r\n     <use x=\"432.609375\" xlink:href=\"#DejaVuSans-20\"/>\r\n     <use x=\"464.396484\" xlink:href=\"#DejaVuSans-4f\"/>\r\n     <use x=\"543.107422\" xlink:href=\"#DejaVuSans-70\"/>\r\n     <use x=\"606.583984\" xlink:href=\"#DejaVuSans-65\"/>\r\n     <use x=\"668.107422\" xlink:href=\"#DejaVuSans-72\"/>\r\n     <use x=\"709.220703\" xlink:href=\"#DejaVuSans-61\"/>\r\n     <use x=\"770.5\" xlink:href=\"#DejaVuSans-74\"/>\r\n     <use x=\"809.708984\" xlink:href=\"#DejaVuSans-69\"/>\r\n     <use x=\"837.492188\" xlink:href=\"#DejaVuSans-6e\"/>\r\n     <use x=\"900.871094\" xlink:href=\"#DejaVuSans-67\"/>\r\n     <use x=\"964.347656\" xlink:href=\"#DejaVuSans-20\"/>\r\n     <use x=\"996.134766\" xlink:href=\"#DejaVuSans-43\"/>\r\n     <use x=\"1065.958984\" xlink:href=\"#DejaVuSans-68\"/>\r\n     <use x=\"1129.337891\" xlink:href=\"#DejaVuSans-61\"/>\r\n     <use x=\"1190.617188\" xlink:href=\"#DejaVuSans-72\"/>\r\n     <use x=\"1231.730469\" xlink:href=\"#DejaVuSans-61\"/>\r\n     <use x=\"1293.009766\" xlink:href=\"#DejaVuSans-63\"/>\r\n     <use x=\"1347.990234\" xlink:href=\"#DejaVuSans-74\"/>\r\n     <use x=\"1387.199219\" xlink:href=\"#DejaVuSans-65\"/>\r\n     <use x=\"1448.722656\" xlink:href=\"#DejaVuSans-72\"/>\r\n     <use x=\"1489.835938\" xlink:href=\"#DejaVuSans-69\"/>\r\n     <use x=\"1517.619141\" xlink:href=\"#DejaVuSans-73\"/>\r\n     <use x=\"1569.71875\" xlink:href=\"#DejaVuSans-74\"/>\r\n     <use x=\"1608.927734\" xlink:href=\"#DejaVuSans-69\"/>\r\n     <use x=\"1636.710938\" xlink:href=\"#DejaVuSans-63\"/>\r\n    </g>\r\n   </g>\r\n   <g id=\"legend_1\">\r\n    <g id=\"patch_7\">\r\n     <path d=\"M 204.578125 147.743125 \r\nL 371.58125 147.743125 \r\nQ 373.58125 147.743125 373.58125 145.743125 \r\nL 373.58125 29.318125 \r\nQ 373.58125 27.318125 371.58125 27.318125 \r\nL 204.578125 27.318125 \r\nQ 202.578125 27.318125 202.578125 29.318125 \r\nL 202.578125 145.743125 \r\nQ 202.578125 147.743125 204.578125 147.743125 \r\nz\r\n\" style=\"fill:#ffffff;opacity:0.8;stroke:#cccccc;stroke-linejoin:miter;\"/>\r\n    </g>\r\n    <g id=\"line2d_21\">\r\n     <path d=\"M 206.578125 35.416562 \r\nL 226.578125 35.416562 \r\n\" style=\"fill:none;stroke:#1f77b4;stroke-linecap:square;stroke-width:1.5;\"/>\r\n    </g>\r\n    <g id=\"line2d_22\"/>\r\n    <g id=\"text_16\">\r\n     <!-- Perceptron (AUC = 0.65) -->\r\n     <g transform=\"translate(234.578125 38.916562)scale(0.1 -0.1)\">\r\n      <defs>\r\n       <path d=\"M 1984 4856 \r\nQ 1566 4138 1362 3434 \r\nQ 1159 2731 1159 2009 \r\nQ 1159 1288 1364 580 \r\nQ 1569 -128 1984 -844 \r\nL 1484 -844 \r\nQ 1016 -109 783 600 \r\nQ 550 1309 550 2009 \r\nQ 550 2706 781 3412 \r\nQ 1013 4119 1484 4856 \r\nL 1984 4856 \r\nz\r\n\" id=\"DejaVuSans-28\" transform=\"scale(0.015625)\"/>\r\n       <path d=\"M 2188 4044 \r\nL 1331 1722 \r\nL 3047 1722 \r\nL 2188 4044 \r\nz\r\nM 1831 4666 \r\nL 2547 4666 \r\nL 4325 0 \r\nL 3669 0 \r\nL 3244 1197 \r\nL 1141 1197 \r\nL 716 0 \r\nL 50 0 \r\nL 1831 4666 \r\nz\r\n\" id=\"DejaVuSans-41\" transform=\"scale(0.015625)\"/>\r\n       <path d=\"M 556 4666 \r\nL 1191 4666 \r\nL 1191 1831 \r\nQ 1191 1081 1462 751 \r\nQ 1734 422 2344 422 \r\nQ 2950 422 3222 751 \r\nQ 3494 1081 3494 1831 \r\nL 3494 4666 \r\nL 4128 4666 \r\nL 4128 1753 \r\nQ 4128 841 3676 375 \r\nQ 3225 -91 2344 -91 \r\nQ 1459 -91 1007 375 \r\nQ 556 841 556 1753 \r\nL 556 4666 \r\nz\r\n\" id=\"DejaVuSans-55\" transform=\"scale(0.015625)\"/>\r\n       <path d=\"M 678 2906 \r\nL 4684 2906 \r\nL 4684 2381 \r\nL 678 2381 \r\nL 678 2906 \r\nz\r\nM 678 1631 \r\nL 4684 1631 \r\nL 4684 1100 \r\nL 678 1100 \r\nL 678 1631 \r\nz\r\n\" id=\"DejaVuSans-3d\" transform=\"scale(0.015625)\"/>\r\n       <path d=\"M 691 4666 \r\nL 3169 4666 \r\nL 3169 4134 \r\nL 1269 4134 \r\nL 1269 2991 \r\nQ 1406 3038 1543 3061 \r\nQ 1681 3084 1819 3084 \r\nQ 2600 3084 3056 2656 \r\nQ 3513 2228 3513 1497 \r\nQ 3513 744 3044 326 \r\nQ 2575 -91 1722 -91 \r\nQ 1428 -91 1123 -41 \r\nQ 819 9 494 109 \r\nL 494 744 \r\nQ 775 591 1075 516 \r\nQ 1375 441 1709 441 \r\nQ 2250 441 2565 725 \r\nQ 2881 1009 2881 1497 \r\nQ 2881 1984 2565 2268 \r\nQ 2250 2553 1709 2553 \r\nQ 1456 2553 1204 2497 \r\nQ 953 2441 691 2322 \r\nL 691 4666 \r\nz\r\n\" id=\"DejaVuSans-35\" transform=\"scale(0.015625)\"/>\r\n       <path d=\"M 513 4856 \r\nL 1013 4856 \r\nQ 1481 4119 1714 3412 \r\nQ 1947 2706 1947 2009 \r\nQ 1947 1309 1714 600 \r\nQ 1481 -109 1013 -844 \r\nL 513 -844 \r\nQ 928 -128 1133 580 \r\nQ 1338 1288 1338 2009 \r\nQ 1338 2731 1133 3434 \r\nQ 928 4138 513 4856 \r\nz\r\n\" id=\"DejaVuSans-29\" transform=\"scale(0.015625)\"/>\r\n      </defs>\r\n      <use xlink:href=\"#DejaVuSans-50\"/>\r\n      <use x=\"56.677734\" xlink:href=\"#DejaVuSans-65\"/>\r\n      <use x=\"118.201172\" xlink:href=\"#DejaVuSans-72\"/>\r\n      <use x=\"157.064453\" xlink:href=\"#DejaVuSans-63\"/>\r\n      <use x=\"212.044922\" xlink:href=\"#DejaVuSans-65\"/>\r\n      <use x=\"273.568359\" xlink:href=\"#DejaVuSans-70\"/>\r\n      <use x=\"337.044922\" xlink:href=\"#DejaVuSans-74\"/>\r\n      <use x=\"376.253906\" xlink:href=\"#DejaVuSans-72\"/>\r\n      <use x=\"415.117188\" xlink:href=\"#DejaVuSans-6f\"/>\r\n      <use x=\"476.298828\" xlink:href=\"#DejaVuSans-6e\"/>\r\n      <use x=\"539.677734\" xlink:href=\"#DejaVuSans-20\"/>\r\n      <use x=\"571.464844\" xlink:href=\"#DejaVuSans-28\"/>\r\n      <use x=\"610.478516\" xlink:href=\"#DejaVuSans-41\"/>\r\n      <use x=\"678.886719\" xlink:href=\"#DejaVuSans-55\"/>\r\n      <use x=\"752.080078\" xlink:href=\"#DejaVuSans-43\"/>\r\n      <use x=\"821.904297\" xlink:href=\"#DejaVuSans-20\"/>\r\n      <use x=\"853.691406\" xlink:href=\"#DejaVuSans-3d\"/>\r\n      <use x=\"937.480469\" xlink:href=\"#DejaVuSans-20\"/>\r\n      <use x=\"969.267578\" xlink:href=\"#DejaVuSans-30\"/>\r\n      <use x=\"1032.890625\" xlink:href=\"#DejaVuSans-2e\"/>\r\n      <use x=\"1064.677734\" xlink:href=\"#DejaVuSans-36\"/>\r\n      <use x=\"1128.300781\" xlink:href=\"#DejaVuSans-35\"/>\r\n      <use x=\"1191.923828\" xlink:href=\"#DejaVuSans-29\"/>\r\n     </g>\r\n    </g>\r\n    <g id=\"line2d_23\">\r\n     <path d=\"M 206.578125 50.094688 \r\nL 226.578125 50.094688 \r\n\" style=\"fill:none;stroke:#ff7f0e;stroke-linecap:square;stroke-width:1.5;\"/>\r\n    </g>\r\n    <g id=\"line2d_24\"/>\r\n    <g id=\"text_17\">\r\n     <!-- MLPClassifier (AUC = 0.50) -->\r\n     <g transform=\"translate(234.578125 53.594688)scale(0.1 -0.1)\">\r\n      <defs>\r\n       <path d=\"M 628 4666 \r\nL 1569 4666 \r\nL 2759 1491 \r\nL 3956 4666 \r\nL 4897 4666 \r\nL 4897 0 \r\nL 4281 0 \r\nL 4281 4097 \r\nL 3078 897 \r\nL 2444 897 \r\nL 1241 4097 \r\nL 1241 0 \r\nL 628 0 \r\nL 628 4666 \r\nz\r\n\" id=\"DejaVuSans-4d\" transform=\"scale(0.015625)\"/>\r\n       <path d=\"M 628 4666 \r\nL 1259 4666 \r\nL 1259 531 \r\nL 3531 531 \r\nL 3531 0 \r\nL 628 0 \r\nL 628 4666 \r\nz\r\n\" id=\"DejaVuSans-4c\" transform=\"scale(0.015625)\"/>\r\n       <path d=\"M 2375 4863 \r\nL 2375 4384 \r\nL 1825 4384 \r\nQ 1516 4384 1395 4259 \r\nQ 1275 4134 1275 3809 \r\nL 1275 3500 \r\nL 2222 3500 \r\nL 2222 3053 \r\nL 1275 3053 \r\nL 1275 0 \r\nL 697 0 \r\nL 697 3053 \r\nL 147 3053 \r\nL 147 3500 \r\nL 697 3500 \r\nL 697 3744 \r\nQ 697 4328 969 4595 \r\nQ 1241 4863 1831 4863 \r\nL 2375 4863 \r\nz\r\n\" id=\"DejaVuSans-66\" transform=\"scale(0.015625)\"/>\r\n      </defs>\r\n      <use xlink:href=\"#DejaVuSans-4d\"/>\r\n      <use x=\"86.279297\" xlink:href=\"#DejaVuSans-4c\"/>\r\n      <use x=\"141.992188\" xlink:href=\"#DejaVuSans-50\"/>\r\n      <use x=\"202.294922\" xlink:href=\"#DejaVuSans-43\"/>\r\n      <use x=\"272.119141\" xlink:href=\"#DejaVuSans-6c\"/>\r\n      <use x=\"299.902344\" xlink:href=\"#DejaVuSans-61\"/>\r\n      <use x=\"361.181641\" xlink:href=\"#DejaVuSans-73\"/>\r\n      <use x=\"413.28125\" xlink:href=\"#DejaVuSans-73\"/>\r\n      <use x=\"465.380859\" xlink:href=\"#DejaVuSans-69\"/>\r\n      <use x=\"493.164062\" xlink:href=\"#DejaVuSans-66\"/>\r\n      <use x=\"528.369141\" xlink:href=\"#DejaVuSans-69\"/>\r\n      <use x=\"556.152344\" xlink:href=\"#DejaVuSans-65\"/>\r\n      <use x=\"617.675781\" xlink:href=\"#DejaVuSans-72\"/>\r\n      <use x=\"658.789062\" xlink:href=\"#DejaVuSans-20\"/>\r\n      <use x=\"690.576172\" xlink:href=\"#DejaVuSans-28\"/>\r\n      <use x=\"729.589844\" xlink:href=\"#DejaVuSans-41\"/>\r\n      <use x=\"797.998047\" xlink:href=\"#DejaVuSans-55\"/>\r\n      <use x=\"871.191406\" xlink:href=\"#DejaVuSans-43\"/>\r\n      <use x=\"941.015625\" xlink:href=\"#DejaVuSans-20\"/>\r\n      <use x=\"972.802734\" xlink:href=\"#DejaVuSans-3d\"/>\r\n      <use x=\"1056.591797\" xlink:href=\"#DejaVuSans-20\"/>\r\n      <use x=\"1088.378906\" xlink:href=\"#DejaVuSans-30\"/>\r\n      <use x=\"1152.001953\" xlink:href=\"#DejaVuSans-2e\"/>\r\n      <use x=\"1183.789062\" xlink:href=\"#DejaVuSans-35\"/>\r\n      <use x=\"1247.412109\" xlink:href=\"#DejaVuSans-30\"/>\r\n      <use x=\"1311.035156\" xlink:href=\"#DejaVuSans-29\"/>\r\n     </g>\r\n    </g>\r\n    <g id=\"line2d_25\">\r\n     <path d=\"M 206.578125 64.772812 \r\nL 226.578125 64.772812 \r\n\" style=\"fill:none;stroke:#2ca02c;stroke-linecap:square;stroke-width:1.5;\"/>\r\n    </g>\r\n    <g id=\"line2d_26\"/>\r\n    <g id=\"text_18\">\r\n     <!-- Força Bruta -->\r\n     <g transform=\"translate(234.578125 68.272812)scale(0.1 -0.1)\">\r\n      <defs>\r\n       <path d=\"M 3122 3366 \r\nL 3122 2828 \r\nQ 2878 2963 2633 3030 \r\nQ 2388 3097 2138 3097 \r\nQ 1578 3097 1268 2742 \r\nQ 959 2388 959 1747 \r\nQ 959 1106 1268 751 \r\nQ 1578 397 2138 397 \r\nQ 2388 397 2633 464 \r\nQ 2878 531 3122 666 \r\nL 3122 134 \r\nQ 2881 22 2623 -34 \r\nQ 2366 -91 2075 -91 \r\nQ 1284 -91 818 406 \r\nQ 353 903 353 1747 \r\nQ 353 2603 823 3093 \r\nQ 1294 3584 2113 3584 \r\nQ 2378 3584 2631 3529 \r\nQ 2884 3475 3122 3366 \r\nz\r\nM 2311 0 \r\nQ 2482 -194 2566 -358 \r\nQ 2651 -522 2651 -672 \r\nQ 2651 -950 2463 -1092 \r\nQ 2276 -1234 1907 -1234 \r\nQ 1764 -1234 1628 -1215 \r\nQ 1492 -1197 1357 -1159 \r\nL 1357 -750 \r\nQ 1464 -803 1579 -826 \r\nQ 1695 -850 1842 -850 \r\nQ 2026 -850 2120 -775 \r\nQ 2214 -700 2214 -556 \r\nQ 2214 -463 2146 -327 \r\nQ 2079 -191 1939 0 \r\nL 2311 0 \r\nz\r\n\" id=\"DejaVuSans-e7\" transform=\"scale(0.015625)\"/>\r\n       <path d=\"M 1259 2228 \r\nL 1259 519 \r\nL 2272 519 \r\nQ 2781 519 3026 730 \r\nQ 3272 941 3272 1375 \r\nQ 3272 1813 3026 2020 \r\nQ 2781 2228 2272 2228 \r\nL 1259 2228 \r\nz\r\nM 1259 4147 \r\nL 1259 2741 \r\nL 2194 2741 \r\nQ 2656 2741 2882 2914 \r\nQ 3109 3088 3109 3444 \r\nQ 3109 3797 2882 3972 \r\nQ 2656 4147 2194 4147 \r\nL 1259 4147 \r\nz\r\nM 628 4666 \r\nL 2241 4666 \r\nQ 2963 4666 3353 4366 \r\nQ 3744 4066 3744 3513 \r\nQ 3744 3084 3544 2831 \r\nQ 3344 2578 2956 2516 \r\nQ 3422 2416 3680 2098 \r\nQ 3938 1781 3938 1306 \r\nQ 3938 681 3513 340 \r\nQ 3088 0 2303 0 \r\nL 628 0 \r\nL 628 4666 \r\nz\r\n\" id=\"DejaVuSans-42\" transform=\"scale(0.015625)\"/>\r\n      </defs>\r\n      <use xlink:href=\"#DejaVuSans-46\"/>\r\n      <use x=\"53.894531\" xlink:href=\"#DejaVuSans-6f\"/>\r\n      <use x=\"115.076172\" xlink:href=\"#DejaVuSans-72\"/>\r\n      <use x=\"153.939453\" xlink:href=\"#DejaVuSans-e7\"/>\r\n      <use x=\"208.919922\" xlink:href=\"#DejaVuSans-61\"/>\r\n      <use x=\"270.199219\" xlink:href=\"#DejaVuSans-20\"/>\r\n      <use x=\"301.986328\" xlink:href=\"#DejaVuSans-42\"/>\r\n      <use x=\"370.589844\" xlink:href=\"#DejaVuSans-72\"/>\r\n      <use x=\"411.703125\" xlink:href=\"#DejaVuSans-75\"/>\r\n      <use x=\"475.082031\" xlink:href=\"#DejaVuSans-74\"/>\r\n      <use x=\"514.291016\" xlink:href=\"#DejaVuSans-61\"/>\r\n     </g>\r\n    </g>\r\n    <g id=\"line2d_27\">\r\n     <path d=\"M 206.578125 79.450938 \r\nL 226.578125 79.450938 \r\n\" style=\"fill:none;stroke:#d62728;stroke-dasharray:5.55,2.4;stroke-dashoffset:0;stroke-width:1.5;\"/>\r\n    </g>\r\n    <g id=\"line2d_28\"/>\r\n    <g id=\"text_19\">\r\n     <!-- HSGS -->\r\n     <g transform=\"translate(234.578125 82.950938)scale(0.1 -0.1)\">\r\n      <defs>\r\n       <path d=\"M 628 4666 \r\nL 1259 4666 \r\nL 1259 2753 \r\nL 3553 2753 \r\nL 3553 4666 \r\nL 4184 4666 \r\nL 4184 0 \r\nL 3553 0 \r\nL 3553 2222 \r\nL 1259 2222 \r\nL 1259 0 \r\nL 628 0 \r\nL 628 4666 \r\nz\r\n\" id=\"DejaVuSans-48\" transform=\"scale(0.015625)\"/>\r\n       <path d=\"M 3425 4513 \r\nL 3425 3897 \r\nQ 3066 4069 2747 4153 \r\nQ 2428 4238 2131 4238 \r\nQ 1616 4238 1336 4038 \r\nQ 1056 3838 1056 3469 \r\nQ 1056 3159 1242 3001 \r\nQ 1428 2844 1947 2747 \r\nL 2328 2669 \r\nQ 3034 2534 3370 2195 \r\nQ 3706 1856 3706 1288 \r\nQ 3706 609 3251 259 \r\nQ 2797 -91 1919 -91 \r\nQ 1588 -91 1214 -16 \r\nQ 841 59 441 206 \r\nL 441 856 \r\nQ 825 641 1194 531 \r\nQ 1563 422 1919 422 \r\nQ 2459 422 2753 634 \r\nQ 3047 847 3047 1241 \r\nQ 3047 1584 2836 1778 \r\nQ 2625 1972 2144 2069 \r\nL 1759 2144 \r\nQ 1053 2284 737 2584 \r\nQ 422 2884 422 3419 \r\nQ 422 4038 858 4394 \r\nQ 1294 4750 2059 4750 \r\nQ 2388 4750 2728 4690 \r\nQ 3069 4631 3425 4513 \r\nz\r\n\" id=\"DejaVuSans-53\" transform=\"scale(0.015625)\"/>\r\n       <path d=\"M 3809 666 \r\nL 3809 1919 \r\nL 2778 1919 \r\nL 2778 2438 \r\nL 4434 2438 \r\nL 4434 434 \r\nQ 4069 175 3628 42 \r\nQ 3188 -91 2688 -91 \r\nQ 1594 -91 976 548 \r\nQ 359 1188 359 2328 \r\nQ 359 3472 976 4111 \r\nQ 1594 4750 2688 4750 \r\nQ 3144 4750 3555 4637 \r\nQ 3966 4525 4313 4306 \r\nL 4313 3634 \r\nQ 3963 3931 3569 4081 \r\nQ 3175 4231 2741 4231 \r\nQ 1884 4231 1454 3753 \r\nQ 1025 3275 1025 2328 \r\nQ 1025 1384 1454 906 \r\nQ 1884 428 2741 428 \r\nQ 3075 428 3337 486 \r\nQ 3600 544 3809 666 \r\nz\r\n\" id=\"DejaVuSans-47\" transform=\"scale(0.015625)\"/>\r\n      </defs>\r\n      <use xlink:href=\"#DejaVuSans-48\"/>\r\n      <use x=\"75.195312\" xlink:href=\"#DejaVuSans-53\"/>\r\n      <use x=\"138.671875\" xlink:href=\"#DejaVuSans-47\"/>\r\n      <use x=\"216.162109\" xlink:href=\"#DejaVuSans-53\"/>\r\n     </g>\r\n    </g>\r\n    <g id=\"line2d_29\">\r\n     <path d=\"M 206.578125 94.129063 \r\nL 226.578125 94.129063 \r\n\" style=\"fill:none;stroke:#9467bd;stroke-dasharray:9.6,2.4,1.5,2.4;stroke-dashoffset:0;stroke-width:1.5;\"/>\r\n    </g>\r\n    <g id=\"line2d_30\"/>\r\n    <g id=\"text_20\">\r\n     <!-- Phase Original -->\r\n     <g transform=\"translate(234.578125 97.629063)scale(0.1 -0.1)\">\r\n      <use xlink:href=\"#DejaVuSans-50\"/>\r\n      <use x=\"60.302734\" xlink:href=\"#DejaVuSans-68\"/>\r\n      <use x=\"123.681641\" xlink:href=\"#DejaVuSans-61\"/>\r\n      <use x=\"184.960938\" xlink:href=\"#DejaVuSans-73\"/>\r\n      <use x=\"237.060547\" xlink:href=\"#DejaVuSans-65\"/>\r\n      <use x=\"298.583984\" xlink:href=\"#DejaVuSans-20\"/>\r\n      <use x=\"330.371094\" xlink:href=\"#DejaVuSans-4f\"/>\r\n      <use x=\"409.082031\" xlink:href=\"#DejaVuSans-72\"/>\r\n      <use x=\"450.195312\" xlink:href=\"#DejaVuSans-69\"/>\r\n      <use x=\"477.978516\" xlink:href=\"#DejaVuSans-67\"/>\r\n      <use x=\"541.455078\" xlink:href=\"#DejaVuSans-69\"/>\r\n      <use x=\"569.238281\" xlink:href=\"#DejaVuSans-6e\"/>\r\n      <use x=\"632.617188\" xlink:href=\"#DejaVuSans-61\"/>\r\n      <use x=\"693.896484\" xlink:href=\"#DejaVuSans-6c\"/>\r\n     </g>\r\n    </g>\r\n    <g id=\"line2d_31\">\r\n     <path d=\"M 206.578125 108.807187 \r\nL 226.578125 108.807187 \r\n\" style=\"fill:none;stroke:#8c564b;stroke-dasharray:1.5,2.475;stroke-dashoffset:0;stroke-width:1.5;\"/>\r\n    </g>\r\n    <g id=\"line2d_32\"/>\r\n    <g id=\"text_21\">\r\n     <!-- Phase Angle -->\r\n     <g transform=\"translate(234.578125 112.307187)scale(0.1 -0.1)\">\r\n      <use xlink:href=\"#DejaVuSans-50\"/>\r\n      <use x=\"60.302734\" xlink:href=\"#DejaVuSans-68\"/>\r\n      <use x=\"123.681641\" xlink:href=\"#DejaVuSans-61\"/>\r\n      <use x=\"184.960938\" xlink:href=\"#DejaVuSans-73\"/>\r\n      <use x=\"237.060547\" xlink:href=\"#DejaVuSans-65\"/>\r\n      <use x=\"298.583984\" xlink:href=\"#DejaVuSans-20\"/>\r\n      <use x=\"330.371094\" xlink:href=\"#DejaVuSans-41\"/>\r\n      <use x=\"398.779297\" xlink:href=\"#DejaVuSans-6e\"/>\r\n      <use x=\"462.158203\" xlink:href=\"#DejaVuSans-67\"/>\r\n      <use x=\"525.634766\" xlink:href=\"#DejaVuSans-6c\"/>\r\n      <use x=\"553.417969\" xlink:href=\"#DejaVuSans-65\"/>\r\n     </g>\r\n    </g>\r\n    <g id=\"line2d_33\">\r\n     <path d=\"M 206.578125 123.485312 \r\nL 226.578125 123.485312 \r\n\" style=\"fill:none;stroke:#e377c2;stroke-linecap:square;stroke-width:1.5;\"/>\r\n    </g>\r\n    <g id=\"line2d_34\"/>\r\n    <g id=\"text_22\">\r\n     <!-- Phase Radius -->\r\n     <g transform=\"translate(234.578125 126.985312)scale(0.1 -0.1)\">\r\n      <defs>\r\n       <path d=\"M 2906 2969 \r\nL 2906 4863 \r\nL 3481 4863 \r\nL 3481 0 \r\nL 2906 0 \r\nL 2906 525 \r\nQ 2725 213 2448 61 \r\nQ 2172 -91 1784 -91 \r\nQ 1150 -91 751 415 \r\nQ 353 922 353 1747 \r\nQ 353 2572 751 3078 \r\nQ 1150 3584 1784 3584 \r\nQ 2172 3584 2448 3432 \r\nQ 2725 3281 2906 2969 \r\nz\r\nM 947 1747 \r\nQ 947 1113 1208 752 \r\nQ 1469 391 1925 391 \r\nQ 2381 391 2643 752 \r\nQ 2906 1113 2906 1747 \r\nQ 2906 2381 2643 2742 \r\nQ 2381 3103 1925 3103 \r\nQ 1469 3103 1208 2742 \r\nQ 947 2381 947 1747 \r\nz\r\n\" id=\"DejaVuSans-64\" transform=\"scale(0.015625)\"/>\r\n      </defs>\r\n      <use xlink:href=\"#DejaVuSans-50\"/>\r\n      <use x=\"60.302734\" xlink:href=\"#DejaVuSans-68\"/>\r\n      <use x=\"123.681641\" xlink:href=\"#DejaVuSans-61\"/>\r\n      <use x=\"184.960938\" xlink:href=\"#DejaVuSans-73\"/>\r\n      <use x=\"237.060547\" xlink:href=\"#DejaVuSans-65\"/>\r\n      <use x=\"298.583984\" xlink:href=\"#DejaVuSans-20\"/>\r\n      <use x=\"330.371094\" xlink:href=\"#DejaVuSans-52\"/>\r\n      <use x=\"397.603516\" xlink:href=\"#DejaVuSans-61\"/>\r\n      <use x=\"458.882812\" xlink:href=\"#DejaVuSans-64\"/>\r\n      <use x=\"522.359375\" xlink:href=\"#DejaVuSans-69\"/>\r\n      <use x=\"550.142578\" xlink:href=\"#DejaVuSans-75\"/>\r\n      <use x=\"613.521484\" xlink:href=\"#DejaVuSans-73\"/>\r\n     </g>\r\n    </g>\r\n    <g id=\"line2d_35\">\r\n     <path d=\"M 206.578125 138.163437 \r\nL 226.578125 138.163437 \r\n\" style=\"fill:none;stroke:#7f7f7f;stroke-dasharray:5.55,2.4;stroke-dashoffset:0;stroke-width:1.5;\"/>\r\n    </g>\r\n    <g id=\"line2d_36\"/>\r\n    <g id=\"text_23\">\r\n     <!-- Phase A/R -->\r\n     <g transform=\"translate(234.578125 141.663437)scale(0.1 -0.1)\">\r\n      <defs>\r\n       <path d=\"M 1625 4666 \r\nL 2156 4666 \r\nL 531 -594 \r\nL 0 -594 \r\nL 1625 4666 \r\nz\r\n\" id=\"DejaVuSans-2f\" transform=\"scale(0.015625)\"/>\r\n      </defs>\r\n      <use xlink:href=\"#DejaVuSans-50\"/>\r\n      <use x=\"60.302734\" xlink:href=\"#DejaVuSans-68\"/>\r\n      <use x=\"123.681641\" xlink:href=\"#DejaVuSans-61\"/>\r\n      <use x=\"184.960938\" xlink:href=\"#DejaVuSans-73\"/>\r\n      <use x=\"237.060547\" xlink:href=\"#DejaVuSans-65\"/>\r\n      <use x=\"298.583984\" xlink:href=\"#DejaVuSans-20\"/>\r\n      <use x=\"330.371094\" xlink:href=\"#DejaVuSans-41\"/>\r\n      <use x=\"398.779297\" xlink:href=\"#DejaVuSans-2f\"/>\r\n      <use x=\"432.470703\" xlink:href=\"#DejaVuSans-52\"/>\r\n     </g>\r\n    </g>\r\n   </g>\r\n  </g>\r\n </g>\r\n <defs>\r\n  <clipPath id=\"p334d595a41\">\r\n   <rect height=\"217.44\" width=\"334.8\" x=\"43.78125\" y=\"22.318125\"/>\r\n  </clipPath>\r\n </defs>\r\n</svg>\r\n",
      "image/png": "[encoded data removed]"
     },
     "metadata": {
      "needs_background": "light"
     }
    }
   ],
   "metadata": {}
  }
 ],
 "metadata": {
  "orig_nbformat": 4,
  "language_info": {
   "name": "python",
   "version": "3.9.5",
   "mimetype": "text/x-python",
   "codemirror_mode": {
    "name": "ipython",
    "version": 3
   },
   "pygments_lexer": "ipython3",
   "nbconvert_exporter": "python",
   "file_extension": ".py"
  },
  "kernelspec": {
   "name": "python3",
   "display_name": "Python 3.9.5 64-bit"
  },
  "interpreter": {
   "hash": "42fbc002943581b16f5e964e90a2017da702e7a1739ff8858595e3331101e287"
  }
 },
 "nbformat": 4,
 "nbformat_minor": 2
}