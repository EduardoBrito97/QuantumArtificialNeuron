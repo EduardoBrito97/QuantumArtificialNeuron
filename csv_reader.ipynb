{
 "cells": [
  {
   "cell_type": "code",
   "execution_count": 14,
   "source": [
    "import pandas as pd\r\n",
    "import matplotlib.pyplot as plt\r\n",
    "from statistics import stdev, mean\r\n",
    "%matplotlib inline"
   ],
   "outputs": [],
   "metadata": {}
  },
  {
   "cell_type": "code",
   "execution_count": 15,
   "source": [
    "def report_string_to_dict(report):\r\n",
    "    report_dict = {}\r\n",
    "    metrics = report.split('\\n')[0].split()\r\n",
    "    for row in report.split('\\n')[1:]:\r\n",
    "        splitted = row.split()\r\n",
    "        if len(splitted) > 4:\r\n",
    "            class_name_size = len(splitted[0:-4])\r\n",
    "            class_name = \" \".join(splitted[0:-4])\r\n",
    "            report_dict[class_name] = {}\r\n",
    "            for metric_index in range(len(metrics)):\r\n",
    "                metric = metrics[metric_index]\r\n",
    "                metric_val = splitted[metric_index + class_name_size]\r\n",
    "                report_dict[class_name][metric] = metric_val\r\n",
    "        elif len(splitted) > 0:\r\n",
    "            metric = splitted[0]\r\n",
    "            report_dict[metric] = {}\r\n",
    "            report_dict[metric][metrics[-2]] = splitted[1]\r\n",
    "            report_dict[metric][metrics[-1]] = splitted[2]\r\n",
    "    return report_dict"
   ],
   "outputs": [],
   "metadata": {}
  },
  {
   "cell_type": "code",
   "execution_count": 16,
   "source": [
    "def csv_to_dataframe(csv_name, csv_folder = \"\"):\r\n",
    "    if len(csv_folder) == 0:\r\n",
    "        return pd.read_csv(csv_name + \".csv\")\r\n",
    "    else:\r\n",
    "        return pd.read_csv(csv_folder + \"/\" + csv_name + \".csv\")"
   ],
   "outputs": [],
   "metadata": {}
  },
  {
   "cell_type": "code",
   "execution_count": 17,
   "source": [
    "def get_metrics_avg(csv_name, dataset_name, model_name, folder_name = \"\", filter_dataset = True):\r\n",
    "    df = csv_to_dataframe(csv_name, folder_name)\r\n",
    "    \r\n",
    "    if filter_dataset:\r\n",
    "        df = df.loc[df['dataset'] == dataset_name]\r\n",
    "        \r\n",
    "    df = df.loc[df['model'] == model_name]\r\n",
    "    reports_string = df['report'].tolist()\r\n",
    "    reports = []\r\n",
    "    for report in reports_string:\r\n",
    "        reports.append(report_string_to_dict(report))\r\n",
    "\r\n",
    "    accuracy = []\r\n",
    "    f1_score = []\r\n",
    "    f1_score_weighted = []\r\n",
    "\r\n",
    "    for report in reports:\r\n",
    "        accuracy.append(float(report['accuracy']['f1-score']))\r\n",
    "        f1_score.append(float(report['macro avg']['f1-score']))\r\n",
    "        f1_score_weighted.append(float(report['weighted avg']['f1-score']))\r\n",
    "\r\n",
    "    accuracy_dev = round(stdev(accuracy), 3)\r\n",
    "    f1_score_dev = round(stdev(accuracy), 3)\r\n",
    "    f1_score_weighted_dev = round(stdev(accuracy), 3)\r\n",
    "\r\n",
    "    accuracy_avg = round(mean(accuracy), 3)\r\n",
    "    f1_score_avg = round(mean(f1_score), 3)\r\n",
    "    f1_score_weighted_avg = round(mean(f1_score_weighted), 3)\r\n",
    "\r\n",
    "    result = {\r\n",
    "        'accuracy': {\r\n",
    "            'avg' : accuracy_avg,\r\n",
    "            'dev' : accuracy_dev\r\n",
    "        },\r\n",
    "        'f1_score': {\r\n",
    "            'avg' : f1_score_avg,\r\n",
    "            'dev' : f1_score_dev\r\n",
    "        },\r\n",
    "        'f1_score_weighted': {\r\n",
    "            'avg' : f1_score_weighted_avg,\r\n",
    "            'dev' : f1_score_weighted_dev\r\n",
    "        },\r\n",
    "    }\r\n",
    "\r\n",
    "    return result"
   ],
   "outputs": [],
   "metadata": {}
  },
  {
   "cell_type": "code",
   "execution_count": 18,
   "source": [
    "get_metrics_avg('classic_models_results', 'caesarian.arff', 'perceptron', folder_name='results')"
   ],
   "outputs": [
    {
     "output_type": "execute_result",
     "data": {
      "text/plain": [
       "{'accuracy': {'avg': 0.535, 'dev': 0.065},\n",
       " 'f1_score': {'avg': 0.393, 'dev': 0.065},\n",
       " 'f1_score_weighted': {'avg': 0.402, 'dev': 0.065}}"
      ]
     },
     "metadata": {},
     "execution_count": 18
    }
   ],
   "metadata": {}
  },
  {
   "cell_type": "code",
   "execution_count": 19,
   "source": [
    "get_metrics_avg('classic_models_results', 'caesarian.arff', 'mlp', folder_name='results')"
   ],
   "outputs": [
    {
     "output_type": "execute_result",
     "data": {
      "text/plain": [
       "{'accuracy': {'avg': 0.571, 'dev': 0.069},\n",
       " 'f1_score': {'avg': 0.425, 'dev': 0.069},\n",
       " 'f1_score_weighted': {'avg': 0.449, 'dev': 0.069}}"
      ]
     },
     "metadata": {},
     "execution_count": 19
    }
   ],
   "metadata": {}
  },
  {
   "cell_type": "code",
   "execution_count": 20,
   "source": [
    "get_metrics_avg('experiments_caesarian', 'caesarian.arff', 'hsgs', folder_name='results', filter_dataset=False)"
   ],
   "outputs": [
    {
     "output_type": "execute_result",
     "data": {
      "text/plain": [
       "{'accuracy': {'avg': 0.478, 'dev': 0.092},\n",
       " 'f1_score': {'avg': 0.395, 'dev': 0.092},\n",
       " 'f1_score_weighted': {'avg': 0.372, 'dev': 0.092}}"
      ]
     },
     "metadata": {},
     "execution_count": 20
    }
   ],
   "metadata": {}
  },
  {
   "cell_type": "code",
   "execution_count": 21,
   "source": [
    "get_metrics_avg('experiments_caesarian', 'caesarian.arff', 'phase-encoding', folder_name='results', filter_dataset=False)"
   ],
   "outputs": [
    {
     "output_type": "execute_result",
     "data": {
      "text/plain": [
       "{'accuracy': {'avg': 0.451, 'dev': 0.063},\n",
       " 'f1_score': {'avg': 0.329, 'dev': 0.063},\n",
       " 'f1_score_weighted': {'avg': 0.301, 'dev': 0.063}}"
      ]
     },
     "metadata": {},
     "execution_count": 21
    }
   ],
   "metadata": {}
  },
  {
   "cell_type": "code",
   "execution_count": 22,
   "source": [
    "get_metrics_avg('classic_models_results', 'breast_tissue_data.csv', 'perceptron', folder_name='results')"
   ],
   "outputs": [
    {
     "output_type": "execute_result",
     "data": {
      "text/plain": [
       "{'accuracy': {'avg': 0.318, 'dev': 0.097},\n",
       " 'f1_score': {'avg': 0.17, 'dev': 0.097},\n",
       " 'f1_score_weighted': {'avg': 0.203, 'dev': 0.097}}"
      ]
     },
     "metadata": {},
     "execution_count": 22
    }
   ],
   "metadata": {}
  },
  {
   "cell_type": "code",
   "execution_count": 23,
   "source": [
    "get_metrics_avg('classic_models_results', 'breast_tissue_data.csv', 'mlp', folder_name='results')"
   ],
   "outputs": [
    {
     "output_type": "execute_result",
     "data": {
      "text/plain": [
       "{'accuracy': {'avg': 0.321, 'dev': 0.13},\n",
       " 'f1_score': {'avg': 0.187, 'dev': 0.13},\n",
       " 'f1_score_weighted': {'avg': 0.209, 'dev': 0.13}}"
      ]
     },
     "metadata": {},
     "execution_count": 23
    }
   ],
   "metadata": {}
  },
  {
   "cell_type": "code",
   "execution_count": 24,
   "source": [
    "def get_tp_and_fp_ratio_from_csv(csv_name, folder_name, index):\r\n",
    "    df = csv_to_dataframe(csv_name, folder_name)\r\n",
    "\r\n",
    "    matrix_str = df.iloc[index]['matrix']\r\n",
    "    matrix_str = matrix_str.replace(\"[\", \"\")\r\n",
    "    matrix_str = matrix_str.replace(\"]\", \"\")\r\n",
    "\r\n",
    "    matrix = []\r\n",
    "    for line in matrix_str.split('\\n'):\r\n",
    "        matrix.append([])\r\n",
    "        for element in line.strip().split():\r\n",
    "            matrix[-1].append(int(element))\r\n",
    "    tp_ratio = round(matrix[1][1]/(matrix[1][1] + matrix[1][0]), 3)\r\n",
    "    fp_ratio = round(matrix[0][1]/(matrix[1][1] + matrix[1][0]), 3)\r\n",
    "    return tp_ratio, fp_ratio"
   ],
   "outputs": [],
   "metadata": {}
  },
  {
   "cell_type": "code",
   "execution_count": 25,
   "source": [
    "def plot_roc(ratios_and_labels, filename = \"\"):\r\n",
    "    plt.title('Receiver Operating Characteristic')\r\n",
    "    color_index = 0\r\n",
    "    colors = ['bo', 'ro', 'g+', 'ko', 'yo']\r\n",
    "    for ratio_and_label in ratios_and_labels:\r\n",
    "        plt.plot(ratio_and_label[1], ratio_and_label[0], colors[color_index], label=ratio_and_label[2])\r\n",
    "        color_index += 1\r\n",
    "    plt.legend(loc='lower right')\r\n",
    "    plt.plot([0, 1], [0, 1], 'r--')\r\n",
    "    plt.xlim([0, 1])\r\n",
    "    plt.ylim([0, 1])\r\n",
    "    plt.ylabel('True Positive Rate')\r\n",
    "    plt.xlabel('False Positive Rate')\r\n",
    "    if len(filename) > 0:\r\n",
    "        plt.savefig(filename)"
   ],
   "outputs": [],
   "metadata": {}
  },
  {
   "cell_type": "code",
   "execution_count": 26,
   "source": [
    "tp_perceptron, fp_perceptron = get_tp_and_fp_ratio_from_csv('classic_models_results', 'results', 6)\r\n",
    "tp_mlp, fp_mlp = get_tp_and_fp_ratio_from_csv('classic_models_results', 'results', 21)\r\n",
    "tp_phase, fp_phase = get_tp_and_fp_ratio_from_csv('experiments_caesarian', 'results', 21)\r\n",
    "tp_hsgs, fp_hsgs = get_tp_and_fp_ratio_from_csv('experiments_caesarian', 'results', 4)\r\n",
    "\r\n",
    "plot_roc([[tp_perceptron, fp_perceptron, 'Perceptron'],\r\n",
    "           [tp_mlp, fp_mlp, 'MLP'],\r\n",
    "           [tp_phase, fp_phase, 'Phase-Encoding'],\r\n",
    "           [tp_hsgs, fp_hsgs, 'HSGS']], \"results/caesarian_roc.png\")"
   ],
   "outputs": [
    {
     "output_type": "display_data",
     "data": {
      "text/plain": [
       "<Figure size 432x288 with 1 Axes>"
      ],
      "image/png": "[encoded data removed]"
     },
     "metadata": {
      "needs_background": "light"
     }
    }
   ],
   "metadata": {}
  }
 ],
 "metadata": {
  "orig_nbformat": 4,
  "language_info": {
   "name": "python",
   "version": "3.9.5",
   "mimetype": "text/x-python",
   "codemirror_mode": {
    "name": "ipython",
    "version": 3
   },
   "pygments_lexer": "ipython3",
   "nbconvert_exporter": "python",
   "file_extension": ".py"
  },
  "kernelspec": {
   "name": "python3",
   "display_name": "Python 3.9.5 64-bit"
  },
  "interpreter": {
   "hash": "42fbc002943581b16f5e964e90a2017da702e7a1739ff8858595e3331101e287"
  }
 },
 "nbformat": 4,
 "nbformat_minor": 2
}