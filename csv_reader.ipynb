{
 "cells": [
  {
   "cell_type": "code",
   "execution_count": 1,
   "source": [
    "import pandas as pd\r\n",
    "import matplotlib.pyplot as plt\r\n",
    "from statistics import stdev, mean\r\n",
    "%matplotlib inline"
   ],
   "outputs": [],
   "metadata": {}
  },
  {
   "cell_type": "markdown",
   "source": [
    "# Config"
   ],
   "metadata": {}
  },
  {
   "cell_type": "code",
   "execution_count": 2,
   "source": [
    "def report_string_to_dict(report):\r\n",
    "    report_dict = {}\r\n",
    "    metrics = report.split('\\n')[0].split()\r\n",
    "    for row in report.split('\\n')[1:]:\r\n",
    "        splitted = row.split()\r\n",
    "        if len(splitted) > 4:\r\n",
    "            class_name_size = len(splitted[0:-4])\r\n",
    "            class_name = \" \".join(splitted[0:-4])\r\n",
    "            report_dict[class_name] = {}\r\n",
    "            for metric_index in range(len(metrics)):\r\n",
    "                metric = metrics[metric_index]\r\n",
    "                metric_val = splitted[metric_index + class_name_size]\r\n",
    "                report_dict[class_name][metric] = metric_val\r\n",
    "        elif len(splitted) > 0:\r\n",
    "            metric = splitted[0]\r\n",
    "            report_dict[metric] = {}\r\n",
    "            report_dict[metric][metrics[-2]] = splitted[1]\r\n",
    "            report_dict[metric][metrics[-1]] = splitted[2]\r\n",
    "    return report_dict"
   ],
   "outputs": [],
   "metadata": {}
  },
  {
   "cell_type": "code",
   "execution_count": 3,
   "source": [
    "def csv_to_dataframe(csv_name, csv_folder = \"\"):\r\n",
    "    if len(csv_folder) == 0:\r\n",
    "        return pd.read_csv(csv_name + \".csv\")\r\n",
    "    else:\r\n",
    "        return pd.read_csv(csv_folder + \"/\" + csv_name + \".csv\")"
   ],
   "outputs": [],
   "metadata": {}
  },
  {
   "cell_type": "markdown",
   "source": [
    "# Metrics"
   ],
   "metadata": {}
  },
  {
   "cell_type": "code",
   "execution_count": 4,
   "source": [
    "def get_metrics_avg(csv_name, dataset_name, model_name, folder_name = \"\", strategy = \"\", filter_dataset = True):\r\n",
    "    df = csv_to_dataframe(csv_name, folder_name)\r\n",
    "    \r\n",
    "    if filter_dataset:\r\n",
    "        df = df.loc[df['dataset'] == dataset_name]\r\n",
    "    if len(strategy) > 0:\r\n",
    "        df = df.loc[df['phase_strategy'] == strategy]\r\n",
    "        \r\n",
    "    df = df.loc[df['model'] == model_name]\r\n",
    "    reports_string = df['report'].tolist()\r\n",
    "    reports = []\r\n",
    "    for report in reports_string:\r\n",
    "        reports.append(report_string_to_dict(report))\r\n",
    "\r\n",
    "    accuracy = []\r\n",
    "    f1_score = []\r\n",
    "    f1_score_weighted = []\r\n",
    "    precision = []\r\n",
    "    recall = []\r\n",
    "\r\n",
    "    for report in reports:\r\n",
    "        accuracy.append(float(report['accuracy']['f1-score']))\r\n",
    "        precision.append(float(report['macro avg']['precision']))\r\n",
    "        recall.append(float(report['macro avg']['recall']))\r\n",
    "        f1_score.append(float(report['macro avg']['f1-score']))\r\n",
    "        f1_score_weighted.append(float(report['weighted avg']['f1-score']))\r\n",
    "\r\n",
    "    accuracy_dev = round(stdev(accuracy), 3)\r\n",
    "    precision_dev = round(stdev(precision), 3)\r\n",
    "    recall_dev = round(stdev(recall), 3)\r\n",
    "    f1_score_dev = round(stdev(accuracy), 3)\r\n",
    "    f1_score_weighted_dev = round(stdev(accuracy), 3)\r\n",
    "\r\n",
    "    accuracy_avg = round(mean(accuracy), 3)\r\n",
    "    precision_avg = round(mean(precision), 3)\r\n",
    "    recall_avg = round(mean(recall), 3)\r\n",
    "    f1_score_avg = round(mean(f1_score), 3)\r\n",
    "    f1_score_weighted_avg = round(mean(f1_score_weighted), 3)\r\n",
    "\r\n",
    "    result = {\r\n",
    "        'accuracy': {\r\n",
    "            'avg' : accuracy_avg,\r\n",
    "            'dev' : accuracy_dev\r\n",
    "        },\r\n",
    "        'precision':{\r\n",
    "            'avg' : precision_avg,\r\n",
    "            'dev' : precision_dev\r\n",
    "        },\r\n",
    "        'recall':{\r\n",
    "            'avg' : recall_avg,\r\n",
    "            'dev' : recall_dev\r\n",
    "        },\r\n",
    "        'f1_score': {\r\n",
    "            'avg' : f1_score_avg,\r\n",
    "            'dev' : f1_score_dev\r\n",
    "        },\r\n",
    "        'f1_score_weighted': {\r\n",
    "            'avg' : f1_score_weighted_avg,\r\n",
    "            'dev' : f1_score_weighted_dev\r\n",
    "        },\r\n",
    "    }\r\n",
    "\r\n",
    "    return result"
   ],
   "outputs": [],
   "metadata": {}
  },
  {
   "cell_type": "markdown",
   "source": [
    "## Results"
   ],
   "metadata": {}
  },
  {
   "cell_type": "markdown",
   "source": [
    "### Caesarian"
   ],
   "metadata": {}
  },
  {
   "cell_type": "code",
   "execution_count": 5,
   "source": [
    "get_metrics_avg('experiments_caesarian', 'caesarian.arff', 'sf', folder_name='results', filter_dataset=False)"
   ],
   "outputs": [
    {
     "output_type": "execute_result",
     "data": {
      "text/plain": [
       "{'accuracy': {'avg': 0.521, 'dev': 0.092},\n",
       " 'precision': {'avg': 0.505, 'dev': 0.226},\n",
       " 'recall': {'avg': 0.553, 'dev': 0.069},\n",
       " 'f1_score': {'avg': 0.452, 'dev': 0.092},\n",
       " 'f1_score_weighted': {'avg': 0.437, 'dev': 0.092}}"
      ]
     },
     "metadata": {},
     "execution_count": 5
    }
   ],
   "metadata": {}
  },
  {
   "cell_type": "code",
   "execution_count": 6,
   "source": [
    "get_metrics_avg('experiments_caesarian', 'caesarian.arff', 'hsgs', folder_name='results', filter_dataset=False)"
   ],
   "outputs": [
    {
     "output_type": "execute_result",
     "data": {
      "text/plain": [
       "{'accuracy': {'avg': 0.478, 'dev': 0.092},\n",
       " 'precision': {'avg': 0.4, 'dev': 0.228},\n",
       " 'recall': {'avg': 0.525, 'dev': 0.083},\n",
       " 'f1_score': {'avg': 0.395, 'dev': 0.092},\n",
       " 'f1_score_weighted': {'avg': 0.372, 'dev': 0.092}}"
      ]
     },
     "metadata": {},
     "execution_count": 6
    }
   ],
   "metadata": {}
  },
  {
   "cell_type": "code",
   "execution_count": 7,
   "source": [
    "get_metrics_avg('experiments_caesarian', 'caesarian.arff', 'phase-encoding', folder_name='results', filter_dataset=False, strategy=\"original\")"
   ],
   "outputs": [
    {
     "output_type": "execute_result",
     "data": {
      "text/plain": [
       "{'accuracy': {'avg': 0.463, 'dev': 0.092},\n",
       " 'precision': {'avg': 0.286, 'dev': 0.187},\n",
       " 'recall': {'avg': 0.518, 'dev': 0.082},\n",
       " 'f1_score': {'avg': 0.343, 'dev': 0.092},\n",
       " 'f1_score_weighted': {'avg': 0.316, 'dev': 0.092}}"
      ]
     },
     "metadata": {},
     "execution_count": 7
    }
   ],
   "metadata": {}
  },
  {
   "cell_type": "code",
   "execution_count": 8,
   "source": [
    "get_metrics_avg('experiments_caesarian', 'caesarian.arff', 'phase-encoding', folder_name='results', filter_dataset=False, strategy=\"angle\")"
   ],
   "outputs": [
    {
     "output_type": "execute_result",
     "data": {
      "text/plain": [
       "{'accuracy': {'avg': 0.455, 'dev': 0.081},\n",
       " 'precision': {'avg': 0.302, 'dev': 0.189},\n",
       " 'recall': {'avg': 0.509, 'dev': 0.072},\n",
       " 'f1_score': {'avg': 0.342, 'dev': 0.081},\n",
       " 'f1_score_weighted': {'avg': 0.316, 'dev': 0.081}}"
      ]
     },
     "metadata": {},
     "execution_count": 8
    }
   ],
   "metadata": {}
  },
  {
   "cell_type": "code",
   "execution_count": 9,
   "source": [
    "get_metrics_avg('experiments_caesarian', 'caesarian.arff', 'phase-encoding', folder_name='results', filter_dataset=False, strategy=\"radius\")"
   ],
   "outputs": [
    {
     "output_type": "execute_result",
     "data": {
      "text/plain": [
       "{'accuracy': {'avg': 0.448, 'dev': 0.03},\n",
       " 'precision': {'avg': 0.253, 'dev': 0.133},\n",
       " 'recall': {'avg': 0.507, 'dev': 0.027},\n",
       " 'f1_score': {'avg': 0.314, 'dev': 0.03},\n",
       " 'f1_score_weighted': {'avg': 0.284, 'dev': 0.03}}"
      ]
     },
     "metadata": {},
     "execution_count": 9
    }
   ],
   "metadata": {}
  },
  {
   "cell_type": "code",
   "execution_count": 10,
   "source": [
    "get_metrics_avg('experiments_caesarian', 'caesarian.arff', 'phase-encoding', folder_name='results', filter_dataset=False, strategy=\"angleradius\")"
   ],
   "outputs": [
    {
     "output_type": "execute_result",
     "data": {
      "text/plain": [
       "{'accuracy': {'avg': 0.44, 'dev': 0.022},\n",
       " 'precision': {'avg': 0.251, 'dev': 0.091},\n",
       " 'recall': {'avg': 0.494, 'dev': 0.035},\n",
       " 'f1_score': {'avg': 0.315, 'dev': 0.022},\n",
       " 'f1_score_weighted': {'avg': 0.288, 'dev': 0.022}}"
      ]
     },
     "metadata": {},
     "execution_count": 10
    }
   ],
   "metadata": {}
  },
  {
   "cell_type": "code",
   "execution_count": 11,
   "source": [
    "get_metrics_avg('classic_models_results', 'caesarian.arff', 'mlp', folder_name='results')"
   ],
   "outputs": [
    {
     "output_type": "execute_result",
     "data": {
      "text/plain": [
       "{'accuracy': {'avg': 0.571, 'dev': 0.069},\n",
       " 'precision': {'avg': 0.37, 'dev': 0.181},\n",
       " 'recall': {'avg': 0.538, 'dev': 0.083},\n",
       " 'f1_score': {'avg': 0.425, 'dev': 0.069},\n",
       " 'f1_score_weighted': {'avg': 0.449, 'dev': 0.069}}"
      ]
     },
     "metadata": {},
     "execution_count": 11
    }
   ],
   "metadata": {}
  },
  {
   "cell_type": "code",
   "execution_count": 12,
   "source": [
    "get_metrics_avg('classic_models_results', 'caesarian.arff', 'perceptron', folder_name='results')"
   ],
   "outputs": [
    {
     "output_type": "execute_result",
     "data": {
      "text/plain": [
       "{'accuracy': {'avg': 0.535, 'dev': 0.065},\n",
       " 'precision': {'avg': 0.367, 'dev': 0.197},\n",
       " 'recall': {'avg': 0.53, 'dev': 0.059},\n",
       " 'f1_score': {'avg': 0.393, 'dev': 0.065},\n",
       " 'f1_score_weighted': {'avg': 0.402, 'dev': 0.065}}"
      ]
     },
     "metadata": {},
     "execution_count": 12
    }
   ],
   "metadata": {}
  },
  {
   "cell_type": "markdown",
   "source": [
    "### Breast Tissue"
   ],
   "metadata": {}
  },
  {
   "cell_type": "markdown",
   "source": [
    "### 1 Neurônio"
   ],
   "metadata": {}
  },
  {
   "cell_type": "code",
   "execution_count": 13,
   "source": [
    "get_metrics_avg('experiments_breast_tissue_1_neuronio', 'breast_tissue_data.csv', 'sf', folder_name='results', filter_dataset=False)"
   ],
   "outputs": [
    {
     "output_type": "execute_result",
     "data": {
      "text/plain": [
       "{'accuracy': {'avg': 0.26, 'dev': 0.02},\n",
       " 'precision': {'avg': 0.292, 'dev': 0.029},\n",
       " 'recall': {'avg': 0.25, 'dev': 0.02},\n",
       " 'f1_score': {'avg': 0.235, 'dev': 0.02},\n",
       " 'f1_score_weighted': {'avg': 0.24, 'dev': 0.02}}"
      ]
     },
     "metadata": {},
     "execution_count": 13
    }
   ],
   "metadata": {}
  },
  {
   "cell_type": "code",
   "execution_count": 14,
   "source": [
    "get_metrics_avg('experiments_breast_tissue_1_neuronio', 'breast_tissue_data.csv', 'hsgs', folder_name='results', filter_dataset=False)"
   ],
   "outputs": [
    {
     "output_type": "execute_result",
     "data": {
      "text/plain": [
       "{'accuracy': {'avg': 0.206, 'dev': 0.035},\n",
       " 'precision': {'avg': 0.191, 'dev': 0.143},\n",
       " 'recall': {'avg': 0.2, 'dev': 0.03},\n",
       " 'f1_score': {'avg': 0.15, 'dev': 0.035},\n",
       " 'f1_score_weighted': {'avg': 0.151, 'dev': 0.035}}"
      ]
     },
     "metadata": {},
     "execution_count": 14
    }
   ],
   "metadata": {}
  },
  {
   "cell_type": "code",
   "execution_count": 15,
   "source": [
    "get_metrics_avg('experiments_breast_tissue_1_neuronio', 'breast_tissue_data.csv', 'phase-encoding', folder_name='results', filter_dataset=False, strategy=\"original\")"
   ],
   "outputs": [
    {
     "output_type": "execute_result",
     "data": {
      "text/plain": [
       "{'accuracy': {'avg': 0.17, 'dev': 0.052},\n",
       " 'precision': {'avg': 0.035, 'dev': 0.023},\n",
       " 'recall': {'avg': 0.174, 'dev': 0.057},\n",
       " 'f1_score': {'avg': 0.058, 'dev': 0.052},\n",
       " 'f1_score_weighted': {'avg': 0.061, 'dev': 0.052}}"
      ]
     },
     "metadata": {},
     "execution_count": 15
    }
   ],
   "metadata": {}
  },
  {
   "cell_type": "code",
   "execution_count": 16,
   "source": [
    "get_metrics_avg('experiments_breast_tissue_1_neuronio', 'breast_tissue_data.csv', 'phase-encoding', folder_name='results', filter_dataset=False, strategy=\"angle\")"
   ],
   "outputs": [
    {
     "output_type": "execute_result",
     "data": {
      "text/plain": [
       "{'accuracy': {'avg': 0.164, 'dev': 0.033},\n",
       " 'precision': {'avg': 0.03, 'dev': 0.005},\n",
       " 'recall': {'avg': 0.161, 'dev': 0.025},\n",
       " 'f1_score': {'avg': 0.05, 'dev': 0.033},\n",
       " 'f1_score_weighted': {'avg': 0.055, 'dev': 0.033}}"
      ]
     },
     "metadata": {},
     "execution_count": 16
    }
   ],
   "metadata": {}
  },
  {
   "cell_type": "code",
   "execution_count": 17,
   "source": [
    "get_metrics_avg('experiments_breast_tissue_1_neuronio', 'breast_tissue_data.csv', 'phase-encoding', folder_name='results', filter_dataset=False, strategy=\"radius\")"
   ],
   "outputs": [
    {
     "output_type": "execute_result",
     "data": {
      "text/plain": [
       "{'accuracy': {'avg': 0.155, 'dev': 0.041},\n",
       " 'precision': {'avg': 0.039, 'dev': 0.019},\n",
       " 'recall': {'avg': 0.161, 'dev': 0.042},\n",
       " 'f1_score': {'avg': 0.064, 'dev': 0.041},\n",
       " 'f1_score_weighted': {'avg': 0.061, 'dev': 0.041}}"
      ]
     },
     "metadata": {},
     "execution_count": 17
    }
   ],
   "metadata": {}
  },
  {
   "cell_type": "code",
   "execution_count": 18,
   "source": [
    "get_metrics_avg('experiments_breast_tissue_1_neuronio', 'breast_tissue_data.csv', 'phase-encoding', folder_name='results', filter_dataset=False, strategy=\"angleradius\")"
   ],
   "outputs": [
    {
     "output_type": "execute_result",
     "data": {
      "text/plain": [
       "{'accuracy': {'avg': 0.188, 'dev': 0.057},\n",
       " 'precision': {'avg': 0.051, 'dev': 0.036},\n",
       " 'recall': {'avg': 0.191, 'dev': 0.062},\n",
       " 'f1_score': {'avg': 0.077, 'dev': 0.057},\n",
       " 'f1_score_weighted': {'avg': 0.076, 'dev': 0.057}}"
      ]
     },
     "metadata": {},
     "execution_count": 18
    }
   ],
   "metadata": {}
  },
  {
   "cell_type": "code",
   "execution_count": 19,
   "source": [
    "get_metrics_avg('classic_models_results', 'breast_tissue_data.csv', 'mlp', folder_name='results')"
   ],
   "outputs": [
    {
     "output_type": "execute_result",
     "data": {
      "text/plain": [
       "{'accuracy': {'avg': 0.321, 'dev': 0.13},\n",
       " 'precision': {'avg': 0.177, 'dev': 0.146},\n",
       " 'recall': {'avg': 0.297, 'dev': 0.127},\n",
       " 'f1_score': {'avg': 0.187, 'dev': 0.13},\n",
       " 'f1_score_weighted': {'avg': 0.209, 'dev': 0.13}}"
      ]
     },
     "metadata": {},
     "execution_count": 19
    }
   ],
   "metadata": {}
  },
  {
   "cell_type": "code",
   "execution_count": 20,
   "source": [
    "get_metrics_avg('classic_models_results', 'breast_tissue_data.csv', 'perceptron', folder_name='results')"
   ],
   "outputs": [
    {
     "output_type": "execute_result",
     "data": {
      "text/plain": [
       "{'accuracy': {'avg': 0.318, 'dev': 0.097},\n",
       " 'precision': {'avg': 0.178, 'dev': 0.179},\n",
       " 'recall': {'avg': 0.273, 'dev': 0.112},\n",
       " 'f1_score': {'avg': 0.17, 'dev': 0.097},\n",
       " 'f1_score_weighted': {'avg': 0.203, 'dev': 0.097}}"
      ]
     },
     "metadata": {},
     "execution_count": 20
    }
   ],
   "metadata": {}
  },
  {
   "cell_type": "markdown",
   "source": [
    "### Múltiplos Neurônios"
   ],
   "metadata": {}
  },
  {
   "cell_type": "markdown",
   "source": [
    "# RoC Curve"
   ],
   "metadata": {}
  },
  {
   "cell_type": "code",
   "execution_count": 21,
   "source": [
    "def get_tp_and_fp_ratio_from_csv(csv_name, folder_name, index):\r\n",
    "    df = csv_to_dataframe(csv_name, folder_name)\r\n",
    "\r\n",
    "    matrix_str = df.iloc[index]['matrix']\r\n",
    "    matrix_str = matrix_str.replace(\"[\", \"\")\r\n",
    "    matrix_str = matrix_str.replace(\"]\", \"\")\r\n",
    "\r\n",
    "    matrix = []\r\n",
    "    for line in matrix_str.split('\\n'):\r\n",
    "        matrix.append([])\r\n",
    "        for element in line.strip().split():\r\n",
    "            matrix[-1].append(int(element))\r\n",
    "    tp_ratio = round(matrix[1][1]/(matrix[1][1] + matrix[1][0]), 3)\r\n",
    "    fp_ratio = round(matrix[0][1]/(matrix[1][1] + matrix[1][0]), 3)\r\n",
    "    return tp_ratio, fp_ratio"
   ],
   "outputs": [],
   "metadata": {}
  },
  {
   "cell_type": "code",
   "execution_count": 22,
   "source": [
    "def plot_roc(ratios_and_labels, filename = \"\"):\r\n",
    "    plt.title('Receiver Operating Characteristic')\r\n",
    "    color_index = 0\r\n",
    "    colors = ['bo', 'ro', 'g+', 'ko', 'yo']\r\n",
    "    for ratio_and_label in ratios_and_labels:\r\n",
    "        plt.plot(ratio_and_label[1], ratio_and_label[0], colors[color_index], label=ratio_and_label[2])\r\n",
    "        color_index += 1\r\n",
    "    plt.legend(loc='lower right')\r\n",
    "    plt.plot([0, 1], [0, 1], 'r--')\r\n",
    "    plt.xlim([0, 1])\r\n",
    "    plt.ylim([0, 1])\r\n",
    "    plt.ylabel('True Positive Rate')\r\n",
    "    plt.xlabel('False Positive Rate')\r\n",
    "    if len(filename) > 0:\r\n",
    "        plt.savefig(filename)"
   ],
   "outputs": [],
   "metadata": {}
  },
  {
   "cell_type": "markdown",
   "source": [
    "## Caesarian"
   ],
   "metadata": {}
  },
  {
   "cell_type": "code",
   "execution_count": 23,
   "source": [
    "tp_perceptron, fp_perceptron = get_tp_and_fp_ratio_from_csv('classic_models_results', 'results', 6)\r\n",
    "tp_mlp, fp_mlp = get_tp_and_fp_ratio_from_csv('classic_models_results', 'results', 21)\r\n",
    "tp_phase, fp_phase = get_tp_and_fp_ratio_from_csv('experiments_caesarian', 'results', 21)\r\n",
    "tp_hsgs, fp_hsgs = get_tp_and_fp_ratio_from_csv('experiments_caesarian', 'results', 4)\r\n",
    "tp_sf, fp_sf = get_tp_and_fp_ratio_from_csv('experiments_caesarian', 'results', 86)\r\n",
    "\r\n",
    "plot_roc([[tp_perceptron, fp_perceptron, 'Perceptron'],\r\n",
    "           [tp_mlp, fp_mlp, 'MLP'],\r\n",
    "           [tp_phase, fp_phase, 'Phase-Encoding'],\r\n",
    "           [tp_hsgs, fp_hsgs, 'HSGS'],\r\n",
    "           [tp_sf, fp_sf, 'Força Bruta']], \"results/caesarian_roc.png\")"
   ],
   "outputs": [
    {
     "output_type": "error",
     "ename": "IndexError",
     "evalue": "single positional indexer is out-of-bounds",
     "traceback": [
      "\u001b[1;31m---------------------------------------------------------------------------\u001b[0m",
      "\u001b[1;31mIndexError\u001b[0m                                Traceback (most recent call last)",
      "\u001b[1;32m<ipython-input-23-b559e7c0f646>\u001b[0m in \u001b[0;36m<module>\u001b[1;34m\u001b[0m\n\u001b[0;32m      3\u001b[0m \u001b[0mtp_phase\u001b[0m\u001b[1;33m,\u001b[0m \u001b[0mfp_phase\u001b[0m \u001b[1;33m=\u001b[0m \u001b[0mget_tp_and_fp_ratio_from_csv\u001b[0m\u001b[1;33m(\u001b[0m\u001b[1;34m'experiments_caesarian'\u001b[0m\u001b[1;33m,\u001b[0m \u001b[1;34m'results'\u001b[0m\u001b[1;33m,\u001b[0m \u001b[1;36m21\u001b[0m\u001b[1;33m)\u001b[0m\u001b[1;33m\u001b[0m\u001b[1;33m\u001b[0m\u001b[0m\n\u001b[0;32m      4\u001b[0m \u001b[0mtp_hsgs\u001b[0m\u001b[1;33m,\u001b[0m \u001b[0mfp_hsgs\u001b[0m \u001b[1;33m=\u001b[0m \u001b[0mget_tp_and_fp_ratio_from_csv\u001b[0m\u001b[1;33m(\u001b[0m\u001b[1;34m'experiments_caesarian'\u001b[0m\u001b[1;33m,\u001b[0m \u001b[1;34m'results'\u001b[0m\u001b[1;33m,\u001b[0m \u001b[1;36m4\u001b[0m\u001b[1;33m)\u001b[0m\u001b[1;33m\u001b[0m\u001b[1;33m\u001b[0m\u001b[0m\n\u001b[1;32m----> 5\u001b[1;33m \u001b[0mtp_sf\u001b[0m\u001b[1;33m,\u001b[0m \u001b[0mfp_sf\u001b[0m \u001b[1;33m=\u001b[0m \u001b[0mget_tp_and_fp_ratio_from_csv\u001b[0m\u001b[1;33m(\u001b[0m\u001b[1;34m'experiments_caesarian'\u001b[0m\u001b[1;33m,\u001b[0m \u001b[1;34m'results'\u001b[0m\u001b[1;33m,\u001b[0m \u001b[1;36m96\u001b[0m\u001b[1;33m)\u001b[0m\u001b[1;33m\u001b[0m\u001b[1;33m\u001b[0m\u001b[0m\n\u001b[0m\u001b[0;32m      6\u001b[0m \u001b[1;33m\u001b[0m\u001b[0m\n\u001b[0;32m      7\u001b[0m plot_roc([[tp_perceptron, fp_perceptron, 'Perceptron'],\n",
      "\u001b[1;32m<ipython-input-21-e3abb1163fbd>\u001b[0m in \u001b[0;36mget_tp_and_fp_ratio_from_csv\u001b[1;34m(csv_name, folder_name, index)\u001b[0m\n\u001b[0;32m      2\u001b[0m     \u001b[0mdf\u001b[0m \u001b[1;33m=\u001b[0m \u001b[0mcsv_to_dataframe\u001b[0m\u001b[1;33m(\u001b[0m\u001b[0mcsv_name\u001b[0m\u001b[1;33m,\u001b[0m \u001b[0mfolder_name\u001b[0m\u001b[1;33m)\u001b[0m\u001b[1;33m\u001b[0m\u001b[1;33m\u001b[0m\u001b[0m\n\u001b[0;32m      3\u001b[0m \u001b[1;33m\u001b[0m\u001b[0m\n\u001b[1;32m----> 4\u001b[1;33m     \u001b[0mmatrix_str\u001b[0m \u001b[1;33m=\u001b[0m \u001b[0mdf\u001b[0m\u001b[1;33m.\u001b[0m\u001b[0miloc\u001b[0m\u001b[1;33m[\u001b[0m\u001b[0mindex\u001b[0m\u001b[1;33m]\u001b[0m\u001b[1;33m[\u001b[0m\u001b[1;34m'matrix'\u001b[0m\u001b[1;33m]\u001b[0m\u001b[1;33m\u001b[0m\u001b[1;33m\u001b[0m\u001b[0m\n\u001b[0m\u001b[0;32m      5\u001b[0m     \u001b[0mmatrix_str\u001b[0m \u001b[1;33m=\u001b[0m \u001b[0mmatrix_str\u001b[0m\u001b[1;33m.\u001b[0m\u001b[0mreplace\u001b[0m\u001b[1;33m(\u001b[0m\u001b[1;34m\"[\"\u001b[0m\u001b[1;33m,\u001b[0m \u001b[1;34m\"\"\u001b[0m\u001b[1;33m)\u001b[0m\u001b[1;33m\u001b[0m\u001b[1;33m\u001b[0m\u001b[0m\n\u001b[0;32m      6\u001b[0m     \u001b[0mmatrix_str\u001b[0m \u001b[1;33m=\u001b[0m \u001b[0mmatrix_str\u001b[0m\u001b[1;33m.\u001b[0m\u001b[0mreplace\u001b[0m\u001b[1;33m(\u001b[0m\u001b[1;34m\"]\"\u001b[0m\u001b[1;33m,\u001b[0m \u001b[1;34m\"\"\u001b[0m\u001b[1;33m)\u001b[0m\u001b[1;33m\u001b[0m\u001b[1;33m\u001b[0m\u001b[0m\n",
      "\u001b[1;32m~\\AppData\\Local\\Programs\\Python\\Python39\\lib\\site-packages\\pandas\\core\\indexing.py\u001b[0m in \u001b[0;36m__getitem__\u001b[1;34m(self, key)\u001b[0m\n\u001b[0;32m    893\u001b[0m \u001b[1;33m\u001b[0m\u001b[0m\n\u001b[0;32m    894\u001b[0m             \u001b[0mmaybe_callable\u001b[0m \u001b[1;33m=\u001b[0m \u001b[0mcom\u001b[0m\u001b[1;33m.\u001b[0m\u001b[0mapply_if_callable\u001b[0m\u001b[1;33m(\u001b[0m\u001b[0mkey\u001b[0m\u001b[1;33m,\u001b[0m \u001b[0mself\u001b[0m\u001b[1;33m.\u001b[0m\u001b[0mobj\u001b[0m\u001b[1;33m)\u001b[0m\u001b[1;33m\u001b[0m\u001b[1;33m\u001b[0m\u001b[0m\n\u001b[1;32m--> 895\u001b[1;33m             \u001b[1;32mreturn\u001b[0m \u001b[0mself\u001b[0m\u001b[1;33m.\u001b[0m\u001b[0m_getitem_axis\u001b[0m\u001b[1;33m(\u001b[0m\u001b[0mmaybe_callable\u001b[0m\u001b[1;33m,\u001b[0m \u001b[0maxis\u001b[0m\u001b[1;33m=\u001b[0m\u001b[0maxis\u001b[0m\u001b[1;33m)\u001b[0m\u001b[1;33m\u001b[0m\u001b[1;33m\u001b[0m\u001b[0m\n\u001b[0m\u001b[0;32m    896\u001b[0m \u001b[1;33m\u001b[0m\u001b[0m\n\u001b[0;32m    897\u001b[0m     \u001b[1;32mdef\u001b[0m \u001b[0m_is_scalar_access\u001b[0m\u001b[1;33m(\u001b[0m\u001b[0mself\u001b[0m\u001b[1;33m,\u001b[0m \u001b[0mkey\u001b[0m\u001b[1;33m:\u001b[0m \u001b[0mTuple\u001b[0m\u001b[1;33m)\u001b[0m\u001b[1;33m:\u001b[0m\u001b[1;33m\u001b[0m\u001b[1;33m\u001b[0m\u001b[0m\n",
      "\u001b[1;32m~\\AppData\\Local\\Programs\\Python\\Python39\\lib\\site-packages\\pandas\\core\\indexing.py\u001b[0m in \u001b[0;36m_getitem_axis\u001b[1;34m(self, key, axis)\u001b[0m\n\u001b[0;32m   1499\u001b[0m \u001b[1;33m\u001b[0m\u001b[0m\n\u001b[0;32m   1500\u001b[0m             \u001b[1;31m# validate the location\u001b[0m\u001b[1;33m\u001b[0m\u001b[1;33m\u001b[0m\u001b[1;33m\u001b[0m\u001b[0m\n\u001b[1;32m-> 1501\u001b[1;33m             \u001b[0mself\u001b[0m\u001b[1;33m.\u001b[0m\u001b[0m_validate_integer\u001b[0m\u001b[1;33m(\u001b[0m\u001b[0mkey\u001b[0m\u001b[1;33m,\u001b[0m \u001b[0maxis\u001b[0m\u001b[1;33m)\u001b[0m\u001b[1;33m\u001b[0m\u001b[1;33m\u001b[0m\u001b[0m\n\u001b[0m\u001b[0;32m   1502\u001b[0m \u001b[1;33m\u001b[0m\u001b[0m\n\u001b[0;32m   1503\u001b[0m             \u001b[1;32mreturn\u001b[0m \u001b[0mself\u001b[0m\u001b[1;33m.\u001b[0m\u001b[0mobj\u001b[0m\u001b[1;33m.\u001b[0m\u001b[0m_ixs\u001b[0m\u001b[1;33m(\u001b[0m\u001b[0mkey\u001b[0m\u001b[1;33m,\u001b[0m \u001b[0maxis\u001b[0m\u001b[1;33m=\u001b[0m\u001b[0maxis\u001b[0m\u001b[1;33m)\u001b[0m\u001b[1;33m\u001b[0m\u001b[1;33m\u001b[0m\u001b[0m\n",
      "\u001b[1;32m~\\AppData\\Local\\Programs\\Python\\Python39\\lib\\site-packages\\pandas\\core\\indexing.py\u001b[0m in \u001b[0;36m_validate_integer\u001b[1;34m(self, key, axis)\u001b[0m\n\u001b[0;32m   1442\u001b[0m         \u001b[0mlen_axis\u001b[0m \u001b[1;33m=\u001b[0m \u001b[0mlen\u001b[0m\u001b[1;33m(\u001b[0m\u001b[0mself\u001b[0m\u001b[1;33m.\u001b[0m\u001b[0mobj\u001b[0m\u001b[1;33m.\u001b[0m\u001b[0m_get_axis\u001b[0m\u001b[1;33m(\u001b[0m\u001b[0maxis\u001b[0m\u001b[1;33m)\u001b[0m\u001b[1;33m)\u001b[0m\u001b[1;33m\u001b[0m\u001b[1;33m\u001b[0m\u001b[0m\n\u001b[0;32m   1443\u001b[0m         \u001b[1;32mif\u001b[0m \u001b[0mkey\u001b[0m \u001b[1;33m>=\u001b[0m \u001b[0mlen_axis\u001b[0m \u001b[1;32mor\u001b[0m \u001b[0mkey\u001b[0m \u001b[1;33m<\u001b[0m \u001b[1;33m-\u001b[0m\u001b[0mlen_axis\u001b[0m\u001b[1;33m:\u001b[0m\u001b[1;33m\u001b[0m\u001b[1;33m\u001b[0m\u001b[0m\n\u001b[1;32m-> 1444\u001b[1;33m             \u001b[1;32mraise\u001b[0m \u001b[0mIndexError\u001b[0m\u001b[1;33m(\u001b[0m\u001b[1;34m\"single positional indexer is out-of-bounds\"\u001b[0m\u001b[1;33m)\u001b[0m\u001b[1;33m\u001b[0m\u001b[1;33m\u001b[0m\u001b[0m\n\u001b[0m\u001b[0;32m   1445\u001b[0m \u001b[1;33m\u001b[0m\u001b[0m\n\u001b[0;32m   1446\u001b[0m     \u001b[1;31m# -------------------------------------------------------------------\u001b[0m\u001b[1;33m\u001b[0m\u001b[1;33m\u001b[0m\u001b[1;33m\u001b[0m\u001b[0m\n",
      "\u001b[1;31mIndexError\u001b[0m: single positional indexer is out-of-bounds"
     ]
    }
   ],
   "metadata": {}
  }
 ],
 "metadata": {
  "orig_nbformat": 4,
  "language_info": {
   "name": "python",
   "version": "3.9.5",
   "mimetype": "text/x-python",
   "codemirror_mode": {
    "name": "ipython",
    "version": 3
   },
   "pygments_lexer": "ipython3",
   "nbconvert_exporter": "python",
   "file_extension": ".py"
  },
  "kernelspec": {
   "name": "python3",
   "display_name": "Python 3.9.5 64-bit"
  },
  "interpreter": {
   "hash": "42fbc002943581b16f5e964e90a2017da702e7a1739ff8858595e3331101e287"
  }
 },
 "nbformat": 4,
 "nbformat_minor": 2
}