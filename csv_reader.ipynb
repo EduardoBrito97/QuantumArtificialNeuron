{
 "cells": [
  {
   "cell_type": "code",
   "execution_count": 40,
   "source": [
    "import pandas as pd"
   ],
   "outputs": [],
   "metadata": {}
  },
  {
   "cell_type": "code",
   "execution_count": 41,
   "source": [
    "def report_string_to_dict(report):\r\n",
    "    report_dict = {}\r\n",
    "    metrics = report.split('\\n')[0].split()\r\n",
    "    for row in report.split('\\n')[1:]:\r\n",
    "        splitted = row.split()\r\n",
    "        if len(splitted) > 4:\r\n",
    "            class_name_size = len(splitted[0:-4])\r\n",
    "            class_name = \" \".join(splitted[0:-4])\r\n",
    "            report_dict[class_name] = {}\r\n",
    "            for metric_index in range(len(metrics)):\r\n",
    "                metric = metrics[metric_index]\r\n",
    "                metric_val = splitted[metric_index + class_name_size]\r\n",
    "                report_dict[class_name][metric] = metric_val\r\n",
    "        elif len(splitted) > 0:\r\n",
    "            metric = splitted[0]\r\n",
    "            report_dict[metric] = {}\r\n",
    "            report_dict[metric][metrics[-2]] = splitted[1]\r\n",
    "            report_dict[metric][metrics[-1]] = splitted[2]\r\n",
    "    return report_dict"
   ],
   "outputs": [],
   "metadata": {}
  },
  {
   "cell_type": "code",
   "execution_count": 42,
   "source": [
    "def csv_to_dataframe(csv_name, csv_folder = \"\"):\r\n",
    "    if len(csv_folder) == 0:\r\n",
    "        return pd.read_csv(csv_name + \".csv\")\r\n",
    "    else:\r\n",
    "        return pd.read_csv(csv_folder + \"/\" + csv_name + \".csv\")"
   ],
   "outputs": [],
   "metadata": {}
  },
  {
   "cell_type": "code",
   "execution_count": 43,
   "source": [
    "def get_metrics_avg(csv_name, dataset_name, model_name):\r\n",
    "    df = csv_to_dataframe(csv_name)\r\n",
    "    df_for_dataset = df.loc[df['dataset'] == dataset_name]\r\n",
    "    df_for_dataset_and_model = df.loc[df['model'] == model_name]\r\n",
    "    reports_string = df_for_dataset_and_model['report'].tolist()\r\n",
    "    reports = []\r\n",
    "    for report in reports_string:\r\n",
    "        reports.append(report_string_to_dict(report))\r\n",
    "\r\n",
    "    num_of_instances = len(reports)\r\n",
    "\r\n",
    "    accuracy_avg = 0\r\n",
    "    f1_score_avg = 0\r\n",
    "    f1_score_weighted_avg = 0\r\n",
    "\r\n",
    "    for report in reports:\r\n",
    "        accuracy_avg += float(report['accuracy']['f1-score'])\r\n",
    "        f1_score_avg += float(report['macro avg']['f1-score'])\r\n",
    "        f1_score_weighted_avg += float(report['weighted avg']['f1-score'])\r\n",
    "\r\n",
    "    accuracy_avg = round(accuracy_avg / num_of_instances, 3)\r\n",
    "    f1_score_avg = round(f1_score_avg / num_of_instances, 3)\r\n",
    "    f1_score_weighted_avg = round(f1_score_weighted_avg / num_of_instances, 3)\r\n",
    "    return accuracy_avg, f1_score_avg, f1_score_weighted_avg"
   ],
   "outputs": [],
   "metadata": {}
  },
  {
   "cell_type": "code",
   "execution_count": 44,
   "source": [
    "get_metrics_avg('classic_models_results', 'caesarian.arff', 'perceptron')"
   ],
   "outputs": [
    {
     "output_type": "stream",
     "name": "stdout",
     "text": [
      "(0.371, 0.239, 0.245)\n"
     ]
    }
   ],
   "metadata": {}
  },
  {
   "cell_type": "code",
   "execution_count": null,
   "source": [
    "get_metrics_avg('classic_models_results', 'caesarian.arff', 'mlp')"
   ],
   "outputs": [],
   "metadata": {}
  },
  {
   "cell_type": "code",
   "execution_count": null,
   "source": [
    "get_metrics_avg('classic_models_results', 'breast_tissue_data.csv', 'perceptron')"
   ],
   "outputs": [],
   "metadata": {}
  },
  {
   "cell_type": "code",
   "execution_count": null,
   "source": [
    "get_metrics_avg('classic_models_results', 'breast_tissue_data.csv', 'mlp')"
   ],
   "outputs": [],
   "metadata": {}
  }
 ],
 "metadata": {
  "orig_nbformat": 4,
  "language_info": {
   "name": "python",
   "version": "3.9.5",
   "mimetype": "text/x-python",
   "codemirror_mode": {
    "name": "ipython",
    "version": 3
   },
   "pygments_lexer": "ipython3",
   "nbconvert_exporter": "python",
   "file_extension": ".py"
  },
  "kernelspec": {
   "name": "python3",
   "display_name": "Python 3.9.5 64-bit"
  },
  "interpreter": {
   "hash": "42fbc002943581b16f5e964e90a2017da702e7a1739ff8858595e3331101e287"
  }
 },
 "nbformat": 4,
 "nbformat_minor": 2
}