{
 "cells": [
  {
   "cell_type": "code",
   "execution_count": 1,
   "id": "d0455716",
   "metadata": {},
   "outputs": [],
   "source": [
    "# Tests using Quantum Artificial Neural models implementation on quantum_neural_models.ipynb\n",
    "# Author: Eduardo Barreto Brito/CIn UFPE"
   ]
  },
  {
   "cell_type": "code",
   "execution_count": 2,
   "id": "38d45a70",
   "metadata": {},
   "outputs": [],
   "source": [
    "%run quantum_neural_models.ipynb"
   ]
  },
  {
   "cell_type": "code",
   "execution_count": 3,
   "id": "c3b4bc09",
   "metadata": {},
   "outputs": [],
   "source": [
    "def run_circuit_and_get_amplitude(circuit):\n",
    "    # Transpile for simulator\n",
    "    simulator = Aer.get_backend('aer_simulator')\n",
    "    circuit = transpile(circuit, simulator)\n",
    "    circuit.save_unitary()\n",
    "\n",
    "    # Run and get unitary\n",
    "    result = simulator.run(circuit).result()\n",
    "    unitary = result.get_unitary(circuit)\n",
    "    return unitary.round(5)"
   ]
  },
  {
   "cell_type": "code",
   "execution_count": 4,
   "id": "052498d3",
   "metadata": {},
   "outputs": [
    {
     "name": "stdout",
     "output_type": "stream",
     "text": [
      "  q0    q1    ampl\n",
      "----  ----  ------\n",
      "   0     0       1\n",
      "   0     1      -1\n",
      "   1     0       1\n",
      "   1     1      -1\n"
     ]
    },
    {
     "data": {
      "image/png": "[encoded data removed]",
      "text/plain": [
       "<Figure size 732.295x144.48 with 1 Axes>"
      ]
     },
     "execution_count": 4,
     "metadata": {},
     "output_type": "execute_result"
    }
   ],
   "source": [
    "input = [1, -1, 1, -1]\n",
    "an = BruteForceQan(2)\n",
    "an.show_qubits_to_input_amplitudes_table(input)\n",
    "\n",
    "an.append_hadamard_gates()\n",
    "an.append_circuit(input)\n",
    "an.append_hadamard_gates()\n",
    "\n",
    "\n",
    "#an.finish_circuit()\n",
    "an._circuit.draw(output='mpl', initial_state=True)"
   ]
  },
  {
   "cell_type": "code",
   "execution_count": 5,
   "id": "6d761a8c",
   "metadata": {},
   "outputs": [
    {
     "name": "stdout",
     "output_type": "stream",
     "text": [
      "Circuit unitary:\n",
      " [[-0.+0.j -0.-0.j  1.-0.j  0.+0.j]\n",
      " [-0.-0.j  0.+0.j -0.+0.j  1.-0.j]\n",
      " [ 1.-0.j  0.+0.j -0.+0.j -0.+0.j]\n",
      " [-0.+0.j  1.-0.j -0.-0.j  0.+0.j]]\n"
     ]
    }
   ],
   "source": [
    "print(\"Circuit unitary:\\n\", run_circuit_and_get_amplitude(an._circuit))"
   ]
  },
  {
   "cell_type": "code",
   "execution_count": 6,
   "id": "c9a59435",
   "metadata": {},
   "outputs": [
    {
     "name": "stdout",
     "output_type": "stream",
     "text": [
      "  q0    q1    ampl\n",
      "----  ----  ------\n",
      "   0     0     0.5\n",
      "   0     1    -0.5\n",
      "   1     0     0.5\n",
      "   1     1    -0.5\n"
     ]
    },
    {
     "data": {
      "image/png": "[encoded data removed]",
      "text/plain": [
       "<Figure size 1454.7x144.48 with 1 Axes>"
      ]
     },
     "execution_count": 6,
     "metadata": {},
     "output_type": "execute_result"
    }
   ],
   "source": [
    "input = [0.5, -0.5, 0.5, -0.5]\n",
    "an = PhaseShiftBruteForceQan(2)\n",
    "\n",
    "an.show_qubits_to_input_amplitudes_table(input)\n",
    "\n",
    "an.append_hadamard_gates()\n",
    "an.append_circuit(input)\n",
    "an.append_hadamard_gates()\n",
    "\n",
    "#an.finish_circuit()\n",
    "an._circuit.draw(output='mpl', initial_state=True)"
   ]
  },
  {
   "cell_type": "code",
   "execution_count": 7,
   "id": "29e858f5",
   "metadata": {},
   "outputs": [
    {
     "name": "stdout",
     "output_type": "stream",
     "text": [
      "Circuit unitary:\n",
      " [[ 0.87758-0.j       0.     +0.j       0.     +0.47943j -0.     +0.j     ]\n",
      " [ 0.     +0.j       0.87758-0.j      -0.     -0.j       0.     +0.47943j]\n",
      " [ 0.     +0.47943j  0.     +0.j       0.87758-0.j      -0.     +0.j     ]\n",
      " [-0.     +0.j       0.     +0.47943j  0.     +0.j       0.87758-0.j     ]]\n"
     ]
    }
   ],
   "source": [
    "print(\"Circuit unitary:\\n\", run_circuit_and_get_amplitude(an._circuit))"
   ]
  },
  {
   "cell_type": "code",
   "execution_count": 8,
   "id": "e78e0c57",
   "metadata": {},
   "outputs": [
    {
     "name": "stdout",
     "output_type": "stream",
     "text": [
      "  q0    q1    ampl\n",
      "----  ----  ------\n",
      "   0     0       1\n",
      "   0     1      -1\n",
      "   1     0       1\n",
      "   1     1      -1\n"
     ]
    },
    {
     "data": {
      "image/png": "[encoded data removed]",
      "text/plain": [
       "<Figure size 491.495x144.48 with 1 Axes>"
      ]
     },
     "execution_count": 8,
     "metadata": {},
     "output_type": "execute_result"
    }
   ],
   "source": [
    "input = [1, -1, 1, -1]\n",
    "an = HSGSQan(2)\n",
    "\n",
    "an.show_qubits_to_input_amplitudes_table(input)\n",
    "\n",
    "an.append_hadamard_gates()\n",
    "an.append_circuit(input)\n",
    "an.append_hadamard_gates()\n",
    "\n",
    "#an.finish_circuit()\n",
    "an._circuit.draw(output='mpl', initial_state=True)"
   ]
  },
  {
   "cell_type": "code",
   "execution_count": 9,
   "id": "4de5afe1",
   "metadata": {},
   "outputs": [
    {
     "name": "stdout",
     "output_type": "stream",
     "text": [
      "Circuit unitary:\n",
      " [[-0.+0.j -0.-0.j  1.-0.j -0.+0.j]\n",
      " [-0.-0.j -0.+0.j -0.+0.j  1.-0.j]\n",
      " [ 1.-0.j -0.+0.j -0.+0.j -0.-0.j]\n",
      " [-0.+0.j  1.-0.j -0.-0.j -0.+0.j]]\n"
     ]
    }
   ],
   "source": [
    "print(\"Circuit unitary:\\n\", run_circuit_and_get_amplitude(an._circuit))"
   ]
  },
  {
   "cell_type": "code",
   "execution_count": 10,
   "id": "d1b9f14a",
   "metadata": {},
   "outputs": [
    {
     "name": "stdout",
     "output_type": "stream",
     "text": [
      "  q0    q1    ampl\n",
      "----  ----  ------\n",
      "   0     0      -1\n",
      "   0     1      -1\n",
      "   1     0       1\n",
      "   1     1       1\n"
     ]
    },
    {
     "data": {
      "image/png": "[encoded data removed]",
      "text/plain": [
       "<Figure size 611.895x144.48 with 1 Axes>"
      ]
     },
     "execution_count": 10,
     "metadata": {},
     "output_type": "execute_result"
    }
   ],
   "source": [
    "input = [-1, -1, 1, 1]\n",
    "an = HSGSQan(2)\n",
    "\n",
    "an.show_qubits_to_input_amplitudes_table(input)\n",
    "\n",
    "an.append_hadamard_gates()\n",
    "an.append_circuit(input)\n",
    "an.append_hadamard_gates()\n",
    "\n",
    "#an.finish_circuit()\n",
    "an._circuit.draw(output='mpl', initial_state=True)"
   ]
  },
  {
   "cell_type": "code",
   "execution_count": 11,
   "id": "7b6d9df3",
   "metadata": {},
   "outputs": [
    {
     "name": "stdout",
     "output_type": "stream",
     "text": [
      "Circuit unitary:\n",
      " [[-0.+0.j  0.+0.j -1.+0.j -0.+0.j]\n",
      " [-0.-0.j  0.-0.j  0.-0.j  1.-0.j]\n",
      " [ 1.-0.j  0.-0.j  0.-0.j -0.-0.j]\n",
      " [-0.+0.j -1.+0.j  0.+0.j -0.+0.j]]\n"
     ]
    }
   ],
   "source": [
    "print(\"Circuit unitary:\\n\", run_circuit_and_get_amplitude(an._circuit))"
   ]
  },
  {
   "cell_type": "code",
   "execution_count": 12,
   "id": "163f8ce2",
   "metadata": {},
   "outputs": [],
   "source": [
    "#simulator = Aer.get_backend('qasm_simulator')\n",
    "#result = execute(an._circuit, backend = simulator).result()\n",
    "#plot_histogram(result.get_counts(an._circuit))"
   ]
  },
  {
   "cell_type": "code",
   "execution_count": 13,
   "id": "54af47b3",
   "metadata": {},
   "outputs": [
    {
     "name": "stdout",
     "output_type": "stream",
     "text": [
      "Circuit unitary:\n",
      " [[ 0.70711+0.j  0.70711-0.j  0.     +0.j  0.     +0.j]\n",
      " [ 0.     +0.j  0.     +0.j  0.70711+0.j -0.70711+0.j]\n",
      " [ 0.     +0.j  0.     +0.j  0.70711+0.j  0.70711-0.j]\n",
      " [ 0.70711+0.j -0.70711+0.j  0.     +0.j  0.     +0.j]]\n"
     ]
    }
   ],
   "source": [
    "# Construct quantum circuit without measure\n",
    "circ = QuantumCircuit(2)\n",
    "circ.h(0)\n",
    "circ.cx(0, 1)\n",
    "circ.save_unitary()\n",
    "\n",
    "# Transpile for simulator\n",
    "simulator = Aer.get_backend('aer_simulator')\n",
    "circ = transpile(circ, simulator)\n",
    "\n",
    "# Run and get unitary\n",
    "result = simulator.run(circ).result()\n",
    "unitary = result.get_unitary(circ)\n",
    "print(\"Circuit unitary:\\n\", unitary.round(5))"
   ]
  },
  {
   "cell_type": "code",
   "execution_count": null,
   "id": "0f98bf8f",
   "metadata": {},
   "outputs": [],
   "source": []
  }
 ],
 "metadata": {
  "kernelspec": {
   "display_name": "Python 3",
   "language": "python",
   "name": "python3"
  },
  "language_info": {
   "codemirror_mode": {
    "name": "ipython",
    "version": 3
   },
   "file_extension": ".py",
   "mimetype": "text/x-python",
   "name": "python",
   "nbconvert_exporter": "python",
   "pygments_lexer": "ipython3",
   "version": "3.9.5"
  }
 },
 "nbformat": 4,
 "nbformat_minor": 5
}
