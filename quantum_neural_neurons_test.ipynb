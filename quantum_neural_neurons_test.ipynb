{
 "cells": [
  {
   "cell_type": "code",
   "execution_count": 1,
   "id": "a6cfece2",
   "metadata": {},
   "outputs": [],
   "source": [
    "# Tests using Quantum Artificial Neural models implementation on quantum_neural_models.ipynb\n",
    "# Author: Eduardo Barreto Brito/CIn UFPE"
   ]
  },
  {
   "cell_type": "code",
   "execution_count": 2,
   "id": "80e0d78b",
   "metadata": {},
   "outputs": [],
   "source": [
    "%run quantum_neural_models.ipynb"
   ]
  },
  {
   "cell_type": "code",
   "execution_count": 3,
   "id": "23ae7253",
   "metadata": {},
   "outputs": [],
   "source": [
    "def run_circuit_and_get_amplitude(circuit):\n",
    "    circuit = circuit.reverse_bits()\n",
    "    backend = Aer.get_backend('statevector_simulator')\n",
    "    result = execute(circuit, backend, shots=1000).result()\n",
    "    statevector = result.get_statevector(circuit)\n",
    "    return statevector.round(5)"
   ]
  },
  {
   "cell_type": "code",
   "execution_count": 4,
   "id": "f311699d",
   "metadata": {},
   "outputs": [
    {
     "name": "stdout",
     "output_type": "stream",
     "text": [
      "  q0    q1    ampl\n",
      "----  ----  ------\n",
      "   0     0       1\n",
      "   0     1      -1\n",
      "   1     0      -1\n",
      "   1     1      -1\n"
     ]
    },
    {
     "data": {
      "image/png": "[encoded data removed]",
      "text/plain": [
       "<Figure size 852.695x144.48 with 1 Axes>"
      ]
     },
     "execution_count": 4,
     "metadata": {},
     "output_type": "execute_result"
    }
   ],
   "source": [
    "input = [1, -1, -1, -1]\n",
    "weight = [-1, -1, -1, -1]\n",
    "\n",
    "an = BruteForceQan(2)\n",
    "an.show_qubits_to_input_amplitudes_table(input)\n",
    "\n",
    "an.append_hadamard_gates()\n",
    "an.append_circuit(input)\n",
    "#an.append_circuit(weight)\n",
    "#an.append_hadamard_gates()\n",
    "\n",
    "#an.finish_circuit()\n",
    "an._circuit.draw(output='mpl', initial_state=True)"
   ]
  },
  {
   "cell_type": "code",
   "execution_count": 5,
   "id": "d16e84f6",
   "metadata": {},
   "outputs": [
    {
     "name": "stdout",
     "output_type": "stream",
     "text": [
      "Circuit unitary:\n",
      " [ 0.5+0.j -0.5+0.j -0.5-0.j -0.5+0.j]\n"
     ]
    }
   ],
   "source": [
    "print(\"Circuit unitary:\\n\", run_circuit_and_get_amplitude(an._circuit))"
   ]
  },
  {
   "cell_type": "code",
   "execution_count": 6,
   "id": "c2531677",
   "metadata": {},
   "outputs": [
    {
     "name": "stdout",
     "output_type": "stream",
     "text": [
      "  q0    q1    ampl\n",
      "----  ----  ------\n",
      "   0     0     0.3\n",
      "   0     1    -0.2\n",
      "   1     0     0.6\n",
      "   1     1    -0.9\n"
     ]
    },
    {
     "data": {
      "image/png": "[encoded data removed]",
      "text/plain": [
       "<Figure size 1334.3x144.48 with 1 Axes>"
      ]
     },
     "execution_count": 6,
     "metadata": {},
     "output_type": "execute_result"
    }
   ],
   "source": [
    "input = [0.3, -0.2, 0.6, -0.9]\n",
    "an = PhaseEncodingBruteForceQan(2)\n",
    "\n",
    "an.show_qubits_to_input_amplitudes_table(input)\n",
    "\n",
    "an.append_hadamard_gates()\n",
    "an.append_circuit(input)\n",
    "#an.append_hadamard_gates()\n",
    "\n",
    "#an.finish_circuit()\n",
    "an._circuit.draw(output='mpl', initial_state=True)"
   ]
  },
  {
   "cell_type": "code",
   "execution_count": 7,
   "id": "bf400f21",
   "metadata": {},
   "outputs": [
    {
     "name": "stdout",
     "output_type": "stream",
     "text": [
      "Circuit unitary:\n",
      " [0.47767+0.14776j 0.49003+0.09933j 0.41267+0.28232j 0.3108 +0.39166j]\n"
     ]
    }
   ],
   "source": [
    "print(\"Circuit unitary:\\n\", run_circuit_and_get_amplitude(an._circuit))"
   ]
  },
  {
   "cell_type": "code",
   "execution_count": 8,
   "id": "37d1d4e8",
   "metadata": {},
   "outputs": [
    {
     "name": "stdout",
     "output_type": "stream",
     "text": [
      "  q0    q1    ampl\n",
      "----  ----  ------\n",
      "   0     0       1\n",
      "   0     1      -1\n",
      "   1     0       1\n",
      "   1     1      -1\n"
     ]
    },
    {
     "data": {
      "image/png": "[encoded data removed]",
      "text/plain": [
       "<Figure size 371.095x144.48 with 1 Axes>"
      ]
     },
     "execution_count": 8,
     "metadata": {},
     "output_type": "execute_result"
    }
   ],
   "source": [
    "input = [1, -1, 1, -1]\n",
    "an = HSGSQan(2)\n",
    "\n",
    "an.show_qubits_to_input_amplitudes_table(input)\n",
    "\n",
    "an.append_hadamard_gates()\n",
    "an.append_circuit(input)\n",
    "#an.append_hadamard_gates()\n",
    "\n",
    "#an.finish_circuit()\n",
    "an._circuit.draw(output='mpl', initial_state=True)"
   ]
  },
  {
   "cell_type": "code",
   "execution_count": 9,
   "id": "ce5f2f08",
   "metadata": {},
   "outputs": [
    {
     "name": "stdout",
     "output_type": "stream",
     "text": [
      "Circuit unitary:\n",
      " [ 0.5+0.j -0.5+0.j  0.5+0.j -0.5+0.j]\n"
     ]
    }
   ],
   "source": [
    "print(\"Circuit unitary:\\n\", run_circuit_and_get_amplitude(an._circuit))"
   ]
  },
  {
   "cell_type": "code",
   "execution_count": 10,
   "id": "6c52243e",
   "metadata": {},
   "outputs": [],
   "source": [
    "#simulator = Aer.get_backend('qasm_simulator')\n",
    "#result = execute(an._circuit, backend = simulator).result()\n",
    "#plot_histogram(result.get_counts(an._circuit))"
   ]
  },
  {
   "cell_type": "code",
   "execution_count": 11,
   "id": "6386c648",
   "metadata": {},
   "outputs": [
    {
     "name": "stdout",
     "output_type": "stream",
     "text": [
      "Circuit unitary:\n",
      " [[ 0.70711+0.j  0.70711-0.j  0.     +0.j  0.     +0.j]\n",
      " [ 0.     +0.j  0.     +0.j  0.70711+0.j -0.70711+0.j]\n",
      " [ 0.     +0.j  0.     +0.j  0.70711+0.j  0.70711-0.j]\n",
      " [ 0.70711+0.j -0.70711+0.j  0.     +0.j  0.     +0.j]]\n"
     ]
    }
   ],
   "source": [
    "# Construct quantum circuit without measure\n",
    "circ = QuantumCircuit(2)\n",
    "circ.h(0)\n",
    "circ.cx(0, 1)\n",
    "circ.save_unitary()\n",
    "\n",
    "# Transpile for simulator\n",
    "simulator = Aer.get_backend('aer_simulator')\n",
    "circ = transpile(circ, simulator)\n",
    "\n",
    "# Run and get unitary\n",
    "result = simulator.run(circ).result()\n",
    "unitary = result.get_unitary(circ)\n",
    "print(\"Circuit unitary:\\n\", unitary.round(5))"
   ]
  },
  {
   "cell_type": "code",
   "execution_count": null,
   "id": "59dc77c4",
   "metadata": {},
   "outputs": [],
   "source": []
  }
 ],
 "metadata": {
  "kernelspec": {
   "display_name": "Python 3",
   "language": "python",
   "name": "python3"
  },
  "language_info": {
   "codemirror_mode": {
    "name": "ipython",
    "version": 3
   },
   "file_extension": ".py",
   "mimetype": "text/x-python",
   "name": "python",
   "nbconvert_exporter": "python",
   "pygments_lexer": "ipython3",
   "version": "3.9.5"
  }
 },
 "nbformat": 4,
 "nbformat_minor": 5
}
