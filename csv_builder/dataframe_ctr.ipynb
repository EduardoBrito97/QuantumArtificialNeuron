{
 "cells": [
  {
   "cell_type": "code",
   "execution_count": 1,
   "source": [
    "import pandas as pd"
   ],
   "outputs": [],
   "metadata": {}
  },
  {
   "cell_type": "code",
   "execution_count": 2,
   "source": [
    "with open('reports.txt') as f:\r\n",
    "    file_txt = f.read()"
   ],
   "outputs": [],
   "metadata": {}
  },
  {
   "cell_type": "code",
   "execution_count": 3,
   "source": [
    "reports = file_txt.split('\\n------------------------------------------------------\\n')\r\n",
    "print(len(reports))"
   ],
   "outputs": [
    {
     "output_type": "stream",
     "name": "stdout",
     "text": [
      "3\n"
     ]
    }
   ],
   "metadata": {}
  },
  {
   "cell_type": "code",
   "execution_count": 4,
   "source": [
    "with open('matrizes.txt') as f:\r\n",
    "    file_txt = f.read()"
   ],
   "outputs": [],
   "metadata": {}
  },
  {
   "cell_type": "code",
   "execution_count": 5,
   "source": [
    "matrizes = file_txt.split('\\n------------------------------------------------------\\n')\r\n",
    "print(len(reports))"
   ],
   "outputs": [
    {
     "output_type": "stream",
     "name": "stdout",
     "text": [
      "3\n"
     ]
    }
   ],
   "metadata": {}
  },
  {
   "cell_type": "code",
   "execution_count": 6,
   "source": [
    "results = {'model':[],\r\n",
    "            'phase_strategy':[],\r\n",
    "            'bias':[],\r\n",
    "            'threshold':[],\r\n",
    "            'lr':[],\r\n",
    "            'matriz':[],\r\n",
    "            'report':[]}"
   ],
   "outputs": [],
   "metadata": {}
  },
  {
   "cell_type": "code",
   "execution_count": 7,
   "source": [
    "results['model'].append('sf')\r\n",
    "results['lr'].append(0.1)\r\n",
    "results['bias'].append(False)\r\n",
    "results['threshold'].append(0.5)\r\n",
    "results['phase_strategy'].append('original')\r\n",
    "results['matriz'].append(matrizes[0])\r\n",
    "results['report'].append(reports[0])"
   ],
   "outputs": [],
   "metadata": {}
  },
  {
   "cell_type": "code",
   "execution_count": 8,
   "source": [
    "# results['model'].append('sf')\r\n",
    "# results['lr'].append(0.1)\r\n",
    "# results['bias'].append(False)\r\n",
    "# results['threshold'].append(0.5)\r\n",
    "# results['phase_strategy'].append('original')\r\n",
    "# results['matriz'].append(matrizes[3])\r\n",
    "# results['report'].append(reports[3])"
   ],
   "outputs": [],
   "metadata": {}
  },
  {
   "cell_type": "code",
   "execution_count": 9,
   "source": [
    "results['model'].append('hsgs')\r\n",
    "results['lr'].append(0.1)\r\n",
    "results['bias'].append(False)\r\n",
    "results['threshold'].append(0.5)\r\n",
    "results['phase_strategy'].append('original')\r\n",
    "results['matriz'].append(matrizes[1])\r\n",
    "results['report'].append(reports[1])"
   ],
   "outputs": [],
   "metadata": {}
  },
  {
   "cell_type": "code",
   "execution_count": 10,
   "source": [
    "# results['model'].append('hsgs')\r\n",
    "# results['lr'].append(0.1)\r\n",
    "# results['bias'].append(False)\r\n",
    "# results['threshold'].append(0.5)\r\n",
    "# results['phase_strategy'].append('original')\r\n",
    "# results['matriz'].append(matrizes[4])\r\n",
    "# results['report'].append(reports[4])"
   ],
   "outputs": [],
   "metadata": {}
  },
  {
   "cell_type": "code",
   "execution_count": 11,
   "source": [
    "results['model'].append('phase-encoding')\r\n",
    "results['lr'].append(0.1)\r\n",
    "results['bias'].append(False)\r\n",
    "results['threshold'].append(0.5)\r\n",
    "results['phase_strategy'].append('original')\r\n",
    "results['matriz'].append(matrizes[2])\r\n",
    "results['report'].append(reports[2])"
   ],
   "outputs": [],
   "metadata": {}
  },
  {
   "cell_type": "code",
   "execution_count": 12,
   "source": [
    "# results['model'].append('phase-encoding')\r\n",
    "# results['lr'].append(0.1)\r\n",
    "# results['bias'].append(False)\r\n",
    "# results['threshold'].append(0.5)\r\n",
    "# results['phase_strategy'].append('original')\r\n",
    "# results['matriz'].append(matrizes[5])\r\n",
    "# results['report'].append(reports[5])"
   ],
   "outputs": [],
   "metadata": {}
  },
  {
   "cell_type": "code",
   "execution_count": 13,
   "source": [
    "df = pd.DataFrame(results)\r\n",
    "df.head()"
   ],
   "outputs": [
    {
     "output_type": "execute_result",
     "data": {
      "text/plain": [
       "            model phase_strategy   bias  threshold   lr  \\\n",
       "0              sf       original  False        0.5  0.1   \n",
       "1            hsgs       original  False        0.5  0.1   \n",
       "2  phase-encoding       original  False        0.5  0.1   \n",
       "\n",
       "                                              matriz  \\\n",
       "0  [[0, 5, 0, 0, 0, 0],\\n       [0, 4, 0, 0, 0, 0...   \n",
       "1  [[5, 0, 0, 0, 0, 0],\\n       [4, 0, 0, 0, 0, 0...   \n",
       "2  [[0, 0, 5, 0, 0, 0],\\n       [0, 0, 4, 0, 0, 0...   \n",
       "\n",
       "                                              report  \n",
       "0                precision    recall  f1-score   ...  \n",
       "1                precision    recall  f1-score   ...  \n",
       "2                precision    recall  f1-score   ...  "
      ],
      "text/html": [
       "<div>\n",
       "<style scoped>\n",
       "    .dataframe tbody tr th:only-of-type {\n",
       "        vertical-align: middle;\n",
       "    }\n",
       "\n",
       "    .dataframe tbody tr th {\n",
       "        vertical-align: top;\n",
       "    }\n",
       "\n",
       "    .dataframe thead th {\n",
       "        text-align: right;\n",
       "    }\n",
       "</style>\n",
       "<table border=\"1\" class=\"dataframe\">\n",
       "  <thead>\n",
       "    <tr style=\"text-align: right;\">\n",
       "      <th></th>\n",
       "      <th>model</th>\n",
       "      <th>phase_strategy</th>\n",
       "      <th>bias</th>\n",
       "      <th>threshold</th>\n",
       "      <th>lr</th>\n",
       "      <th>matriz</th>\n",
       "      <th>report</th>\n",
       "    </tr>\n",
       "  </thead>\n",
       "  <tbody>\n",
       "    <tr>\n",
       "      <th>0</th>\n",
       "      <td>sf</td>\n",
       "      <td>original</td>\n",
       "      <td>False</td>\n",
       "      <td>0.5</td>\n",
       "      <td>0.1</td>\n",
       "      <td>[[0, 5, 0, 0, 0, 0],\\n       [0, 4, 0, 0, 0, 0...</td>\n",
       "      <td>precision    recall  f1-score   ...</td>\n",
       "    </tr>\n",
       "    <tr>\n",
       "      <th>1</th>\n",
       "      <td>hsgs</td>\n",
       "      <td>original</td>\n",
       "      <td>False</td>\n",
       "      <td>0.5</td>\n",
       "      <td>0.1</td>\n",
       "      <td>[[5, 0, 0, 0, 0, 0],\\n       [4, 0, 0, 0, 0, 0...</td>\n",
       "      <td>precision    recall  f1-score   ...</td>\n",
       "    </tr>\n",
       "    <tr>\n",
       "      <th>2</th>\n",
       "      <td>phase-encoding</td>\n",
       "      <td>original</td>\n",
       "      <td>False</td>\n",
       "      <td>0.5</td>\n",
       "      <td>0.1</td>\n",
       "      <td>[[0, 0, 5, 0, 0, 0],\\n       [0, 0, 4, 0, 0, 0...</td>\n",
       "      <td>precision    recall  f1-score   ...</td>\n",
       "    </tr>\n",
       "  </tbody>\n",
       "</table>\n",
       "</div>"
      ]
     },
     "metadata": {},
     "execution_count": 13
    }
   ],
   "metadata": {}
  },
  {
   "cell_type": "code",
   "execution_count": 14,
   "source": [
    "df.to_csv('../results/experiments_breast_tissue_multi_neuronios.csv')"
   ],
   "outputs": [],
   "metadata": {}
  }
 ],
 "metadata": {
  "orig_nbformat": 4,
  "language_info": {
   "name": "python",
   "version": "3.9.5",
   "mimetype": "text/x-python",
   "codemirror_mode": {
    "name": "ipython",
    "version": 3
   },
   "pygments_lexer": "ipython3",
   "nbconvert_exporter": "python",
   "file_extension": ".py"
  },
  "kernelspec": {
   "name": "python3",
   "display_name": "Python 3.9.5 64-bit"
  },
  "interpreter": {
   "hash": "42fbc002943581b16f5e964e90a2017da702e7a1739ff8858595e3331101e287"
  }
 },
 "nbformat": 4,
 "nbformat_minor": 2
}